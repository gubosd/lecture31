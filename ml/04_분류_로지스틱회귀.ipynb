{
 "cells": [
  {
   "cell_type": "markdown",
   "id": "e21549ff",
   "metadata": {},
   "source": [
    "## 머신러닝\n",
    "# 분류 (Classification) 와 로지스틱회귀"
   ]
  },
  {
   "cell_type": "code",
   "execution_count": 1,
   "id": "b602991d",
   "metadata": {},
   "outputs": [],
   "source": [
    "import numpy as np\n",
    "import pandas as pd\n",
    "import matplotlib.pyplot as plt"
   ]
  },
  {
   "cell_type": "markdown",
   "id": "66611603",
   "metadata": {},
   "source": [
    "### Iris 데이터 불러오기"
   ]
  },
  {
   "cell_type": "code",
   "execution_count": 3,
   "id": "534687ee",
   "metadata": {},
   "outputs": [],
   "source": [
    "from sklearn.datasets import load_iris\n",
    "\n",
    "iris = load_iris()"
   ]
  },
  {
   "cell_type": "code",
   "execution_count": 3,
   "id": "47bdd265",
   "metadata": {},
   "outputs": [
    {
     "data": {
      "text/plain": [
       "((150, 4), (150,))"
      ]
     },
     "execution_count": 3,
     "metadata": {},
     "output_type": "execute_result"
    }
   ],
   "source": [
    "iris.data.shape, iris.target.shape"
   ]
  },
  {
   "cell_type": "code",
   "execution_count": 5,
   "id": "f132010f",
   "metadata": {},
   "outputs": [
    {
     "data": {
      "text/plain": [
       "['sepal length (cm)',\n",
       " 'sepal width (cm)',\n",
       " 'petal length (cm)',\n",
       " 'petal width (cm)']"
      ]
     },
     "execution_count": 5,
     "metadata": {},
     "output_type": "execute_result"
    }
   ],
   "source": [
    "iris.feature_names"
   ]
  },
  {
   "cell_type": "code",
   "execution_count": 4,
   "id": "4b340442",
   "metadata": {},
   "outputs": [
    {
     "data": {
      "text/plain": [
       "array(['setosa', 'versicolor', 'virginica'], dtype='<U10')"
      ]
     },
     "execution_count": 4,
     "metadata": {},
     "output_type": "execute_result"
    }
   ],
   "source": [
    "iris.target_names"
   ]
  },
  {
   "cell_type": "markdown",
   "id": "74638b13",
   "metadata": {},
   "source": [
    "### 해결하려는 문제는 무엇인가?\n",
    "> sepal_length 와 petal_length 속성값을 이용해 setosa/versicolor 품종을 맞추고(예측하고) 싶다"
   ]
  },
  {
   "cell_type": "code",
   "execution_count": 7,
   "id": "240219cb",
   "metadata": {},
   "outputs": [
    {
     "data": {
      "text/plain": [
       "(100, 2)"
      ]
     },
     "execution_count": 7,
     "metadata": {},
     "output_type": "execute_result"
    }
   ],
   "source": [
    "X = iris.data[:100, [0,2]] # 앞에서 부터 차례로 50개씩 setosa, versicolor, virginica 이다\n",
    "X.shape"
   ]
  },
  {
   "cell_type": "code",
   "execution_count": 8,
   "id": "acd62143",
   "metadata": {},
   "outputs": [
    {
     "data": {
      "text/plain": [
       "array([0, 0, 0, 0, 0, 0, 0, 0, 0, 0, 0, 0, 0, 0, 0, 0, 0, 0, 0, 0, 0, 0,\n",
       "       0, 0, 0, 0, 0, 0, 0, 0, 0, 0, 0, 0, 0, 0, 0, 0, 0, 0, 0, 0, 0, 0,\n",
       "       0, 0, 0, 0, 0, 0, 1, 1, 1, 1, 1, 1, 1, 1, 1, 1, 1, 1, 1, 1, 1, 1,\n",
       "       1, 1, 1, 1, 1, 1, 1, 1, 1, 1, 1, 1, 1, 1, 1, 1, 1, 1, 1, 1, 1, 1,\n",
       "       1, 1, 1, 1, 1, 1, 1, 1, 1, 1, 1, 1])"
      ]
     },
     "execution_count": 8,
     "metadata": {},
     "output_type": "execute_result"
    }
   ],
   "source": [
    "y = iris.target[:100]\n",
    "y       # 목표값이 0과 1로 되어있는지 확인하자"
   ]
  },
  {
   "cell_type": "code",
   "execution_count": 5,
   "id": "0f30ea0b",
   "metadata": {},
   "outputs": [
    {
     "data": {
      "text/plain": [
       "Text(0, 0.5, 'petal length')"
      ]
     },
     "execution_count": 5,
     "metadata": {},
     "output_type": "execute_result"
    },
    {
     "data": {
      "image/png": "[encoded data removed]",
      "text/plain": [
       "<Figure size 432x288 with 2 Axes>"
      ]
     },
     "metadata": {
      "needs_background": "light"
     },
     "output_type": "display_data"
    }
   ],
   "source": [
    "plt.scatter(X[:,0], X[:,1], c=y)\n",
    "plt.colorbar()\n",
    "plt.xlabel('sepal length')\n",
    "plt.ylabel('petal length')"
   ]
  },
  {
   "cell_type": "markdown",
   "id": "5cb2aa21",
   "metadata": {},
   "source": [
    "- 새로운 점(꽃)을 찍을 때, 어떤 품종으로 판단할 것인가?\n",
    "- 분류는 경계선을 그리는 것이다"
   ]
  },
  {
   "cell_type": "markdown",
   "id": "e80d67f6",
   "metadata": {},
   "source": [
    "### 로지스틱회귀(Logistic Regression) 적용\n",
    "- 품종의 **경계선**을 직선으로 긋는다"
   ]
  },
  {
   "cell_type": "code",
   "execution_count": 9,
   "id": "9048f015",
   "metadata": {},
   "outputs": [],
   "source": [
    "from sklearn.linear_model import LogisticRegression"
   ]
  },
  {
   "cell_type": "code",
   "execution_count": 10,
   "id": "96013e0e",
   "metadata": {},
   "outputs": [],
   "source": [
    "model = LogisticRegression()"
   ]
  },
  {
   "cell_type": "code",
   "execution_count": 11,
   "id": "9e5be278",
   "metadata": {},
   "outputs": [
    {
     "data": {
      "text/plain": [
       "LogisticRegression()"
      ]
     },
     "execution_count": 11,
     "metadata": {},
     "output_type": "execute_result"
    }
   ],
   "source": [
    "model.fit(X, y)"
   ]
  },
  {
   "cell_type": "code",
   "execution_count": 12,
   "id": "162e09dc",
   "metadata": {},
   "outputs": [
    {
     "data": {
      "text/plain": [
       "array([0, 0, 0, 0, 0, 0, 0, 0, 0, 0, 0, 0, 0, 0, 0, 0, 0, 0, 0, 0, 0, 0,\n",
       "       0, 0, 0, 0, 0, 0, 0, 0, 0, 0, 0, 0, 0, 0, 0, 0, 0, 0, 0, 0, 0, 0,\n",
       "       0, 0, 0, 0, 0, 0, 1, 1, 1, 1, 1, 1, 1, 1, 1, 1, 1, 1, 1, 1, 1, 1,\n",
       "       1, 1, 1, 1, 1, 1, 1, 1, 1, 1, 1, 1, 1, 1, 1, 1, 1, 1, 1, 1, 1, 1,\n",
       "       1, 1, 1, 1, 1, 1, 1, 1, 1, 1, 1, 1])"
      ]
     },
     "execution_count": 12,
     "metadata": {},
     "output_type": "execute_result"
    }
   ],
   "source": [
    "y_pred = model.predict(X)\n",
    "y_pred"
   ]
  },
  {
   "cell_type": "code",
   "execution_count": 15,
   "id": "23e4f825",
   "metadata": {},
   "outputs": [
    {
     "data": {
      "text/plain": [
       "array([0, 0, 0, 0, 0, 0, 0, 0, 0, 0, 0, 0, 0, 0, 0, 0, 0, 0, 0, 0, 0, 0,\n",
       "       0, 0, 0, 0, 0, 0, 0, 0, 0, 0, 0, 0, 0, 0, 0, 0, 0, 0, 0, 0, 0, 0,\n",
       "       0, 0, 0, 0, 0, 0, 1, 1, 1, 1, 1, 1, 1, 1, 1, 1, 1, 1, 1, 1, 1, 1,\n",
       "       1, 1, 1, 1, 1, 1, 1, 1, 1, 1, 1, 1, 1, 1, 1, 1, 1, 1, 1, 1, 1, 1,\n",
       "       1, 1, 1, 1, 1, 1, 1, 1, 1, 1, 1, 1])"
      ]
     },
     "execution_count": 15,
     "metadata": {},
     "output_type": "execute_result"
    }
   ],
   "source": [
    "y"
   ]
  },
  {
   "cell_type": "code",
   "execution_count": 16,
   "id": "f3fb9283",
   "metadata": {},
   "outputs": [
    {
     "data": {
      "text/plain": [
       "1.0"
      ]
     },
     "execution_count": 16,
     "metadata": {},
     "output_type": "execute_result"
    }
   ],
   "source": [
    "model.score(X, y) # 옳게 분류한 비율점수"
   ]
  },
  {
   "cell_type": "code",
   "execution_count": 17,
   "id": "2cf79e84",
   "metadata": {},
   "outputs": [
    {
     "data": {
      "text/plain": [
       "1.0"
      ]
     },
     "execution_count": 17,
     "metadata": {},
     "output_type": "execute_result"
    }
   ],
   "source": [
    "(y_pred == y).mean()"
   ]
  },
  {
   "cell_type": "markdown",
   "id": "126b78de",
   "metadata": {},
   "source": [
    "### 결과 분석"
   ]
  },
  {
   "cell_type": "code",
   "execution_count": 20,
   "id": "1d54bb42",
   "metadata": {},
   "outputs": [
    {
     "data": {
      "text/plain": [
       "array([[0.3653486 , 2.84071409]])"
      ]
     },
     "execution_count": 20,
     "metadata": {},
     "output_type": "execute_result"
    }
   ],
   "source": [
    "model.coef_ # 기울기, 가중치"
   ]
  },
  {
   "cell_type": "code",
   "execution_count": 19,
   "id": "3b4a53a5",
   "metadata": {},
   "outputs": [
    {
     "data": {
      "text/plain": [
       "array([-9.64260838])"
      ]
     },
     "execution_count": 19,
     "metadata": {},
     "output_type": "execute_result"
    }
   ],
   "source": [
    "model.intercept_"
   ]
  },
  {
   "cell_type": "code",
   "execution_count": 22,
   "id": "2d9dd9d1",
   "metadata": {},
   "outputs": [
    {
     "data": {
      "text/plain": [
       "(0.3653486007419136, 2.840714093869171, -9.642608384818239)"
      ]
     },
     "execution_count": 22,
     "metadata": {},
     "output_type": "execute_result"
    }
   ],
   "source": [
    "w1, w2 = model.coef_[0]\n",
    "b = model.intercept_[0]\n",
    "\n",
    "w1, w2, b"
   ]
  },
  {
   "cell_type": "code",
   "execution_count": 24,
   "id": "390f234a",
   "metadata": {},
   "outputs": [
    {
     "data": {
      "text/plain": [
       "[<matplotlib.lines.Line2D at 0x1d25d368190>]"
      ]
     },
     "execution_count": 24,
     "metadata": {},
     "output_type": "execute_result"
    },
    {
     "data": {
      "image/png": "[encoded data removed]",
      "text/plain": [
       "<Figure size 432x288 with 1 Axes>"
      ]
     },
     "metadata": {
      "needs_background": "light"
     },
     "output_type": "display_data"
    }
   ],
   "source": [
    "# w1*x + w2*y + b = 0\n",
    "# => y = -(w1*x+b)/w2\n",
    "\n",
    "xs = np.array([4, 7.5])\n",
    "ys = -(w1*xs + b)/w2\n",
    "\n",
    "plt.scatter(X[:,0], X[:,1], c=y)\n",
    "plt.plot(xs, ys)"
   ]
  },
  {
   "cell_type": "markdown",
   "id": "965a552d",
   "metadata": {},
   "source": [
    "### 시각화 툴 : mglearn\n",
    "> pip install mglearn"
   ]
  },
  {
   "cell_type": "code",
   "execution_count": null,
   "id": "143da566",
   "metadata": {},
   "outputs": [],
   "source": [
    "! pip install mglearn"
   ]
  },
  {
   "cell_type": "code",
   "execution_count": 13,
   "id": "f79ee792",
   "metadata": {},
   "outputs": [],
   "source": [
    "import mglearn"
   ]
  },
  {
   "cell_type": "code",
   "execution_count": 28,
   "id": "80e9a0f5",
   "metadata": {},
   "outputs": [
    {
     "data": {
      "text/plain": [
       "<matplotlib.legend.Legend at 0x1d25d6eee20>"
      ]
     },
     "execution_count": 28,
     "metadata": {},
     "output_type": "execute_result"
    },
    {
     "data": {
      "image/png": "[encoded data removed]",
      "text/plain": [
       "<Figure size 432x288 with 1 Axes>"
      ]
     },
     "metadata": {},
     "output_type": "display_data"
    }
   ],
   "source": [
    "mglearn.plots.plot_2d_separator(model, X, fill=False, eps=0.5, alpha=0.4)\n",
    "mglearn.discrete_scatter(X[:,0], X[:,1], y)\n",
    "plt.legend(['setosa','versicolor'], loc=4)"
   ]
  },
  {
   "cell_type": "markdown",
   "id": "6a556a37",
   "metadata": {},
   "source": [
    "### 3가지 품종을 분류"
   ]
  },
  {
   "cell_type": "code",
   "execution_count": 15,
   "id": "42bc4852",
   "metadata": {},
   "outputs": [
    {
     "data": {
      "text/plain": [
       "((150, 2), (150,))"
      ]
     },
     "execution_count": 15,
     "metadata": {},
     "output_type": "execute_result"
    }
   ],
   "source": [
    "X = iris.data[:, [0,2]]\n",
    "y = iris.target\n",
    "\n",
    "X.shape, y.shape"
   ]
  },
  {
   "cell_type": "code",
   "execution_count": 30,
   "id": "20b745db",
   "metadata": {},
   "outputs": [
    {
     "data": {
      "text/plain": [
       "array([0, 0, 0, 0, 0, 0, 0, 0, 0, 0, 0, 0, 0, 0, 0, 0, 0, 0, 0, 0, 0, 0,\n",
       "       0, 0, 0, 0, 0, 0, 0, 0, 0, 0, 0, 0, 0, 0, 0, 0, 0, 0, 0, 0, 0, 0,\n",
       "       0, 0, 0, 0, 0, 0, 1, 1, 1, 1, 1, 1, 1, 1, 1, 1, 1, 1, 1, 1, 1, 1,\n",
       "       1, 1, 1, 1, 1, 1, 1, 1, 1, 1, 1, 1, 1, 1, 1, 1, 1, 1, 1, 1, 1, 1,\n",
       "       1, 1, 1, 1, 1, 1, 1, 1, 1, 1, 1, 1, 2, 2, 2, 2, 2, 2, 2, 2, 2, 2,\n",
       "       2, 2, 2, 2, 2, 2, 2, 2, 2, 2, 2, 2, 2, 2, 2, 2, 2, 2, 2, 2, 2, 2,\n",
       "       2, 2, 2, 2, 2, 2, 2, 2, 2, 2, 2, 2, 2, 2, 2, 2, 2, 2])"
      ]
     },
     "execution_count": 30,
     "metadata": {},
     "output_type": "execute_result"
    }
   ],
   "source": [
    "y"
   ]
  },
  {
   "cell_type": "code",
   "execution_count": 31,
   "id": "f46b1841",
   "metadata": {},
   "outputs": [
    {
     "data": {
      "text/plain": [
       "<matplotlib.colorbar.Colorbar at 0x1d25d848640>"
      ]
     },
     "execution_count": 31,
     "metadata": {},
     "output_type": "execute_result"
    },
    {
     "data": {
      "image/png": "[encoded data removed]",
      "text/plain": [
       "<Figure size 432x288 with 2 Axes>"
      ]
     },
     "metadata": {
      "needs_background": "light"
     },
     "output_type": "display_data"
    }
   ],
   "source": [
    "plt.scatter(X[:,0], X[:,1], c=y)\n",
    "plt.colorbar()"
   ]
  },
  {
   "cell_type": "code",
   "execution_count": 16,
   "id": "5f3a7978",
   "metadata": {},
   "outputs": [],
   "source": [
    "model = LogisticRegression()\n",
    "model.fit(X, y)\n",
    "y_pred = model.predict(X)"
   ]
  },
  {
   "cell_type": "code",
   "execution_count": 17,
   "id": "1e5dbfbf",
   "metadata": {},
   "outputs": [
    {
     "data": {
      "text/plain": [
       "array([0, 0, 0, 0, 0, 0, 0, 0, 0, 0, 0, 0, 0, 0, 0, 0, 0, 0, 0, 0, 0, 0,\n",
       "       0, 0, 0, 0, 0, 0, 0, 0, 0, 0, 0, 0, 0, 0, 0, 0, 0, 0, 0, 0, 0, 0,\n",
       "       0, 0, 0, 0, 0, 0, 1, 1, 1, 1, 1, 1, 1, 1, 1, 1, 1, 1, 1, 1, 1, 1,\n",
       "       1, 1, 1, 1, 1, 1, 2, 1, 1, 1, 1, 2, 1, 1, 1, 1, 1, 2, 1, 1, 1, 1,\n",
       "       1, 1, 1, 1, 1, 1, 1, 1, 1, 1, 1, 1, 2, 2, 2, 2, 2, 2, 1, 2, 2, 2,\n",
       "       2, 2, 2, 2, 2, 2, 2, 2, 2, 2, 2, 2, 2, 2, 2, 2, 1, 2, 2, 2, 2, 2,\n",
       "       2, 2, 2, 2, 2, 2, 1, 2, 2, 2, 2, 2, 2, 2, 2, 2, 2, 2])"
      ]
     },
     "execution_count": 17,
     "metadata": {},
     "output_type": "execute_result"
    }
   ],
   "source": [
    "y_pred"
   ]
  },
  {
   "cell_type": "code",
   "execution_count": 18,
   "id": "4a6b9038",
   "metadata": {},
   "outputs": [
    {
     "data": {
      "text/plain": [
       "array([0, 0, 0, 0, 0, 0, 0, 0, 0, 0, 0, 0, 0, 0, 0, 0, 0, 0, 0, 0, 0, 0,\n",
       "       0, 0, 0, 0, 0, 0, 0, 0, 0, 0, 0, 0, 0, 0, 0, 0, 0, 0, 0, 0, 0, 0,\n",
       "       0, 0, 0, 0, 0, 0, 1, 1, 1, 1, 1, 1, 1, 1, 1, 1, 1, 1, 1, 1, 1, 1,\n",
       "       1, 1, 1, 1, 1, 1, 1, 1, 1, 1, 1, 1, 1, 1, 1, 1, 1, 1, 1, 1, 1, 1,\n",
       "       1, 1, 1, 1, 1, 1, 1, 1, 1, 1, 1, 1, 2, 2, 2, 2, 2, 2, 2, 2, 2, 2,\n",
       "       2, 2, 2, 2, 2, 2, 2, 2, 2, 2, 2, 2, 2, 2, 2, 2, 2, 2, 2, 2, 2, 2,\n",
       "       2, 2, 2, 2, 2, 2, 2, 2, 2, 2, 2, 2, 2, 2, 2, 2, 2, 2])"
      ]
     },
     "execution_count": 18,
     "metadata": {},
     "output_type": "execute_result"
    }
   ],
   "source": [
    "y"
   ]
  },
  {
   "cell_type": "code",
   "execution_count": 19,
   "id": "a8906a84",
   "metadata": {},
   "outputs": [
    {
     "data": {
      "text/plain": [
       "0.96"
      ]
     },
     "execution_count": 19,
     "metadata": {},
     "output_type": "execute_result"
    }
   ],
   "source": [
    "model.score(X, y)"
   ]
  },
  {
   "cell_type": "code",
   "execution_count": 38,
   "id": "1aa8d4e2",
   "metadata": {},
   "outputs": [
    {
     "data": {
      "text/plain": [
       "<matplotlib.legend.Legend at 0x1d25e888a30>"
      ]
     },
     "execution_count": 38,
     "metadata": {},
     "output_type": "execute_result"
    },
    {
     "data": {
      "image/png": "[encoded data removed]",
      "text/plain": [
       "<Figure size 432x288 with 1 Axes>"
      ]
     },
     "metadata": {},
     "output_type": "display_data"
    }
   ],
   "source": [
    "mglearn.plots.plot_2d_classification(model, X, fill=True, eps=0.5, alpha=0.4)\n",
    "mglearn.discrete_scatter(X[:,0], X[:,1], y)\n",
    "plt.legend(['setosa','versicolor','virginica'], loc=4)"
   ]
  },
  {
   "cell_type": "code",
   "execution_count": 39,
   "id": "41c50bc2",
   "metadata": {},
   "outputs": [
    {
     "data": {
      "text/plain": [
       "array([[-0.27474561, -3.10539363],\n",
       "       [ 0.49060283, -0.43408086],\n",
       "       [-0.21585722,  3.5394745 ]])"
      ]
     },
     "execution_count": 39,
     "metadata": {},
     "output_type": "execute_result"
    }
   ],
   "source": [
    "model.coef_"
   ]
  },
  {
   "cell_type": "code",
   "execution_count": 40,
   "id": "95d5fd1f",
   "metadata": {},
   "outputs": [
    {
     "data": {
      "text/plain": [
       "array([ 12.53749025,   1.22176426, -13.75925452])"
      ]
     },
     "execution_count": 40,
     "metadata": {},
     "output_type": "execute_result"
    }
   ],
   "source": [
    "model.intercept_"
   ]
  },
  {
   "cell_type": "markdown",
   "id": "3bb00de7",
   "metadata": {},
   "source": [
    "### 모든 속성을 사용하여 분류"
   ]
  },
  {
   "cell_type": "code",
   "execution_count": 20,
   "id": "56708b0e",
   "metadata": {},
   "outputs": [
    {
     "data": {
      "text/plain": [
       "((150, 4), (150,))"
      ]
     },
     "execution_count": 20,
     "metadata": {},
     "output_type": "execute_result"
    }
   ],
   "source": [
    "X = iris.data\n",
    "y = iris.target\n",
    "\n",
    "X.shape, y.shape"
   ]
  },
  {
   "cell_type": "code",
   "execution_count": 21,
   "id": "4460bb71",
   "metadata": {},
   "outputs": [
    {
     "name": "stderr",
     "output_type": "stream",
     "text": [
      "d:\\Anaconda3\\lib\\site-packages\\sklearn\\linear_model\\_logistic.py:763: ConvergenceWarning: lbfgs failed to converge (status=1):\n",
      "STOP: TOTAL NO. of ITERATIONS REACHED LIMIT.\n",
      "\n",
      "Increase the number of iterations (max_iter) or scale the data as shown in:\n",
      "    https://scikit-learn.org/stable/modules/preprocessing.html\n",
      "Please also refer to the documentation for alternative solver options:\n",
      "    https://scikit-learn.org/stable/modules/linear_model.html#logistic-regression\n",
      "  n_iter_i = _check_optimize_result(\n"
     ]
    }
   ],
   "source": [
    "model = LogisticRegression()\n",
    "model.fit(X, y)\n",
    "y_pred = model.predict(X)"
   ]
  },
  {
   "cell_type": "code",
   "execution_count": 22,
   "id": "5ccea1e7",
   "metadata": {},
   "outputs": [
    {
     "data": {
      "text/plain": [
       "0.9733333333333334"
      ]
     },
     "execution_count": 22,
     "metadata": {},
     "output_type": "execute_result"
    }
   ],
   "source": [
    "model.score(X, y)"
   ]
  },
  {
   "cell_type": "markdown",
   "id": "550515b9",
   "metadata": {},
   "source": [
    "- 예측이 틀린 데이터 출력"
   ]
  },
  {
   "cell_type": "code",
   "execution_count": 72,
   "id": "b6fbda4e",
   "metadata": {},
   "outputs": [
    {
     "data": {
      "text/plain": [
       "(array([ 70,  77,  83, 106], dtype=int64),)"
      ]
     },
     "execution_count": 72,
     "metadata": {},
     "output_type": "execute_result"
    }
   ],
   "source": [
    "np.where(y_pred!=y)"
   ]
  },
  {
   "cell_type": "code",
   "execution_count": 73,
   "id": "af1ee811",
   "metadata": {},
   "outputs": [
    {
     "data": {
      "text/plain": [
       "array([[5.9, 3.2, 4.8, 1.8],\n",
       "       [6.7, 3. , 5. , 1.7],\n",
       "       [6. , 2.7, 5.1, 1.6],\n",
       "       [4.9, 2.5, 4.5, 1.7]])"
      ]
     },
     "metadata": {},
     "output_type": "display_data"
    },
    {
     "data": {
      "text/plain": [
       "array([1, 1, 1, 2])"
      ]
     },
     "metadata": {},
     "output_type": "display_data"
    },
    {
     "data": {
      "text/plain": [
       "array([2, 2, 2, 1])"
      ]
     },
     "metadata": {},
     "output_type": "display_data"
    }
   ],
   "source": [
    "idx = np.where(y_pred != y)[0]\n",
    "\n",
    "display(X[idx], y[idx], y_pred[idx])"
   ]
  },
  {
   "cell_type": "code",
   "execution_count": 74,
   "id": "d89f9fa4",
   "metadata": {},
   "outputs": [
    {
     "data": {
      "text/plain": [
       "([<matplotlib.axis.YTick at 0x1d25eeed580>,\n",
       "  <matplotlib.axis.YTick at 0x1d25eeed160>,\n",
       "  <matplotlib.axis.YTick at 0x1d25eff6e50>],\n",
       " [Text(0, 0, 'setosa'), Text(0, 1, 'versicolor'), Text(0, 2, 'virginica')])"
      ]
     },
     "execution_count": 74,
     "metadata": {},
     "output_type": "execute_result"
    },
    {
     "data": {
      "image/png": "[encoded data removed]",
      "text/plain": [
       "<Figure size 432x288 with 1 Axes>"
      ]
     },
     "metadata": {
      "needs_background": "light"
     },
     "output_type": "display_data"
    }
   ],
   "source": [
    "plt.plot(y_pred)\n",
    "plt.yticks([0,1,2], ['setosa', 'versicolor', 'virginica'])"
   ]
  },
  {
   "cell_type": "code",
   "execution_count": null,
   "id": "b0540e7e",
   "metadata": {},
   "outputs": [],
   "source": []
  },
  {
   "cell_type": "code",
   "execution_count": 75,
   "id": "3cdddb11",
   "metadata": {},
   "outputs": [
    {
     "data": {
      "text/plain": [
       "array([[9.81784372e-01, 1.82156139e-02, 1.43263055e-08],\n",
       "       [9.71695385e-01, 2.83045847e-02, 2.99722563e-08],\n",
       "       [9.85437924e-01, 1.45620642e-02, 1.22390690e-08],\n",
       "       [9.76283458e-01, 2.37165031e-02, 3.94477018e-08],\n",
       "       [9.85377084e-01, 1.46229041e-02, 1.18581267e-08],\n",
       "       [9.70448954e-01, 2.95509727e-02, 7.30136213e-08],\n",
       "       [9.86883088e-01, 1.31168918e-02, 1.98305765e-08],\n",
       "       [9.76384869e-01, 2.36151039e-02, 2.74412909e-08],\n",
       "       [9.79830789e-01, 2.01691805e-02, 3.04750123e-08],\n",
       "       [9.69110253e-01, 3.08897151e-02, 3.14428143e-08],\n",
       "       [9.76485853e-01, 2.35141277e-02, 1.90891757e-08],\n",
       "       [9.75402109e-01, 2.45978478e-02, 4.35439808e-08],\n",
       "       [9.74537509e-01, 2.54624700e-02, 2.13446809e-08],\n",
       "       [9.91966752e-01, 8.03324402e-03, 3.86592700e-09],\n",
       "       [9.88186563e-01, 1.18134340e-02, 2.78813699e-09],\n",
       "       [9.86764755e-01, 1.32352322e-02, 1.26940807e-08],\n",
       "       [9.88102880e-01, 1.18971112e-02, 9.13247136e-09],\n",
       "       [9.81538687e-01, 1.84612935e-02, 1.95602115e-08],\n",
       "       [9.56551674e-01, 4.34482579e-02, 6.79510824e-08],\n",
       "       [9.84112939e-01, 1.58870408e-02, 2.03755533e-08],\n",
       "       [9.46731917e-01, 5.32679972e-02, 8.58486899e-08],\n",
       "       [9.81735029e-01, 1.82649388e-02, 3.26408224e-08],\n",
       "       [9.96004765e-01, 3.99523377e-03, 1.30205512e-09],\n",
       "       [9.52291236e-01, 4.77085282e-02, 2.35843745e-07],\n",
       "       [9.51859783e-01, 4.81400119e-02, 2.04786440e-07],\n",
       "       [9.51524221e-01, 4.84756928e-02, 8.63538736e-08],\n",
       "       [9.69607939e-01, 3.03919755e-02, 8.58493443e-08],\n",
       "       [9.74913965e-01, 2.50860098e-02, 2.47796862e-08],\n",
       "       [9.77329272e-01, 2.26707103e-02, 1.72927261e-08],\n",
       "       [9.71217350e-01, 2.87825917e-02, 5.81325431e-08],\n",
       "       [9.64271866e-01, 3.57280640e-02, 6.99853033e-08],\n",
       "       [9.64916420e-01, 3.50835231e-02, 5.71965578e-08],\n",
       "       [9.88378328e-01, 1.16216653e-02, 6.95951326e-09],\n",
       "       [9.89061697e-01, 1.09382980e-02, 5.25124135e-09],\n",
       "       [9.68699073e-01, 3.13008842e-02, 4.29225126e-08],\n",
       "       [9.84652768e-01, 1.53472243e-02, 7.93946857e-09],\n",
       "       [9.78931628e-01, 2.10683629e-02, 9.56334512e-09],\n",
       "       [9.86863972e-01, 1.31360198e-02, 8.43281811e-09],\n",
       "       [9.85845076e-01, 1.41549081e-02, 1.54378179e-08],\n",
       "       [9.74090080e-01, 2.59098922e-02, 2.82314235e-08],\n",
       "       [9.86619657e-01, 1.33803314e-02, 1.12876743e-08],\n",
       "       [9.62200891e-01, 3.77990431e-02, 6.59509902e-08],\n",
       "       [9.89012400e-01, 1.09875890e-02, 1.12013501e-08],\n",
       "       [9.72445943e-01, 2.75539203e-02, 1.36567716e-07],\n",
       "       [9.60255765e-01, 3.97440142e-02, 2.21026559e-07],\n",
       "       [9.73851347e-01, 2.61486130e-02, 3.97813795e-08],\n",
       "       [9.80313144e-01, 1.96868312e-02, 2.51039767e-08],\n",
       "       [9.83337542e-01, 1.66624383e-02, 2.00047363e-08],\n",
       "       [9.78573121e-01, 2.14268600e-02, 1.85508726e-08],\n",
       "       [9.78661656e-01, 2.13383246e-02, 1.91473694e-08],\n",
       "       [2.11817318e-03, 8.74345855e-01, 1.23535972e-01],\n",
       "       [5.78238592e-03, 8.59983283e-01, 1.34234331e-01],\n",
       "       [1.05481825e-03, 7.25617067e-01, 2.73328114e-01],\n",
       "       [1.53595866e-02, 9.39332819e-01, 4.53075949e-02],\n",
       "       [2.36506021e-03, 8.14813397e-01, 1.82821543e-01],\n",
       "       [6.92415657e-03, 8.60216087e-01, 1.32859757e-01],\n",
       "       [3.74009640e-03, 7.17259126e-01, 2.79000778e-01],\n",
       "       [1.47597030e-01, 8.49321621e-01, 3.08134926e-03],\n",
       "       [2.76503802e-03, 8.96730333e-01, 1.00504629e-01],\n",
       "       [4.12108160e-02, 9.11905496e-01, 4.68836883e-02],\n",
       "       [5.57804889e-02, 9.37669598e-01, 6.54991287e-03],\n",
       "       [1.50858224e-02, 8.98755395e-01, 8.61587830e-02],\n",
       "       [9.09513384e-03, 9.76461728e-01, 1.44431387e-02],\n",
       "       [3.02464591e-03, 7.79496019e-01, 2.17479335e-01],\n",
       "       [7.42906807e-02, 9.15206519e-01, 1.05028004e-02],\n",
       "       [5.26611383e-03, 9.26399033e-01, 6.83348529e-02],\n",
       "       [8.62627717e-03, 7.74859078e-01, 2.16514644e-01],\n",
       "       [1.63736218e-02, 9.65253100e-01, 1.83732786e-02],\n",
       "       [1.80282145e-03, 7.99335099e-01, 1.98862079e-01],\n",
       "       [2.38926129e-02, 9.59421882e-01, 1.66855050e-02],\n",
       "       [2.28043784e-03, 4.40467291e-01, 5.57252271e-01],\n",
       "       [1.67899996e-02, 9.56714532e-01, 2.64954681e-02],\n",
       "       [7.09276300e-04, 5.95322698e-01, 4.03968025e-01],\n",
       "       [3.01729097e-03, 8.60203877e-01, 1.36778832e-01],\n",
       "       [7.05234028e-03, 9.42928761e-01, 5.00188983e-02],\n",
       "       [5.05958629e-03, 9.20076733e-01, 7.48636805e-02],\n",
       "       [1.11484519e-03, 8.01449903e-01, 1.97435252e-01],\n",
       "       [5.74179758e-04, 4.81144143e-01, 5.18281678e-01],\n",
       "       [5.44207123e-03, 8.12929833e-01, 1.81628096e-01],\n",
       "       [6.17029711e-02, 9.34897767e-01, 3.39926145e-03],\n",
       "       [2.90803810e-02, 9.57210211e-01, 1.37094075e-02],\n",
       "       [3.71027557e-02, 9.55314691e-01, 7.58255325e-03],\n",
       "       [2.51074877e-02, 9.56475520e-01, 1.84169923e-02],\n",
       "       [4.44086891e-04, 3.49559498e-01, 6.49996415e-01],\n",
       "       [1.01141701e-02, 7.51163084e-01, 2.38722746e-01],\n",
       "       [9.89854656e-03, 7.89392500e-01, 2.00708954e-01],\n",
       "       [2.25198768e-03, 8.05416767e-01, 1.92331245e-01],\n",
       "       [2.75731821e-03, 9.12573633e-01, 8.46690486e-02],\n",
       "       [2.68715121e-02, 9.28704773e-01, 4.44237148e-02],\n",
       "       [1.98203556e-02, 9.37893868e-01, 4.22857767e-02],\n",
       "       [8.64620254e-03, 8.97845322e-01, 9.35084759e-02],\n",
       "       [4.60904426e-03, 8.28536131e-01, 1.66854825e-01],\n",
       "       [1.75218547e-02, 9.56950481e-01, 2.55276647e-02],\n",
       "       [1.21659585e-01, 8.75260675e-01, 3.07974036e-03],\n",
       "       [1.43728561e-02, 9.20375716e-01, 6.52514277e-02],\n",
       "       [1.98449726e-02, 9.38310694e-01, 4.18443338e-02],\n",
       "       [1.69846572e-02, 9.25505090e-01, 5.75102525e-02],\n",
       "       [8.45898742e-03, 9.35122852e-01, 5.64181607e-02],\n",
       "       [2.43908057e-01, 7.54786975e-01, 1.30496758e-03],\n",
       "       [1.90549962e-02, 9.36030107e-01, 4.49148963e-02],\n",
       "       [8.86831959e-07, 3.92280585e-03, 9.96076307e-01],\n",
       "       [2.38959393e-04, 1.62017883e-01, 8.37743158e-01],\n",
       "       [2.45173544e-06, 2.56011232e-02, 9.74396425e-01],\n",
       "       [3.08386835e-05, 8.18837923e-02, 9.18085369e-01],\n",
       "       [3.67711280e-06, 1.74459026e-02, 9.82550420e-01],\n",
       "       [5.47429117e-08, 4.66424296e-03, 9.95335702e-01],\n",
       "       [5.68366066e-03, 5.12026091e-01, 4.82290249e-01],\n",
       "       [6.16104607e-07, 2.14739908e-02, 9.78525393e-01],\n",
       "       [5.15619208e-06, 5.31982273e-02, 9.46796617e-01],\n",
       "       [6.46077248e-07, 5.77247800e-03, 9.94226876e-01],\n",
       "       [2.98812895e-04, 2.10452734e-01, 7.89248453e-01],\n",
       "       [7.17507182e-05, 1.36877152e-01, 8.63051097e-01],\n",
       "       [2.09968253e-05, 6.51757925e-02, 9.34803211e-01],\n",
       "       [2.25127180e-04, 1.44196228e-01, 8.55578645e-01],\n",
       "       [6.75534747e-05, 4.31342968e-02, 9.56798150e-01],\n",
       "       [5.08242986e-05, 5.39249627e-02, 9.46024213e-01],\n",
       "       [5.50041220e-05, 1.23212253e-01, 8.76732743e-01],\n",
       "       [8.41900015e-08, 3.61482723e-03, 9.96385089e-01],\n",
       "       [3.10081947e-09, 1.00022259e-03, 9.98999774e-01],\n",
       "       [3.85139902e-04, 4.50296955e-01, 5.49317905e-01],\n",
       "       [5.52443961e-06, 2.38481531e-02, 9.76146322e-01],\n",
       "       [6.03372763e-04, 1.89660767e-01, 8.09735861e-01],\n",
       "       [3.10420647e-08, 4.67640563e-03, 9.95323563e-01],\n",
       "       [5.79104882e-04, 3.91811818e-01, 6.07609077e-01],\n",
       "       [1.26867590e-05, 3.87586825e-02, 9.61228631e-01],\n",
       "       [4.82326479e-06, 5.18782574e-02, 9.48116919e-01],\n",
       "       [1.06112297e-03, 4.55354431e-01, 5.43584446e-01],\n",
       "       [1.01150970e-03, 3.85122112e-01, 6.13866378e-01],\n",
       "       [1.04815144e-05, 3.62496403e-02, 9.63739878e-01],\n",
       "       [1.67836067e-05, 1.42755681e-01, 8.57227535e-01],\n",
       "       [1.05307250e-06, 2.92523153e-02, 9.70746632e-01],\n",
       "       [7.01563044e-07, 1.76772723e-02, 9.82322026e-01],\n",
       "       [7.74735208e-06, 2.71618888e-02, 9.72830364e-01],\n",
       "       [5.23831861e-04, 4.75896157e-01, 5.23580011e-01],\n",
       "       [6.19590118e-05, 1.89234276e-01, 8.10703765e-01],\n",
       "       [3.88590915e-07, 1.17326992e-02, 9.88266912e-01],\n",
       "       [1.14363417e-05, 1.73562944e-02, 9.82632269e-01],\n",
       "       [6.69438279e-05, 1.19942385e-01, 8.79990671e-01],\n",
       "       [1.60271296e-03, 4.39993796e-01, 5.58403491e-01],\n",
       "       [3.92194350e-05, 9.33883917e-02, 9.06572389e-01],\n",
       "       [6.20231232e-06, 2.02306926e-02, 9.79763105e-01],\n",
       "       [9.83587183e-05, 1.20015861e-01, 8.79885780e-01],\n",
       "       [2.38959393e-04, 1.62017883e-01, 8.37743158e-01],\n",
       "       [2.01971347e-06, 1.26077759e-02, 9.87390204e-01],\n",
       "       [3.74839903e-06, 1.20940613e-02, 9.87902190e-01],\n",
       "       [5.50797327e-05, 7.96638082e-02, 9.20281112e-01],\n",
       "       [2.23948708e-04, 2.50341885e-01, 7.49434166e-01],\n",
       "       [1.36659866e-04, 1.56867824e-01, 8.42995516e-01],\n",
       "       [4.49626135e-05, 3.84872511e-02, 9.61467786e-01],\n",
       "       [4.69506962e-04, 2.35047140e-01, 7.64483353e-01]])"
      ]
     },
     "execution_count": 75,
     "metadata": {},
     "output_type": "execute_result"
    }
   ],
   "source": [
    "prob = model.predict_proba(X)\n",
    "prob"
   ]
  },
  {
   "cell_type": "code",
   "execution_count": 76,
   "id": "297a00f2",
   "metadata": {
    "scrolled": true
   },
   "outputs": [
    {
     "data": {
      "text/plain": [
       "<matplotlib.image.AxesImage at 0x1d25f0cda30>"
      ]
     },
     "execution_count": 76,
     "metadata": {},
     "output_type": "execute_result"
    },
    {
     "data": {
      "image/png": "[encoded data removed]",
      "text/plain": [
       "<Figure size 288x1152 with 1 Axes>"
      ]
     },
     "metadata": {
      "needs_background": "light"
     },
     "output_type": "display_data"
    }
   ],
   "source": [
    "plt.matshow(prob, vmin=0, vmax=1)"
   ]
  },
  {
   "cell_type": "code",
   "execution_count": 77,
   "id": "f1556dcf",
   "metadata": {},
   "outputs": [
    {
     "data": {
      "text/plain": [
       "array([0, 0, 0, 0, 0, 0, 0, 0, 0, 0, 0, 0, 0, 0, 0, 0, 0, 0, 0, 0, 0, 0,\n",
       "       0, 0, 0, 0, 0, 0, 0, 0, 0, 0, 0, 0, 0, 0, 0, 0, 0, 0, 0, 0, 0, 0,\n",
       "       0, 0, 0, 0, 0, 0, 1, 1, 1, 1, 1, 1, 1, 1, 1, 1, 1, 1, 1, 1, 1, 1,\n",
       "       1, 1, 1, 1, 2, 1, 1, 1, 1, 1, 1, 2, 1, 1, 1, 1, 1, 2, 1, 1, 1, 1,\n",
       "       1, 1, 1, 1, 1, 1, 1, 1, 1, 1, 1, 1, 2, 2, 2, 2, 2, 2, 1, 2, 2, 2,\n",
       "       2, 2, 2, 2, 2, 2, 2, 2, 2, 2, 2, 2, 2, 2, 2, 2, 2, 2, 2, 2, 2, 2,\n",
       "       2, 2, 2, 2, 2, 2, 2, 2, 2, 2, 2, 2, 2, 2, 2, 2, 2, 2], dtype=int64)"
      ]
     },
     "execution_count": 77,
     "metadata": {},
     "output_type": "execute_result"
    }
   ],
   "source": [
    "prob.argmax(axis=1) # y_pred 와 같음"
   ]
  },
  {
   "cell_type": "markdown",
   "id": "d664420c",
   "metadata": {},
   "source": [
    "### 학습/테스트 데이터 분리"
   ]
  },
  {
   "cell_type": "code",
   "execution_count": 78,
   "id": "1062aa83",
   "metadata": {},
   "outputs": [
    {
     "data": {
      "text/plain": [
       "((112, 4), (38, 4), (112,), (38,))"
      ]
     },
     "execution_count": 78,
     "metadata": {},
     "output_type": "execute_result"
    }
   ],
   "source": [
    "from sklearn.model_selection import train_test_split\n",
    "\n",
    "X_train, X_test, y_train, y_test = train_test_split(iris.data, iris.target) # shuffle=True\n",
    "X_train.shape, X_test.shape, y_train.shape, y_test.shape"
   ]
  },
  {
   "cell_type": "code",
   "execution_count": 82,
   "id": "9ae5f813",
   "metadata": {},
   "outputs": [
    {
     "data": {
      "text/plain": [
       "array([1, 2, 1, 1, 0, 2, 0, 0, 0, 1, 1, 2, 0, 0, 0, 0, 1, 2, 2, 1, 0, 0,\n",
       "       0, 2, 0, 2, 0, 1, 1, 1, 1, 2, 2, 0, 2, 2, 2, 2, 2, 1, 1, 1, 2, 0,\n",
       "       2, 1, 0, 2, 0, 0, 1, 0, 2, 0, 2, 1, 1, 2, 0, 2, 2, 0, 0, 1, 1, 2,\n",
       "       2, 1, 0, 2, 2, 2, 1, 0, 0, 1, 2, 1, 0, 0, 2, 1, 1, 0, 1, 2, 0, 0,\n",
       "       1, 0, 1, 1, 1, 1, 0, 1, 1, 1, 1, 2, 1, 1, 2, 2, 2, 2, 2, 2, 2, 1,\n",
       "       1, 2])"
      ]
     },
     "execution_count": 82,
     "metadata": {},
     "output_type": "execute_result"
    }
   ],
   "source": [
    "y_train"
   ]
  },
  {
   "cell_type": "code",
   "execution_count": 83,
   "id": "36271704",
   "metadata": {},
   "outputs": [
    {
     "data": {
      "text/plain": [
       "array([2, 0, 0, 0, 0, 0, 1, 2, 2, 0, 2, 1, 0, 0, 0, 0, 2, 0, 1, 2, 1, 2,\n",
       "       2, 1, 2, 1, 1, 1, 0, 0, 0, 0, 0, 0, 1, 2, 1, 2])"
      ]
     },
     "execution_count": 83,
     "metadata": {},
     "output_type": "execute_result"
    }
   ],
   "source": [
    "y_test"
   ]
  },
  {
   "cell_type": "code",
   "execution_count": 79,
   "id": "aec9f772",
   "metadata": {},
   "outputs": [
    {
     "name": "stderr",
     "output_type": "stream",
     "text": [
      "d:\\Anaconda3\\lib\\site-packages\\sklearn\\linear_model\\_logistic.py:763: ConvergenceWarning: lbfgs failed to converge (status=1):\n",
      "STOP: TOTAL NO. of ITERATIONS REACHED LIMIT.\n",
      "\n",
      "Increase the number of iterations (max_iter) or scale the data as shown in:\n",
      "    https://scikit-learn.org/stable/modules/preprocessing.html\n",
      "Please also refer to the documentation for alternative solver options:\n",
      "    https://scikit-learn.org/stable/modules/linear_model.html#logistic-regression\n",
      "  n_iter_i = _check_optimize_result(\n"
     ]
    }
   ],
   "source": [
    "model = LogisticRegression()\n",
    "model.fit(X_train, y_train)\n",
    "y_pred = model.predict(X_test)"
   ]
  },
  {
   "cell_type": "code",
   "execution_count": 80,
   "id": "040a7037",
   "metadata": {},
   "outputs": [
    {
     "data": {
      "text/plain": [
       "0.9732142857142857"
      ]
     },
     "execution_count": 80,
     "metadata": {},
     "output_type": "execute_result"
    }
   ],
   "source": [
    "model.score(X_train, y_train)"
   ]
  },
  {
   "cell_type": "code",
   "execution_count": 81,
   "id": "3ab286b4",
   "metadata": {},
   "outputs": [
    {
     "data": {
      "text/plain": [
       "0.9473684210526315"
      ]
     },
     "execution_count": 81,
     "metadata": {},
     "output_type": "execute_result"
    }
   ],
   "source": [
    "model.score(X_test, y_test)"
   ]
  },
  {
   "cell_type": "code",
   "execution_count": null,
   "id": "d3c04470",
   "metadata": {},
   "outputs": [],
   "source": []
  },
  {
   "cell_type": "markdown",
   "id": "94ff3080",
   "metadata": {},
   "source": [
    "### sigmoid 함수\n",
    "- Logistic 함수라고도 부른다\n",
    "- 입력값을 0-1 사이의 확률값으로 바꿔준다"
   ]
  },
  {
   "cell_type": "code",
   "execution_count": 12,
   "id": "76526937",
   "metadata": {},
   "outputs": [
    {
     "data": {
      "text/plain": [
       "Text(0, 0.5, '출력값')"
      ]
     },
     "execution_count": 12,
     "metadata": {},
     "output_type": "execute_result"
    },
    {
     "data": {
      "image/png": "[encoded data removed]",
      "text/plain": [
       "<Figure size 432x288 with 1 Axes>"
      ]
     },
     "metadata": {
      "needs_background": "light"
     },
     "output_type": "display_data"
    }
   ],
   "source": [
    "xs = np.arange(-5, 5, 0.1)\n",
    "ys = 1/(1 + np.exp(-xs))\n",
    "\n",
    "plt.rcParams['font.family'] = 'gulim' # 'Malgun Gothic'\n",
    "plt.plot(xs, ys)\n",
    "plt.xlabel('입력값')\n",
    "plt.ylabel('출력값')"
   ]
  },
  {
   "cell_type": "code",
   "execution_count": 13,
   "id": "a9efa842",
   "metadata": {},
   "outputs": [],
   "source": [
    "def sigmoid(t):\n",
    "    return 1/(1 + np.exp(-t))"
   ]
  },
  {
   "cell_type": "code",
   "execution_count": 16,
   "id": "eb4daa1f",
   "metadata": {},
   "outputs": [
    {
     "data": {
      "text/plain": [
       "(0.5, 4.5397868702434395e-05, 0.9999546021312976)"
      ]
     },
     "execution_count": 16,
     "metadata": {},
     "output_type": "execute_result"
    }
   ],
   "source": [
    "sigmoid(0), sigmoid(-10), sigmoid(10)"
   ]
  },
  {
   "cell_type": "code",
   "execution_count": null,
   "id": "fecca377",
   "metadata": {},
   "outputs": [],
   "source": []
  },
  {
   "cell_type": "markdown",
   "id": "96f21a50",
   "metadata": {},
   "source": [
    "> $ \\hat{y} = sigmoid(w_1 x_1 + w_2 x_2 + b) $"
   ]
  },
  {
   "cell_type": "markdown",
   "id": "bbb2d7b0",
   "metadata": {},
   "source": [
    "### 로지스틱회귀의 경계선이 직선인 이유\n",
    "- 로지스틱회귀는 선형회귀의 출력값에 sigmoid 함수를 적용한 것임 (가중치 w 와 절편값 b를 가짐)\n",
    "- 경계는 확률이 0.5가 되는 지점, 즉 선형회귀의 출력값이 0이 되는 지점임\n",
    "> $ w_1 x_1 + w_2 x_2 + b = 0 $"
   ]
  },
  {
   "cell_type": "code",
   "execution_count": null,
   "id": "5fdfb590",
   "metadata": {},
   "outputs": [],
   "source": []
  },
  {
   "attachments": {
    "image.png": {
     "image/png": "[encoded data removed]"
    }
   },
   "cell_type": "markdown",
   "id": "ca8cc647",
   "metadata": {},
   "source": [
    "### 오차 계산방법\n",
    "- 이진분류에서 로지스틱회귀는 **binary crossentropy** 를 사용한다\n",
    "> $ error = -y\\ log(\\hat{y}) - (1-y)\\ log(1-\\hat{y}),\\; y=0\\ or\\ 1$\n",
    "- 목표값이 0 인데 예측값이 1에 가깝거나, 1 인데 예측값이 0에 가까우면 오차가 무한대로 커진다\n",
    "- 다중분류에서는 **softmax** 함수와 **categorical crossentropy**를 사용한다\n",
    "- 오차를 줄이기 위해, 신경망에서와 같이 **경사하강법**을 사용한다\n",
    "> ![image.png](attachment:image.png)"
   ]
  },
  {
   "cell_type": "code",
   "execution_count": null,
   "id": "1c8d74b9",
   "metadata": {},
   "outputs": [],
   "source": []
  },
  {
   "attachments": {
    "image-3.png": {
     "image/png": "[encoded data removed]"
    }
   },
   "cell_type": "markdown",
   "id": "8a6c5ca6",
   "metadata": {},
   "source": [
    "### 로지스틱회귀를 회귀라 부르는 이유\n",
    "![image-3.png](attachment:image-3.png)\n",
    "- 속성이 2개인 이진분류에서, z축을 목표값으로 놓으면 모든 데이터를 가장 잘 이어주는 sigmoid 평면을 찾는 것임"
   ]
  },
  {
   "cell_type": "code",
   "execution_count": null,
   "id": "ddf30d1b",
   "metadata": {},
   "outputs": [],
   "source": []
  }
 ],
 "metadata": {
  "kernelspec": {
   "display_name": "Python 3",
   "language": "python",
   "name": "python3"
  },
  "language_info": {
   "codemirror_mode": {
    "name": "ipython",
    "version": 3
   },
   "file_extension": ".py",
   "mimetype": "text/x-python",
   "name": "python",
   "nbconvert_exporter": "python",
   "pygments_lexer": "ipython3",
   "version": "3.8.8"
  }
 },
 "nbformat": 4,
 "nbformat_minor": 5
}
