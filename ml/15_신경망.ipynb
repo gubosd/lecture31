{
 "cells": [
  {
   "cell_type": "markdown",
   "id": "99d5ae3a",
   "metadata": {},
   "source": [
    "## 머신러닝\n",
    "# 신경망"
   ]
  },
  {
   "cell_type": "code",
   "execution_count": 1,
   "id": "d8bc66d9",
   "metadata": {},
   "outputs": [],
   "source": [
    "import numpy as np\n",
    "import pandas as pd\n",
    "import matplotlib.pyplot as plt"
   ]
  },
  {
   "cell_type": "markdown",
   "id": "0178e44e",
   "metadata": {},
   "source": [
    "### sklearn 의 선형회귀 적용"
   ]
  },
  {
   "cell_type": "code",
   "execution_count": 2,
   "id": "d4c75e12",
   "metadata": {},
   "outputs": [],
   "source": [
    "from sklearn.datasets import load_iris\n",
    "\n",
    "iris = load_iris()"
   ]
  },
  {
   "cell_type": "code",
   "execution_count": 24,
   "id": "bd6cdc53",
   "metadata": {},
   "outputs": [
    {
     "data": {
      "text/plain": [
       "((112, 3), (38, 3), (112,), (38,))"
      ]
     },
     "execution_count": 24,
     "metadata": {},
     "output_type": "execute_result"
    }
   ],
   "source": [
    "from sklearn.model_selection import train_test_split\n",
    "\n",
    "X_train, X_test, y_train, y_test = train_test_split(iris.data[:, :3], iris.data[:, 3])\n",
    "X_train.shape, X_test.shape, y_train.shape,y_test.shape"
   ]
  },
  {
   "cell_type": "code",
   "execution_count": 89,
   "id": "9f488774",
   "metadata": {},
   "outputs": [],
   "source": [
    "from sklearn.linear_model import LinearRegression\n",
    "\n",
    "model = LinearRegression()\n",
    "model.fit(X_train, y_train)\n",
    "y_pred = model.predict(X_test)"
   ]
  },
  {
   "cell_type": "code",
   "execution_count": 90,
   "id": "6dc1a6a7",
   "metadata": {
    "scrolled": true
   },
   "outputs": [
    {
     "data": {
      "text/plain": [
       "array([-0.0097113 ,  1.74775699,  2.04777827,  2.00396764,  0.80442488,\n",
       "        1.60069853,  1.20263755,  1.98610511,  0.26785641,  2.56497485,\n",
       "        0.33958992,  1.72440297,  1.51798204,  0.23192491,  1.61743199,\n",
       "        0.316594  ,  1.54808613,  0.22278722,  0.27791675,  0.28410227,\n",
       "        0.39050871,  1.8289863 ,  1.46742136,  2.10326592,  0.27827486,\n",
       "        0.06510388,  1.38021295,  0.21201066,  1.12379588,  0.2638521 ,\n",
       "        0.167506  ,  1.40995893,  1.29680243,  0.96028512,  2.3908614 ,\n",
       "        2.11768867,  0.21968336,  1.39532974])"
      ]
     },
     "execution_count": 90,
     "metadata": {},
     "output_type": "execute_result"
    }
   ],
   "source": [
    "y_pred"
   ]
  },
  {
   "cell_type": "code",
   "execution_count": 91,
   "id": "90b9d995",
   "metadata": {},
   "outputs": [
    {
     "data": {
      "text/plain": [
       "array([-0.16245862,  0.2299592 ,  0.50918795])"
      ]
     },
     "execution_count": 91,
     "metadata": {},
     "output_type": "execute_result"
    }
   ],
   "source": [
    "model.coef_      # [w1, w2, w3]"
   ]
  },
  {
   "cell_type": "code",
   "execution_count": 92,
   "id": "08dac03c",
   "metadata": {},
   "outputs": [
    {
     "data": {
      "text/plain": [
       "-0.46949801443504624"
      ]
     },
     "execution_count": 92,
     "metadata": {},
     "output_type": "execute_result"
    }
   ],
   "source": [
    "model.intercept_ # b"
   ]
  },
  {
   "attachments": {},
   "cell_type": "markdown",
   "id": "4e3a7b70",
   "metadata": {},
   "source": [
    "- 선형회귀 공식\n",
    "> $$ \\hat{y} = w_1 x_1 + w_2 x_2 + w_3 x_3 + b $$"
   ]
  },
  {
   "attachments": {
    "image-2.png": {
     "image/png": "[encoded data removed]"
    }
   },
   "cell_type": "markdown",
   "id": "9436c3e8",
   "metadata": {},
   "source": [
    "### 신경망의 선형회귀 적용\n",
    "![image-2.png](attachment:image-2.png)\n",
    "> pip intall tensorflow"
   ]
  },
  {
   "cell_type": "code",
   "execution_count": 9,
   "id": "8e8daeba",
   "metadata": {},
   "outputs": [],
   "source": [
    "import tensorflow as tf\n",
    "from tensorflow import keras"
   ]
  },
  {
   "cell_type": "code",
   "execution_count": 10,
   "id": "4a908e19",
   "metadata": {},
   "outputs": [
    {
     "data": {
      "text/plain": [
       "'2.10.1'"
      ]
     },
     "execution_count": 10,
     "metadata": {},
     "output_type": "execute_result"
    }
   ],
   "source": [
    "tf.__version__"
   ]
  },
  {
   "cell_type": "code",
   "execution_count": 132,
   "id": "09d416c3",
   "metadata": {},
   "outputs": [
    {
     "name": "stdout",
     "output_type": "stream",
     "text": [
      "Model: \"sequential_21\"\n",
      "_________________________________________________________________\n",
      " Layer (type)                Output Shape              Param #   \n",
      "=================================================================\n",
      " dense_21 (Dense)            (None, 1)                 4         \n",
      "                                                                 \n",
      "=================================================================\n",
      "Total params: 4\n",
      "Trainable params: 4\n",
      "Non-trainable params: 0\n",
      "_________________________________________________________________\n"
     ]
    }
   ],
   "source": [
    "model = keras.models.Sequential()\n",
    "model.add(keras.layers.Dense(1, input_shape=[3]))\n",
    "model.summary()"
   ]
  },
  {
   "cell_type": "code",
   "execution_count": 133,
   "id": "828fb87b",
   "metadata": {},
   "outputs": [],
   "source": [
    "model.compile(loss='mse', optimizer='sgd')"
   ]
  },
  {
   "cell_type": "code",
   "execution_count": 134,
   "id": "2d0a5ccf",
   "metadata": {},
   "outputs": [
    {
     "name": "stdout",
     "output_type": "stream",
     "text": [
      "Epoch 1/100\n",
      "7/7 [==============================] - 0s 33ms/step - loss: 0.9616 - val_loss: 0.1162\n",
      "Epoch 2/100\n",
      "7/7 [==============================] - 0s 15ms/step - loss: 0.1683 - val_loss: 0.1118\n",
      "Epoch 3/100\n",
      "7/7 [==============================] - 0s 14ms/step - loss: 0.1798 - val_loss: 0.1033\n",
      "Epoch 4/100\n",
      "7/7 [==============================] - 0s 13ms/step - loss: 0.1357 - val_loss: 0.1052\n",
      "Epoch 5/100\n",
      "7/7 [==============================] - 0s 14ms/step - loss: 0.1499 - val_loss: 0.0996\n",
      "Epoch 6/100\n",
      "7/7 [==============================] - 0s 12ms/step - loss: 0.1489 - val_loss: 0.1085\n",
      "Epoch 7/100\n",
      "7/7 [==============================] - 0s 14ms/step - loss: 0.1515 - val_loss: 0.1166\n",
      "Epoch 8/100\n",
      "7/7 [==============================] - 0s 13ms/step - loss: 0.1335 - val_loss: 0.0993\n",
      "Epoch 9/100\n",
      "7/7 [==============================] - 0s 15ms/step - loss: 0.1369 - val_loss: 0.0971\n",
      "Epoch 10/100\n",
      "7/7 [==============================] - 0s 12ms/step - loss: 0.1451 - val_loss: 0.0935\n",
      "Epoch 11/100\n",
      "7/7 [==============================] - 0s 13ms/step - loss: 0.1347 - val_loss: 0.0967\n",
      "Epoch 12/100\n",
      "7/7 [==============================] - 0s 13ms/step - loss: 0.1228 - val_loss: 0.0946\n",
      "Epoch 13/100\n",
      "7/7 [==============================] - 0s 13ms/step - loss: 0.1286 - val_loss: 0.0897\n",
      "Epoch 14/100\n",
      "7/7 [==============================] - 0s 13ms/step - loss: 0.1187 - val_loss: 0.0888\n",
      "Epoch 15/100\n",
      "7/7 [==============================] - 0s 13ms/step - loss: 0.1188 - val_loss: 0.0874\n",
      "Epoch 16/100\n",
      "7/7 [==============================] - 0s 15ms/step - loss: 0.1294 - val_loss: 0.0893\n",
      "Epoch 17/100\n",
      "7/7 [==============================] - 0s 14ms/step - loss: 0.1227 - val_loss: 0.1005\n",
      "Epoch 18/100\n",
      "7/7 [==============================] - 0s 14ms/step - loss: 0.1173 - val_loss: 0.1136\n",
      "Epoch 19/100\n",
      "7/7 [==============================] - 0s 15ms/step - loss: 0.1294 - val_loss: 0.0859\n",
      "Epoch 20/100\n",
      "7/7 [==============================] - 0s 14ms/step - loss: 0.1162 - val_loss: 0.0864\n",
      "Epoch 21/100\n",
      "7/7 [==============================] - 0s 13ms/step - loss: 0.1160 - val_loss: 0.0866\n",
      "Epoch 22/100\n",
      "7/7 [==============================] - 0s 15ms/step - loss: 0.1289 - val_loss: 0.0808\n",
      "Epoch 23/100\n",
      "7/7 [==============================] - 0s 13ms/step - loss: 0.1120 - val_loss: 0.0918\n",
      "Epoch 24/100\n",
      "7/7 [==============================] - 0s 12ms/step - loss: 0.1225 - val_loss: 0.0846\n",
      "Epoch 25/100\n",
      "7/7 [==============================] - 0s 14ms/step - loss: 0.1177 - val_loss: 0.0975\n",
      "Epoch 26/100\n",
      "7/7 [==============================] - 0s 12ms/step - loss: 0.1315 - val_loss: 0.0846\n",
      "Epoch 27/100\n",
      "7/7 [==============================] - 0s 13ms/step - loss: 0.1163 - val_loss: 0.0790\n",
      "Epoch 28/100\n",
      "7/7 [==============================] - 0s 13ms/step - loss: 0.1264 - val_loss: 0.0781\n",
      "Epoch 29/100\n",
      "7/7 [==============================] - 0s 12ms/step - loss: 0.1087 - val_loss: 0.0806\n",
      "Epoch 30/100\n",
      "7/7 [==============================] - 0s 12ms/step - loss: 0.1111 - val_loss: 0.0738\n",
      "Epoch 31/100\n",
      "7/7 [==============================] - 0s 13ms/step - loss: 0.1001 - val_loss: 0.0907\n",
      "Epoch 32/100\n",
      "7/7 [==============================] - 0s 15ms/step - loss: 0.1134 - val_loss: 0.0724\n",
      "Epoch 33/100\n",
      "7/7 [==============================] - 0s 15ms/step - loss: 0.1022 - val_loss: 0.0746\n",
      "Epoch 34/100\n",
      "7/7 [==============================] - 0s 14ms/step - loss: 0.1010 - val_loss: 0.1055\n",
      "Epoch 35/100\n",
      "7/7 [==============================] - 0s 15ms/step - loss: 0.0967 - val_loss: 0.0805\n",
      "Epoch 36/100\n",
      "7/7 [==============================] - 0s 16ms/step - loss: 0.0960 - val_loss: 0.0747\n",
      "Epoch 37/100\n",
      "7/7 [==============================] - 0s 16ms/step - loss: 0.1045 - val_loss: 0.0682\n",
      "Epoch 38/100\n",
      "7/7 [==============================] - 0s 14ms/step - loss: 0.0913 - val_loss: 0.0955\n",
      "Epoch 39/100\n",
      "7/7 [==============================] - 0s 11ms/step - loss: 0.0939 - val_loss: 0.0747\n",
      "Epoch 40/100\n",
      "7/7 [==============================] - 0s 13ms/step - loss: 0.1005 - val_loss: 0.0661\n",
      "Epoch 41/100\n",
      "7/7 [==============================] - 0s 13ms/step - loss: 0.0973 - val_loss: 0.0663\n",
      "Epoch 42/100\n",
      "7/7 [==============================] - 0s 13ms/step - loss: 0.0901 - val_loss: 0.0660\n",
      "Epoch 43/100\n",
      "7/7 [==============================] - 0s 13ms/step - loss: 0.0929 - val_loss: 0.0687\n",
      "Epoch 44/100\n",
      "7/7 [==============================] - 0s 15ms/step - loss: 0.1005 - val_loss: 0.0656\n",
      "Epoch 45/100\n",
      "7/7 [==============================] - 0s 14ms/step - loss: 0.0888 - val_loss: 0.0723\n",
      "Epoch 46/100\n",
      "7/7 [==============================] - 0s 13ms/step - loss: 0.0848 - val_loss: 0.0698\n",
      "Epoch 47/100\n",
      "7/7 [==============================] - 0s 13ms/step - loss: 0.0933 - val_loss: 0.0618\n",
      "Epoch 48/100\n",
      "7/7 [==============================] - 0s 12ms/step - loss: 0.1102 - val_loss: 0.0710\n",
      "Epoch 49/100\n",
      "7/7 [==============================] - 0s 12ms/step - loss: 0.0906 - val_loss: 0.0605\n",
      "Epoch 50/100\n",
      "7/7 [==============================] - 0s 16ms/step - loss: 0.0808 - val_loss: 0.0605\n",
      "Epoch 51/100\n",
      "7/7 [==============================] - 0s 15ms/step - loss: 0.0806 - val_loss: 0.0606\n",
      "Epoch 52/100\n",
      "7/7 [==============================] - 0s 12ms/step - loss: 0.0886 - val_loss: 0.0615\n",
      "Epoch 53/100\n",
      "7/7 [==============================] - 0s 15ms/step - loss: 0.0890 - val_loss: 0.0596\n",
      "Epoch 54/100\n",
      "7/7 [==============================] - 0s 13ms/step - loss: 0.0866 - val_loss: 0.0665\n",
      "Epoch 55/100\n",
      "7/7 [==============================] - 0s 13ms/step - loss: 0.0821 - val_loss: 0.0628\n",
      "Epoch 56/100\n",
      "7/7 [==============================] - 0s 16ms/step - loss: 0.0805 - val_loss: 0.0587\n",
      "Epoch 57/100\n",
      "7/7 [==============================] - 0s 13ms/step - loss: 0.0869 - val_loss: 0.0671\n",
      "Epoch 58/100\n",
      "7/7 [==============================] - 0s 12ms/step - loss: 0.0731 - val_loss: 0.0582\n",
      "Epoch 59/100\n",
      "7/7 [==============================] - 0s 12ms/step - loss: 0.0765 - val_loss: 0.0584\n",
      "Epoch 60/100\n",
      "7/7 [==============================] - 0s 13ms/step - loss: 0.0738 - val_loss: 0.0669\n",
      "Epoch 61/100\n",
      "7/7 [==============================] - 0s 13ms/step - loss: 0.0824 - val_loss: 0.0551\n",
      "Epoch 62/100\n",
      "7/7 [==============================] - 0s 13ms/step - loss: 0.0718 - val_loss: 0.0593\n",
      "Epoch 63/100\n",
      "7/7 [==============================] - 0s 15ms/step - loss: 0.0764 - val_loss: 0.0548\n",
      "Epoch 64/100\n",
      "7/7 [==============================] - 0s 13ms/step - loss: 0.0742 - val_loss: 0.0582\n",
      "Epoch 65/100\n",
      "7/7 [==============================] - 0s 11ms/step - loss: 0.0982 - val_loss: 0.0546\n",
      "Epoch 66/100\n",
      "7/7 [==============================] - 0s 12ms/step - loss: 0.0732 - val_loss: 0.0549\n",
      "Epoch 67/100\n",
      "7/7 [==============================] - 0s 13ms/step - loss: 0.0767 - val_loss: 0.0542\n",
      "Epoch 68/100\n",
      "7/7 [==============================] - 0s 12ms/step - loss: 0.0705 - val_loss: 0.0559\n",
      "Epoch 69/100\n",
      "7/7 [==============================] - 0s 14ms/step - loss: 0.0735 - val_loss: 0.0561\n",
      "Epoch 70/100\n",
      "7/7 [==============================] - 0s 16ms/step - loss: 0.0696 - val_loss: 0.0508\n",
      "Epoch 71/100\n",
      "7/7 [==============================] - 0s 12ms/step - loss: 0.0727 - val_loss: 0.0518\n",
      "Epoch 72/100\n",
      "7/7 [==============================] - 0s 12ms/step - loss: 0.0748 - val_loss: 0.0549\n",
      "Epoch 73/100\n",
      "7/7 [==============================] - 0s 13ms/step - loss: 0.0677 - val_loss: 0.0499\n",
      "Epoch 74/100\n",
      "7/7 [==============================] - 0s 12ms/step - loss: 0.0758 - val_loss: 0.0520\n",
      "Epoch 75/100\n",
      "7/7 [==============================] - 0s 12ms/step - loss: 0.0787 - val_loss: 0.0531\n",
      "Epoch 76/100\n",
      "7/7 [==============================] - 0s 14ms/step - loss: 0.0659 - val_loss: 0.0556\n",
      "Epoch 77/100\n",
      "7/7 [==============================] - 0s 13ms/step - loss: 0.0691 - val_loss: 0.0547\n",
      "Epoch 78/100\n",
      "7/7 [==============================] - 0s 12ms/step - loss: 0.0653 - val_loss: 0.0777\n",
      "Epoch 79/100\n",
      "7/7 [==============================] - 0s 14ms/step - loss: 0.0731 - val_loss: 0.0545\n",
      "Epoch 80/100\n",
      "7/7 [==============================] - 0s 13ms/step - loss: 0.0662 - val_loss: 0.0617\n",
      "Epoch 81/100\n",
      "7/7 [==============================] - 0s 13ms/step - loss: 0.0785 - val_loss: 0.0619\n",
      "Epoch 82/100\n",
      "7/7 [==============================] - 0s 12ms/step - loss: 0.0672 - val_loss: 0.0515\n",
      "Epoch 83/100\n",
      "7/7 [==============================] - 0s 13ms/step - loss: 0.0684 - val_loss: 0.0466\n"
     ]
    },
    {
     "name": "stdout",
     "output_type": "stream",
     "text": [
      "Epoch 84/100\n",
      "7/7 [==============================] - 0s 13ms/step - loss: 0.0642 - val_loss: 0.0488\n",
      "Epoch 85/100\n",
      "7/7 [==============================] - 0s 12ms/step - loss: 0.0697 - val_loss: 0.0459\n",
      "Epoch 86/100\n",
      "7/7 [==============================] - 0s 12ms/step - loss: 0.0631 - val_loss: 0.0462\n",
      "Epoch 87/100\n",
      "7/7 [==============================] - 0s 12ms/step - loss: 0.0646 - val_loss: 0.0453\n",
      "Epoch 88/100\n",
      "7/7 [==============================] - 0s 11ms/step - loss: 0.0652 - val_loss: 0.0480\n",
      "Epoch 89/100\n",
      "7/7 [==============================] - 0s 14ms/step - loss: 0.0729 - val_loss: 0.0545\n",
      "Epoch 90/100\n",
      "7/7 [==============================] - 0s 11ms/step - loss: 0.0653 - val_loss: 0.0445\n",
      "Epoch 91/100\n",
      "7/7 [==============================] - 0s 11ms/step - loss: 0.0605 - val_loss: 0.0442\n",
      "Epoch 92/100\n",
      "7/7 [==============================] - 0s 11ms/step - loss: 0.0638 - val_loss: 0.0441\n",
      "Epoch 93/100\n",
      "7/7 [==============================] - 0s 11ms/step - loss: 0.0717 - val_loss: 0.0475\n",
      "Epoch 94/100\n",
      "7/7 [==============================] - 0s 12ms/step - loss: 0.0647 - val_loss: 0.0445\n",
      "Epoch 95/100\n",
      "7/7 [==============================] - 0s 11ms/step - loss: 0.0635 - val_loss: 0.0433\n",
      "Epoch 96/100\n",
      "7/7 [==============================] - 0s 13ms/step - loss: 0.0637 - val_loss: 0.0453\n",
      "Epoch 97/100\n",
      "7/7 [==============================] - 0s 12ms/step - loss: 0.0570 - val_loss: 0.0458\n",
      "Epoch 98/100\n",
      "7/7 [==============================] - 0s 12ms/step - loss: 0.0591 - val_loss: 0.0444\n",
      "Epoch 99/100\n",
      "7/7 [==============================] - 0s 12ms/step - loss: 0.0564 - val_loss: 0.0424\n",
      "Epoch 100/100\n",
      "7/7 [==============================] - 0s 12ms/step - loss: 0.0658 - val_loss: 0.0431\n"
     ]
    },
    {
     "data": {
      "text/plain": [
       "<keras.callbacks.History at 0x228490267f0>"
      ]
     },
     "execution_count": 134,
     "metadata": {},
     "output_type": "execute_result"
    }
   ],
   "source": [
    "model.fit(X_train, y_train, epochs=100, batch_size=16, validation_data=[X_test, y_test])"
   ]
  },
  {
   "cell_type": "code",
   "execution_count": 135,
   "id": "3661b24e",
   "metadata": {},
   "outputs": [
    {
     "data": {
      "text/plain": [
       "<matplotlib.legend.Legend at 0x2284a209130>"
      ]
     },
     "execution_count": 135,
     "metadata": {},
     "output_type": "execute_result"
    },
    {
     "data": {
      "image/png": "[encoded data removed]",
      "text/plain": [
       "<Figure size 432x288 with 1 Axes>"
      ]
     },
     "metadata": {
      "needs_background": "light"
     },
     "output_type": "display_data"
    }
   ],
   "source": [
    "plt.plot(model.history.history['loss'])\n",
    "plt.plot(model.history.history['val_loss'])\n",
    "plt.legend(['loss', 'val_loss'])"
   ]
  },
  {
   "cell_type": "code",
   "execution_count": 136,
   "id": "bfa41590",
   "metadata": {},
   "outputs": [
    {
     "data": {
      "text/plain": [
       "[array([[-0.54368865],\n",
       "        [ 0.57264453],\n",
       "        [ 0.7062145 ]], dtype=float32),\n",
       " array([0.00865287], dtype=float32)]"
      ]
     },
     "execution_count": 136,
     "metadata": {},
     "output_type": "execute_result"
    }
   ],
   "source": [
    "model.get_weights() # w, b"
   ]
  },
  {
   "cell_type": "code",
   "execution_count": 137,
   "id": "6af6bbb2",
   "metadata": {
    "scrolled": true
   },
   "outputs": [
    {
     "name": "stdout",
     "output_type": "stream",
     "text": [
      "WARNING:tensorflow:6 out of the last 11 calls to <function Model.make_predict_function.<locals>.predict_function at 0x000002284A2C5670> triggered tf.function retracing. Tracing is expensive and the excessive number of tracings could be due to (1) creating @tf.function repeatedly in a loop, (2) passing tensors with different shapes, (3) passing Python objects instead of tensors. For (1), please define your @tf.function outside of the loop. For (2), @tf.function has reduce_retracing=True option that can avoid unnecessary retracing. For (3), please refer to https://www.tensorflow.org/guide/function#controlling_retracing and https://www.tensorflow.org/api_docs/python/tf/function for  more details.\n",
      "2/2 [==============================] - 0s 6ms/step\n"
     ]
    },
    {
     "data": {
      "text/plain": [
       "array([[-0.20278496],\n",
       "       [ 1.7885128 ],\n",
       "       [ 2.1150863 ],\n",
       "       [ 1.9080725 ],\n",
       "       [ 0.78609556],\n",
       "       [ 1.954155  ],\n",
       "       [ 1.1603057 ],\n",
       "       [ 2.0872514 ],\n",
       "       [ 0.25084072],\n",
       "       [ 2.7299368 ],\n",
       "       [ 0.47121173],\n",
       "       [ 1.870537  ],\n",
       "       [ 1.5394733 ],\n",
       "       [ 0.32884794],\n",
       "       [ 1.4928503 ],\n",
       "       [ 0.4139474 ],\n",
       "       [ 1.460345  ],\n",
       "       [ 0.13808638],\n",
       "       [ 0.44337684],\n",
       "       [ 0.30520946],\n",
       "       [ 0.5418332 ],\n",
       "       [ 2.0603573 ],\n",
       "       [ 1.3295637 ],\n",
       "       [ 2.2810886 ],\n",
       "       [ 0.3040884 ],\n",
       "       [-0.02987057],\n",
       "       [ 1.4762374 ],\n",
       "       [ 0.22412664],\n",
       "       [ 1.0763273 ],\n",
       "       [ 0.29652268],\n",
       "       [ 0.25243527],\n",
       "       [ 1.5363976 ],\n",
       "       [ 1.2968785 ],\n",
       "       [ 0.9072493 ],\n",
       "       [ 2.1840065 ],\n",
       "       [ 2.2886543 ],\n",
       "       [ 0.22879678],\n",
       "       [ 1.248481  ]], dtype=float32)"
      ]
     },
     "execution_count": 137,
     "metadata": {},
     "output_type": "execute_result"
    }
   ],
   "source": [
    "y_pred_nn = model.predict(X_test)\n",
    "y_pred_nn"
   ]
  },
  {
   "cell_type": "code",
   "execution_count": 138,
   "id": "e6507ffa",
   "metadata": {},
   "outputs": [
    {
     "data": {
      "text/plain": [
       "<matplotlib.legend.Legend at 0x22849138820>"
      ]
     },
     "execution_count": 138,
     "metadata": {},
     "output_type": "execute_result"
    },
    {
     "data": {
      "image/png": "[encoded data removed]",
      "text/plain": [
       "<Figure size 432x288 with 1 Axes>"
      ]
     },
     "metadata": {
      "needs_background": "light"
     },
     "output_type": "display_data"
    }
   ],
   "source": [
    "plt.plot(y_test, ':')\n",
    "plt.plot(y_pred)\n",
    "plt.plot(y_pred_nn)\n",
    "plt.legend(['y', 'y_pred', 'y_pred_nn'], loc=4)"
   ]
  },
  {
   "cell_type": "markdown",
   "id": "c87d8913",
   "metadata": {},
   "source": [
    "### 중간층 추가"
   ]
  },
  {
   "cell_type": "code",
   "execution_count": 139,
   "id": "ce48f705",
   "metadata": {},
   "outputs": [
    {
     "name": "stdout",
     "output_type": "stream",
     "text": [
      "Model: \"sequential_22\"\n",
      "_________________________________________________________________\n",
      " Layer (type)                Output Shape              Param #   \n",
      "=================================================================\n",
      " dense_22 (Dense)            (None, 3)                 12        \n",
      "                                                                 \n",
      " dense_23 (Dense)            (None, 1)                 4         \n",
      "                                                                 \n",
      "=================================================================\n",
      "Total params: 16\n",
      "Trainable params: 16\n",
      "Non-trainable params: 0\n",
      "_________________________________________________________________\n"
     ]
    }
   ],
   "source": [
    "model = keras.models.Sequential()\n",
    "model.add(keras.layers.Dense(3, input_shape=[3]))\n",
    "model.add(keras.layers.Dense(1))\n",
    "model.summary()"
   ]
  },
  {
   "cell_type": "code",
   "execution_count": 140,
   "id": "c4ff5a35",
   "metadata": {},
   "outputs": [],
   "source": [
    "model.compile(loss='mse', optimizer='sgd')"
   ]
  },
  {
   "cell_type": "code",
   "execution_count": 141,
   "id": "540e381a",
   "metadata": {},
   "outputs": [
    {
     "name": "stdout",
     "output_type": "stream",
     "text": [
      "Epoch 1/100\n",
      "7/7 [==============================] - 0s 32ms/step - loss: 2.5007 - val_loss: 0.1621\n",
      "Epoch 2/100\n",
      "7/7 [==============================] - 0s 15ms/step - loss: 0.1438 - val_loss: 0.1355\n",
      "Epoch 3/100\n",
      "7/7 [==============================] - 0s 15ms/step - loss: 0.1196 - val_loss: 0.1066\n",
      "Epoch 4/100\n",
      "7/7 [==============================] - 0s 15ms/step - loss: 0.0880 - val_loss: 0.0798\n",
      "Epoch 5/100\n",
      "7/7 [==============================] - 0s 14ms/step - loss: 0.0750 - val_loss: 0.0691\n",
      "Epoch 6/100\n",
      "7/7 [==============================] - 0s 13ms/step - loss: 0.0640 - val_loss: 0.0477\n",
      "Epoch 7/100\n",
      "7/7 [==============================] - 0s 13ms/step - loss: 0.0538 - val_loss: 0.0415\n",
      "Epoch 8/100\n",
      "7/7 [==============================] - 0s 12ms/step - loss: 0.0506 - val_loss: 0.0398\n",
      "Epoch 9/100\n",
      "7/7 [==============================] - 0s 12ms/step - loss: 0.0534 - val_loss: 0.0549\n",
      "Epoch 10/100\n",
      "7/7 [==============================] - 0s 16ms/step - loss: 0.0545 - val_loss: 0.0453\n",
      "Epoch 11/100\n",
      "7/7 [==============================] - 0s 13ms/step - loss: 0.0438 - val_loss: 0.0373\n",
      "Epoch 12/100\n",
      "7/7 [==============================] - 0s 13ms/step - loss: 0.0582 - val_loss: 0.0388\n",
      "Epoch 13/100\n",
      "7/7 [==============================] - 0s 13ms/step - loss: 0.0426 - val_loss: 0.0438\n",
      "Epoch 14/100\n",
      "7/7 [==============================] - 0s 13ms/step - loss: 0.0447 - val_loss: 0.0613\n",
      "Epoch 15/100\n",
      "7/7 [==============================] - 0s 14ms/step - loss: 0.0440 - val_loss: 0.0517\n",
      "Epoch 16/100\n",
      "7/7 [==============================] - 0s 13ms/step - loss: 0.0429 - val_loss: 0.0403\n",
      "Epoch 17/100\n",
      "7/7 [==============================] - 0s 12ms/step - loss: 0.0711 - val_loss: 0.0784\n",
      "Epoch 18/100\n",
      "7/7 [==============================] - 0s 16ms/step - loss: 0.0427 - val_loss: 0.0444\n",
      "Epoch 19/100\n",
      "7/7 [==============================] - 0s 15ms/step - loss: 0.0428 - val_loss: 0.0355\n",
      "Epoch 20/100\n",
      "7/7 [==============================] - 0s 12ms/step - loss: 0.0591 - val_loss: 0.0373\n",
      "Epoch 21/100\n",
      "7/7 [==============================] - 0s 13ms/step - loss: 0.0483 - val_loss: 0.0358\n",
      "Epoch 22/100\n",
      "7/7 [==============================] - 0s 13ms/step - loss: 0.0435 - val_loss: 0.0680\n",
      "Epoch 23/100\n",
      "7/7 [==============================] - 0s 15ms/step - loss: 0.0523 - val_loss: 0.0342\n",
      "Epoch 24/100\n",
      "7/7 [==============================] - 0s 14ms/step - loss: 0.0534 - val_loss: 0.0518\n",
      "Epoch 25/100\n",
      "7/7 [==============================] - 0s 14ms/step - loss: 0.0516 - val_loss: 0.0338\n",
      "Epoch 26/100\n",
      "7/7 [==============================] - 0s 14ms/step - loss: 0.0445 - val_loss: 0.0330\n",
      "Epoch 27/100\n",
      "7/7 [==============================] - 0s 12ms/step - loss: 0.0461 - val_loss: 0.0349\n",
      "Epoch 28/100\n",
      "7/7 [==============================] - 0s 15ms/step - loss: 0.0406 - val_loss: 0.0384\n",
      "Epoch 29/100\n",
      "7/7 [==============================] - 0s 13ms/step - loss: 0.0383 - val_loss: 0.0338\n",
      "Epoch 30/100\n",
      "7/7 [==============================] - 0s 14ms/step - loss: 0.0526 - val_loss: 0.0680\n",
      "Epoch 31/100\n",
      "7/7 [==============================] - 0s 14ms/step - loss: 0.0499 - val_loss: 0.0541\n",
      "Epoch 32/100\n",
      "7/7 [==============================] - 0s 12ms/step - loss: 0.0448 - val_loss: 0.0347\n",
      "Epoch 33/100\n",
      "7/7 [==============================] - 0s 13ms/step - loss: 0.0437 - val_loss: 0.0401\n",
      "Epoch 34/100\n",
      "7/7 [==============================] - 0s 14ms/step - loss: 0.0443 - val_loss: 0.0329\n",
      "Epoch 35/100\n",
      "7/7 [==============================] - 0s 14ms/step - loss: 0.0382 - val_loss: 0.0337\n",
      "Epoch 36/100\n",
      "7/7 [==============================] - 0s 15ms/step - loss: 0.0436 - val_loss: 0.0329\n",
      "Epoch 37/100\n",
      "7/7 [==============================] - 0s 14ms/step - loss: 0.0388 - val_loss: 0.0367\n",
      "Epoch 38/100\n",
      "7/7 [==============================] - 0s 18ms/step - loss: 0.0500 - val_loss: 0.0355\n",
      "Epoch 39/100\n",
      "7/7 [==============================] - 0s 16ms/step - loss: 0.0393 - val_loss: 0.0354\n",
      "Epoch 40/100\n",
      "7/7 [==============================] - 0s 16ms/step - loss: 0.0458 - val_loss: 0.0370\n",
      "Epoch 41/100\n",
      "7/7 [==============================] - 0s 13ms/step - loss: 0.0450 - val_loss: 0.0346\n",
      "Epoch 42/100\n",
      "7/7 [==============================] - 0s 13ms/step - loss: 0.0518 - val_loss: 0.0341\n",
      "Epoch 43/100\n",
      "7/7 [==============================] - 0s 15ms/step - loss: 0.0538 - val_loss: 0.0369\n",
      "Epoch 44/100\n",
      "7/7 [==============================] - 0s 13ms/step - loss: 0.0434 - val_loss: 0.0434\n",
      "Epoch 45/100\n",
      "7/7 [==============================] - 0s 13ms/step - loss: 0.0445 - val_loss: 0.0331\n",
      "Epoch 46/100\n",
      "7/7 [==============================] - 0s 13ms/step - loss: 0.0386 - val_loss: 0.0346\n",
      "Epoch 47/100\n",
      "7/7 [==============================] - 0s 14ms/step - loss: 0.0418 - val_loss: 0.0329\n",
      "Epoch 48/100\n",
      "7/7 [==============================] - 0s 12ms/step - loss: 0.0433 - val_loss: 0.0335\n",
      "Epoch 49/100\n",
      "7/7 [==============================] - 0s 16ms/step - loss: 0.0471 - val_loss: 0.0329\n",
      "Epoch 50/100\n",
      "7/7 [==============================] - 0s 14ms/step - loss: 0.0397 - val_loss: 0.0396\n",
      "Epoch 51/100\n",
      "7/7 [==============================] - 0s 14ms/step - loss: 0.0437 - val_loss: 0.0354\n",
      "Epoch 52/100\n",
      "7/7 [==============================] - 0s 16ms/step - loss: 0.0440 - val_loss: 0.0615\n",
      "Epoch 53/100\n",
      "7/7 [==============================] - 0s 15ms/step - loss: 0.0470 - val_loss: 0.0339\n",
      "Epoch 54/100\n",
      "7/7 [==============================] - 0s 13ms/step - loss: 0.0403 - val_loss: 0.0329\n",
      "Epoch 55/100\n",
      "7/7 [==============================] - 0s 13ms/step - loss: 0.0376 - val_loss: 0.0346\n",
      "Epoch 56/100\n",
      "7/7 [==============================] - 0s 12ms/step - loss: 0.0414 - val_loss: 0.0333\n",
      "Epoch 57/100\n",
      "7/7 [==============================] - 0s 11ms/step - loss: 0.0384 - val_loss: 0.0348\n",
      "Epoch 58/100\n",
      "7/7 [==============================] - 0s 13ms/step - loss: 0.0445 - val_loss: 0.0333\n",
      "Epoch 59/100\n",
      "7/7 [==============================] - 0s 16ms/step - loss: 0.0433 - val_loss: 0.0336\n",
      "Epoch 60/100\n",
      "7/7 [==============================] - 0s 13ms/step - loss: 0.0458 - val_loss: 0.0343\n",
      "Epoch 61/100\n",
      "7/7 [==============================] - 0s 14ms/step - loss: 0.0413 - val_loss: 0.0408\n",
      "Epoch 62/100\n",
      "7/7 [==============================] - 0s 14ms/step - loss: 0.0487 - val_loss: 0.0622\n",
      "Epoch 63/100\n",
      "7/7 [==============================] - 0s 14ms/step - loss: 0.0383 - val_loss: 0.0334\n",
      "Epoch 64/100\n",
      "7/7 [==============================] - 0s 12ms/step - loss: 0.0431 - val_loss: 0.0331\n",
      "Epoch 65/100\n",
      "7/7 [==============================] - 0s 13ms/step - loss: 0.0411 - val_loss: 0.0345\n",
      "Epoch 66/100\n",
      "7/7 [==============================] - 0s 12ms/step - loss: 0.0379 - val_loss: 0.0332\n",
      "Epoch 67/100\n",
      "7/7 [==============================] - 0s 13ms/step - loss: 0.0423 - val_loss: 0.0330\n",
      "Epoch 68/100\n",
      "7/7 [==============================] - 0s 13ms/step - loss: 0.0428 - val_loss: 0.0376\n",
      "Epoch 69/100\n",
      "7/7 [==============================] - 0s 13ms/step - loss: 0.0456 - val_loss: 0.0431\n",
      "Epoch 70/100\n",
      "7/7 [==============================] - 0s 15ms/step - loss: 0.0402 - val_loss: 0.0357\n",
      "Epoch 71/100\n",
      "7/7 [==============================] - 0s 15ms/step - loss: 0.0389 - val_loss: 0.0372\n",
      "Epoch 72/100\n",
      "7/7 [==============================] - 0s 13ms/step - loss: 0.0454 - val_loss: 0.0545\n",
      "Epoch 73/100\n",
      "7/7 [==============================] - 0s 13ms/step - loss: 0.0469 - val_loss: 0.0472\n",
      "Epoch 74/100\n",
      "7/7 [==============================] - 0s 14ms/step - loss: 0.0528 - val_loss: 0.0371\n",
      "Epoch 75/100\n",
      "7/7 [==============================] - 0s 12ms/step - loss: 0.0390 - val_loss: 0.0347\n",
      "Epoch 76/100\n",
      "7/7 [==============================] - 0s 12ms/step - loss: 0.0377 - val_loss: 0.0332\n",
      "Epoch 77/100\n",
      "7/7 [==============================] - 0s 13ms/step - loss: 0.0440 - val_loss: 0.0366\n",
      "Epoch 78/100\n",
      "7/7 [==============================] - 0s 12ms/step - loss: 0.0504 - val_loss: 0.0332\n",
      "Epoch 79/100\n",
      "7/7 [==============================] - 0s 12ms/step - loss: 0.0402 - val_loss: 0.0345\n",
      "Epoch 80/100\n",
      "7/7 [==============================] - 0s 12ms/step - loss: 0.0385 - val_loss: 0.0456\n",
      "Epoch 81/100\n",
      "7/7 [==============================] - 0s 13ms/step - loss: 0.0447 - val_loss: 0.0333\n",
      "Epoch 82/100\n",
      "7/7 [==============================] - 0s 14ms/step - loss: 0.0432 - val_loss: 0.0499\n",
      "Epoch 83/100\n",
      "7/7 [==============================] - 0s 16ms/step - loss: 0.0509 - val_loss: 0.0335\n"
     ]
    },
    {
     "name": "stdout",
     "output_type": "stream",
     "text": [
      "Epoch 84/100\n",
      "7/7 [==============================] - 0s 15ms/step - loss: 0.0410 - val_loss: 0.0350\n",
      "Epoch 85/100\n",
      "7/7 [==============================] - 0s 12ms/step - loss: 0.0426 - val_loss: 0.0341\n",
      "Epoch 86/100\n",
      "7/7 [==============================] - 0s 16ms/step - loss: 0.0386 - val_loss: 0.0333\n",
      "Epoch 87/100\n",
      "7/7 [==============================] - 0s 12ms/step - loss: 0.0436 - val_loss: 0.0364\n",
      "Epoch 88/100\n",
      "7/7 [==============================] - 0s 12ms/step - loss: 0.0400 - val_loss: 0.0343\n",
      "Epoch 89/100\n",
      "7/7 [==============================] - 0s 16ms/step - loss: 0.0376 - val_loss: 0.0342\n",
      "Epoch 90/100\n",
      "7/7 [==============================] - 0s 15ms/step - loss: 0.0385 - val_loss: 0.0336\n",
      "Epoch 91/100\n",
      "7/7 [==============================] - 0s 12ms/step - loss: 0.0409 - val_loss: 0.0341\n",
      "Epoch 92/100\n",
      "7/7 [==============================] - 0s 11ms/step - loss: 0.0393 - val_loss: 0.0388\n",
      "Epoch 93/100\n",
      "7/7 [==============================] - 0s 12ms/step - loss: 0.0384 - val_loss: 0.0331\n",
      "Epoch 94/100\n",
      "7/7 [==============================] - 0s 12ms/step - loss: 0.0485 - val_loss: 0.0370\n",
      "Epoch 95/100\n",
      "7/7 [==============================] - 0s 12ms/step - loss: 0.0391 - val_loss: 0.0370\n",
      "Epoch 96/100\n",
      "7/7 [==============================] - 0s 14ms/step - loss: 0.0404 - val_loss: 0.0335\n",
      "Epoch 97/100\n",
      "7/7 [==============================] - 0s 15ms/step - loss: 0.0390 - val_loss: 0.0334\n",
      "Epoch 98/100\n",
      "7/7 [==============================] - 0s 16ms/step - loss: 0.0429 - val_loss: 0.0591\n",
      "Epoch 99/100\n",
      "7/7 [==============================] - 0s 12ms/step - loss: 0.0420 - val_loss: 0.0339\n",
      "Epoch 100/100\n",
      "7/7 [==============================] - 0s 12ms/step - loss: 0.0366 - val_loss: 0.0395\n"
     ]
    },
    {
     "data": {
      "text/plain": [
       "<keras.callbacks.History at 0x2284a1f4340>"
      ]
     },
     "execution_count": 141,
     "metadata": {},
     "output_type": "execute_result"
    }
   ],
   "source": [
    "model.fit(X_train, y_train, epochs=100, batch_size=16, validation_data=[X_test, y_test])"
   ]
  },
  {
   "cell_type": "code",
   "execution_count": 142,
   "id": "f9e5e4a6",
   "metadata": {},
   "outputs": [
    {
     "data": {
      "text/plain": [
       "<matplotlib.legend.Legend at 0x2284a3e6d60>"
      ]
     },
     "execution_count": 142,
     "metadata": {},
     "output_type": "execute_result"
    },
    {
     "data": {
      "image/png": "[encoded data removed]",
      "text/plain": [
       "<Figure size 432x288 with 1 Axes>"
      ]
     },
     "metadata": {
      "needs_background": "light"
     },
     "output_type": "display_data"
    }
   ],
   "source": [
    "plt.plot(model.history.history['loss'])\n",
    "plt.plot(model.history.history['val_loss'])\n",
    "plt.legend(['loss', 'val_loss'])"
   ]
  },
  {
   "cell_type": "code",
   "execution_count": 143,
   "id": "fe972792",
   "metadata": {},
   "outputs": [
    {
     "data": {
      "text/plain": [
       "[array([[-0.00597095,  0.39597392, -0.7335748 ],\n",
       "        [ 0.71566355,  0.18133886,  0.48242486],\n",
       "        [-0.18185152,  0.81400853,  0.5396077 ]], dtype=float32),\n",
       " array([-0.0036582 , -0.05102156, -0.02689522], dtype=float32),\n",
       " array([[-0.0930178 ],\n",
       "        [ 0.31941798],\n",
       "        [ 0.4962721 ]], dtype=float32),\n",
       " array([-0.05895706], dtype=float32)]"
      ]
     },
     "execution_count": 143,
     "metadata": {},
     "output_type": "execute_result"
    }
   ],
   "source": [
    "model.get_weights() # w, b"
   ]
  },
  {
   "cell_type": "code",
   "execution_count": 144,
   "id": "2eb459e6",
   "metadata": {
    "scrolled": true
   },
   "outputs": [
    {
     "name": "stdout",
     "output_type": "stream",
     "text": [
      "2/2 [==============================] - 0s 5ms/step\n"
     ]
    },
    {
     "data": {
      "text/plain": [
       "array([[0.08406292],\n",
       "       [1.8427408 ],\n",
       "       [2.119668  ],\n",
       "       [2.0568817 ],\n",
       "       [0.91402507],\n",
       "       [1.7785032 ],\n",
       "       [1.3177818 ],\n",
       "       [2.0913975 ],\n",
       "       [0.3027661 ],\n",
       "       [2.6132326 ],\n",
       "       [0.3969477 ],\n",
       "       [1.8273542 ],\n",
       "       [1.584516  ],\n",
       "       [0.3225238 ],\n",
       "       [1.6608181 ],\n",
       "       [0.37387112],\n",
       "       [1.5992781 ],\n",
       "       [0.2905071 ],\n",
       "       [0.36867723],\n",
       "       [0.32646766],\n",
       "       [0.45141938],\n",
       "       [1.9612489 ],\n",
       "       [1.5223545 ],\n",
       "       [2.190148  ],\n",
       "       [0.36098698],\n",
       "       [0.11877386],\n",
       "       [1.4953302 ],\n",
       "       [0.23997645],\n",
       "       [1.2319151 ],\n",
       "       [0.3283423 ],\n",
       "       [0.26930168],\n",
       "       [1.5177821 ],\n",
       "       [1.3934555 ],\n",
       "       [1.0947013 ],\n",
       "       [2.4452548 ],\n",
       "       [2.222793  ],\n",
       "       [0.2732459 ],\n",
       "       [1.435863  ]], dtype=float32)"
      ]
     },
     "execution_count": 144,
     "metadata": {},
     "output_type": "execute_result"
    }
   ],
   "source": [
    "y_pred_nn = model.predict(X_test)\n",
    "y_pred_nn"
   ]
  },
  {
   "cell_type": "code",
   "execution_count": 145,
   "id": "0bc58ee9",
   "metadata": {},
   "outputs": [
    {
     "data": {
      "text/plain": [
       "<matplotlib.legend.Legend at 0x2284b41b370>"
      ]
     },
     "execution_count": 145,
     "metadata": {},
     "output_type": "execute_result"
    },
    {
     "data": {
      "image/png": "[encoded data removed]",
      "text/plain": [
       "<Figure size 432x288 with 1 Axes>"
      ]
     },
     "metadata": {
      "needs_background": "light"
     },
     "output_type": "display_data"
    }
   ],
   "source": [
    "plt.plot(y_test, ':')\n",
    "plt.plot(y_pred)\n",
    "plt.plot(y_pred_nn)\n",
    "plt.legend(['y', 'y_pred', 'y_pred_nn'], loc=4)"
   ]
  },
  {
   "cell_type": "markdown",
   "id": "cafcc9d8",
   "metadata": {},
   "source": [
    "### 분류"
   ]
  },
  {
   "cell_type": "code",
   "execution_count": 146,
   "id": "b76043c4",
   "metadata": {},
   "outputs": [
    {
     "data": {
      "text/plain": [
       "((112, 4), (38, 4), (112,), (38,))"
      ]
     },
     "execution_count": 146,
     "metadata": {},
     "output_type": "execute_result"
    }
   ],
   "source": [
    "X_train, X_test, y_train, y_test = train_test_split(iris.data, iris.target)\n",
    "X_train.shape, X_test.shape, y_train.shape,y_test.shape"
   ]
  },
  {
   "cell_type": "code",
   "execution_count": 149,
   "id": "9528d071",
   "metadata": {},
   "outputs": [
    {
     "data": {
      "text/plain": [
       "array([2, 1, 1, 0, 2, 2, 2, 0, 1, 0, 2, 2, 1, 1, 1, 0, 2, 0, 1, 1, 1, 2,\n",
       "       2, 2, 2, 0, 2, 2, 0, 2, 2, 1, 1, 2, 0, 0, 1, 1, 0, 2, 2, 0, 0, 0,\n",
       "       0, 0, 1, 0, 1, 0, 1, 1, 1, 2, 2, 2, 2, 0, 1, 0, 1, 2, 0, 2, 2, 2,\n",
       "       1, 2, 2, 1, 0, 2, 1, 0, 0, 1, 0, 1, 2, 2, 0, 0, 1, 0, 0, 2, 0, 0,\n",
       "       2, 2, 1, 1, 2, 2, 1, 2, 1, 1, 2, 0, 1, 1, 1, 1, 1, 2, 2, 2, 0, 1,\n",
       "       1, 1])"
      ]
     },
     "execution_count": 149,
     "metadata": {},
     "output_type": "execute_result"
    }
   ],
   "source": [
    "y_train"
   ]
  },
  {
   "cell_type": "code",
   "execution_count": 150,
   "id": "8642b632",
   "metadata": {},
   "outputs": [
    {
     "data": {
      "text/plain": [
       "((112, 3), (38, 3))"
      ]
     },
     "execution_count": 150,
     "metadata": {},
     "output_type": "execute_result"
    }
   ],
   "source": [
    "### 셋 이상을 분류할 때는 원핫인코딩(one-hot-encoding 을 적용해야 한다)\n",
    "y_train_oh = np.eye(3)[y_train]\n",
    "y_test_oh = np.eye(3)[y_test]\n",
    "\n",
    "y_train_oh.shape, y_test_oh.shape"
   ]
  },
  {
   "cell_type": "code",
   "execution_count": 152,
   "id": "27a28c04",
   "metadata": {},
   "outputs": [
    {
     "data": {
      "text/plain": [
       "array([2, 1, 1, 0, 2])"
      ]
     },
     "metadata": {},
     "output_type": "display_data"
    },
    {
     "data": {
      "text/plain": [
       "array([[0., 0., 1.],\n",
       "       [0., 1., 0.],\n",
       "       [0., 1., 0.],\n",
       "       [1., 0., 0.],\n",
       "       [0., 0., 1.]])"
      ]
     },
     "metadata": {},
     "output_type": "display_data"
    }
   ],
   "source": [
    "display(y_train[:5], y_train_oh[:5])"
   ]
  },
  {
   "cell_type": "code",
   "execution_count": null,
   "id": "0bf02e54",
   "metadata": {},
   "outputs": [],
   "source": []
  },
  {
   "cell_type": "code",
   "execution_count": 176,
   "id": "d2bcde4e",
   "metadata": {},
   "outputs": [
    {
     "name": "stdout",
     "output_type": "stream",
     "text": [
      "Model: \"sequential_30\"\n",
      "_________________________________________________________________\n",
      " Layer (type)                Output Shape              Param #   \n",
      "=================================================================\n",
      " dense_39 (Dense)            (None, 5)                 25        \n",
      "                                                                 \n",
      " dense_40 (Dense)            (None, 3)                 18        \n",
      "                                                                 \n",
      "=================================================================\n",
      "Total params: 43\n",
      "Trainable params: 43\n",
      "Non-trainable params: 0\n",
      "_________________________________________________________________\n"
     ]
    }
   ],
   "source": [
    "model = keras.models.Sequential()\n",
    "model.add(keras.layers.Dense(5, activation='sigmoid', input_shape=[4]))\n",
    "model.add(keras.layers.Dense(3, activation='softmax'))\n",
    "\n",
    "model.summary()"
   ]
  },
  {
   "cell_type": "code",
   "execution_count": 177,
   "id": "efcc6f5c",
   "metadata": {},
   "outputs": [],
   "source": [
    "model.compile(loss='categorical_crossentropy', optimizer='adam', metrics=['acc'])"
   ]
  },
  {
   "cell_type": "code",
   "execution_count": 178,
   "id": "b89b7679",
   "metadata": {
    "scrolled": true
   },
   "outputs": [
    {
     "name": "stdout",
     "output_type": "stream",
     "text": [
      "Epoch 1/500\n",
      "4/4 [==============================] - 1s 79ms/step - loss: 1.3323 - acc: 0.3661 - val_loss: 1.2643 - val_acc: 0.2368\n",
      "Epoch 2/500\n",
      "4/4 [==============================] - 0s 29ms/step - loss: 1.3188 - acc: 0.3661 - val_loss: 1.2536 - val_acc: 0.2368\n",
      "Epoch 3/500\n",
      "4/4 [==============================] - 0s 28ms/step - loss: 1.3075 - acc: 0.3661 - val_loss: 1.2432 - val_acc: 0.2368\n",
      "Epoch 4/500\n",
      "4/4 [==============================] - 0s 28ms/step - loss: 1.2959 - acc: 0.3661 - val_loss: 1.2331 - val_acc: 0.2368\n",
      "Epoch 5/500\n",
      "4/4 [==============================] - 0s 26ms/step - loss: 1.2842 - acc: 0.3661 - val_loss: 1.2244 - val_acc: 0.2368\n",
      "Epoch 6/500\n",
      "4/4 [==============================] - 0s 24ms/step - loss: 1.2734 - acc: 0.3661 - val_loss: 1.2161 - val_acc: 0.2368\n",
      "Epoch 7/500\n",
      "4/4 [==============================] - 0s 26ms/step - loss: 1.2636 - acc: 0.3661 - val_loss: 1.2076 - val_acc: 0.2368\n",
      "Epoch 8/500\n",
      "4/4 [==============================] - 0s 25ms/step - loss: 1.2533 - acc: 0.3750 - val_loss: 1.1988 - val_acc: 0.2368\n",
      "Epoch 9/500\n",
      "4/4 [==============================] - 0s 24ms/step - loss: 1.2428 - acc: 0.3750 - val_loss: 1.1901 - val_acc: 0.2368\n",
      "Epoch 10/500\n",
      "4/4 [==============================] - 0s 23ms/step - loss: 1.2342 - acc: 0.3750 - val_loss: 1.1814 - val_acc: 0.2368\n",
      "Epoch 11/500\n",
      "4/4 [==============================] - 0s 23ms/step - loss: 1.2241 - acc: 0.3839 - val_loss: 1.1737 - val_acc: 0.2368\n",
      "Epoch 12/500\n",
      "4/4 [==============================] - 0s 26ms/step - loss: 1.2141 - acc: 0.3929 - val_loss: 1.1663 - val_acc: 0.2632\n",
      "Epoch 13/500\n",
      "4/4 [==============================] - 0s 24ms/step - loss: 1.2055 - acc: 0.3929 - val_loss: 1.1587 - val_acc: 0.3158\n",
      "Epoch 14/500\n",
      "4/4 [==============================] - 0s 20ms/step - loss: 1.1973 - acc: 0.4196 - val_loss: 1.1510 - val_acc: 0.3684\n",
      "Epoch 15/500\n",
      "4/4 [==============================] - 0s 25ms/step - loss: 1.1884 - acc: 0.4464 - val_loss: 1.1436 - val_acc: 0.4211\n",
      "Epoch 16/500\n",
      "4/4 [==============================] - 0s 23ms/step - loss: 1.1802 - acc: 0.5000 - val_loss: 1.1365 - val_acc: 0.4211\n",
      "Epoch 17/500\n",
      "4/4 [==============================] - 0s 22ms/step - loss: 1.1725 - acc: 0.5179 - val_loss: 1.1294 - val_acc: 0.5526\n",
      "Epoch 18/500\n",
      "4/4 [==============================] - 0s 24ms/step - loss: 1.1647 - acc: 0.5893 - val_loss: 1.1227 - val_acc: 0.6053\n",
      "Epoch 19/500\n",
      "4/4 [==============================] - 0s 24ms/step - loss: 1.1574 - acc: 0.6250 - val_loss: 1.1163 - val_acc: 0.6579\n",
      "Epoch 20/500\n",
      "4/4 [==============================] - 0s 24ms/step - loss: 1.1502 - acc: 0.6429 - val_loss: 1.1103 - val_acc: 0.6579\n",
      "Epoch 21/500\n",
      "4/4 [==============================] - 0s 25ms/step - loss: 1.1431 - acc: 0.6429 - val_loss: 1.1047 - val_acc: 0.6842\n",
      "Epoch 22/500\n",
      "4/4 [==============================] - 0s 24ms/step - loss: 1.1367 - acc: 0.6518 - val_loss: 1.0992 - val_acc: 0.7105\n",
      "Epoch 23/500\n",
      "4/4 [==============================] - 0s 21ms/step - loss: 1.1299 - acc: 0.6518 - val_loss: 1.0939 - val_acc: 0.7105\n",
      "Epoch 24/500\n",
      "4/4 [==============================] - 0s 25ms/step - loss: 1.1248 - acc: 0.6518 - val_loss: 1.0886 - val_acc: 0.7105\n",
      "Epoch 25/500\n",
      "4/4 [==============================] - 0s 25ms/step - loss: 1.1180 - acc: 0.6518 - val_loss: 1.0834 - val_acc: 0.7105\n",
      "Epoch 26/500\n",
      "4/4 [==============================] - 0s 26ms/step - loss: 1.1132 - acc: 0.6518 - val_loss: 1.0785 - val_acc: 0.7105\n",
      "Epoch 27/500\n",
      "4/4 [==============================] - 0s 22ms/step - loss: 1.1078 - acc: 0.6518 - val_loss: 1.0743 - val_acc: 0.7105\n",
      "Epoch 28/500\n",
      "4/4 [==============================] - 0s 23ms/step - loss: 1.1026 - acc: 0.6518 - val_loss: 1.0698 - val_acc: 0.7105\n",
      "Epoch 29/500\n",
      "4/4 [==============================] - 0s 24ms/step - loss: 1.0982 - acc: 0.6518 - val_loss: 1.0653 - val_acc: 0.7105\n",
      "Epoch 30/500\n",
      "4/4 [==============================] - 0s 24ms/step - loss: 1.0937 - acc: 0.6518 - val_loss: 1.0612 - val_acc: 0.7105\n",
      "Epoch 31/500\n",
      "4/4 [==============================] - 0s 24ms/step - loss: 1.0888 - acc: 0.6518 - val_loss: 1.0575 - val_acc: 0.7105\n",
      "Epoch 32/500\n",
      "4/4 [==============================] - 0s 24ms/step - loss: 1.0850 - acc: 0.6518 - val_loss: 1.0537 - val_acc: 0.7105\n",
      "Epoch 33/500\n",
      "4/4 [==============================] - 0s 21ms/step - loss: 1.0805 - acc: 0.6518 - val_loss: 1.0501 - val_acc: 0.7105\n",
      "Epoch 34/500\n",
      "4/4 [==============================] - 0s 24ms/step - loss: 1.0773 - acc: 0.6518 - val_loss: 1.0467 - val_acc: 0.7105\n",
      "Epoch 35/500\n",
      "4/4 [==============================] - 0s 26ms/step - loss: 1.0731 - acc: 0.6518 - val_loss: 1.0437 - val_acc: 0.7105\n",
      "Epoch 36/500\n",
      "4/4 [==============================] - 0s 21ms/step - loss: 1.0693 - acc: 0.6518 - val_loss: 1.0410 - val_acc: 0.7105\n",
      "Epoch 37/500\n",
      "4/4 [==============================] - 0s 24ms/step - loss: 1.0658 - acc: 0.6518 - val_loss: 1.0383 - val_acc: 0.7105\n",
      "Epoch 38/500\n",
      "4/4 [==============================] - 0s 23ms/step - loss: 1.0626 - acc: 0.6518 - val_loss: 1.0354 - val_acc: 0.7105\n",
      "Epoch 39/500\n",
      "4/4 [==============================] - 0s 26ms/step - loss: 1.0588 - acc: 0.6518 - val_loss: 1.0330 - val_acc: 0.7105\n",
      "Epoch 40/500\n",
      "4/4 [==============================] - 0s 24ms/step - loss: 1.0558 - acc: 0.6518 - val_loss: 1.0304 - val_acc: 0.7105\n",
      "Epoch 41/500\n",
      "4/4 [==============================] - 0s 23ms/step - loss: 1.0523 - acc: 0.6518 - val_loss: 1.0276 - val_acc: 0.7105\n",
      "Epoch 42/500\n",
      "4/4 [==============================] - 0s 23ms/step - loss: 1.0493 - acc: 0.6518 - val_loss: 1.0249 - val_acc: 0.7105\n",
      "Epoch 43/500\n",
      "4/4 [==============================] - 0s 23ms/step - loss: 1.0462 - acc: 0.6518 - val_loss: 1.0224 - val_acc: 0.7105\n",
      "Epoch 44/500\n",
      "4/4 [==============================] - 0s 25ms/step - loss: 1.0433 - acc: 0.6518 - val_loss: 1.0199 - val_acc: 0.7105\n",
      "Epoch 45/500\n",
      "4/4 [==============================] - 0s 24ms/step - loss: 1.0403 - acc: 0.6518 - val_loss: 1.0171 - val_acc: 0.7105\n",
      "Epoch 46/500\n",
      "4/4 [==============================] - 0s 24ms/step - loss: 1.0372 - acc: 0.6518 - val_loss: 1.0147 - val_acc: 0.7105\n",
      "Epoch 47/500\n",
      "4/4 [==============================] - 0s 27ms/step - loss: 1.0346 - acc: 0.6518 - val_loss: 1.0120 - val_acc: 0.7105\n",
      "Epoch 48/500\n",
      "4/4 [==============================] - 0s 23ms/step - loss: 1.0316 - acc: 0.6518 - val_loss: 1.0097 - val_acc: 0.7105\n",
      "Epoch 49/500\n",
      "4/4 [==============================] - 0s 24ms/step - loss: 1.0287 - acc: 0.6518 - val_loss: 1.0078 - val_acc: 0.7105\n",
      "Epoch 50/500\n",
      "4/4 [==============================] - 0s 24ms/step - loss: 1.0262 - acc: 0.6518 - val_loss: 1.0059 - val_acc: 0.7105\n",
      "Epoch 51/500\n",
      "4/4 [==============================] - 0s 23ms/step - loss: 1.0234 - acc: 0.6518 - val_loss: 1.0034 - val_acc: 0.7105\n",
      "Epoch 52/500\n",
      "4/4 [==============================] - 0s 22ms/step - loss: 1.0208 - acc: 0.6518 - val_loss: 1.0011 - val_acc: 0.7105\n",
      "Epoch 53/500\n",
      "4/4 [==============================] - 0s 21ms/step - loss: 1.0185 - acc: 0.6518 - val_loss: 0.9989 - val_acc: 0.7105\n",
      "Epoch 54/500\n",
      "4/4 [==============================] - 0s 25ms/step - loss: 1.0161 - acc: 0.6518 - val_loss: 0.9967 - val_acc: 0.7105\n",
      "Epoch 55/500\n",
      "4/4 [==============================] - 0s 21ms/step - loss: 1.0136 - acc: 0.6518 - val_loss: 0.9947 - val_acc: 0.7105\n",
      "Epoch 56/500\n",
      "4/4 [==============================] - 0s 26ms/step - loss: 1.0110 - acc: 0.6518 - val_loss: 0.9924 - val_acc: 0.7105\n",
      "Epoch 57/500\n",
      "4/4 [==============================] - 0s 23ms/step - loss: 1.0086 - acc: 0.6518 - val_loss: 0.9901 - val_acc: 0.7105\n",
      "Epoch 58/500\n",
      "4/4 [==============================] - 0s 25ms/step - loss: 1.0067 - acc: 0.6518 - val_loss: 0.9873 - val_acc: 0.7105\n",
      "Epoch 59/500\n",
      "4/4 [==============================] - 0s 22ms/step - loss: 1.0041 - acc: 0.6518 - val_loss: 0.9843 - val_acc: 0.7105\n",
      "Epoch 60/500\n",
      "4/4 [==============================] - 0s 21ms/step - loss: 1.0018 - acc: 0.6518 - val_loss: 0.9819 - val_acc: 0.7105\n",
      "Epoch 61/500\n",
      "4/4 [==============================] - 0s 27ms/step - loss: 0.9995 - acc: 0.6518 - val_loss: 0.9791 - val_acc: 0.7105\n",
      "Epoch 62/500\n",
      "4/4 [==============================] - 0s 24ms/step - loss: 0.9974 - acc: 0.6518 - val_loss: 0.9762 - val_acc: 0.7105\n",
      "Epoch 63/500\n"
     ]
    },
    {
     "name": "stdout",
     "output_type": "stream",
     "text": [
      "4/4 [==============================] - 0s 22ms/step - loss: 0.9951 - acc: 0.6518 - val_loss: 0.9736 - val_acc: 0.7105\n",
      "Epoch 64/500\n",
      "4/4 [==============================] - 0s 24ms/step - loss: 0.9930 - acc: 0.6518 - val_loss: 0.9708 - val_acc: 0.7105\n",
      "Epoch 65/500\n",
      "4/4 [==============================] - 0s 21ms/step - loss: 0.9908 - acc: 0.6518 - val_loss: 0.9680 - val_acc: 0.7105\n",
      "Epoch 66/500\n",
      "4/4 [==============================] - 0s 22ms/step - loss: 0.9886 - acc: 0.6518 - val_loss: 0.9654 - val_acc: 0.7105\n",
      "Epoch 67/500\n",
      "4/4 [==============================] - 0s 23ms/step - loss: 0.9864 - acc: 0.6518 - val_loss: 0.9626 - val_acc: 0.7105\n",
      "Epoch 68/500\n",
      "4/4 [==============================] - 0s 23ms/step - loss: 0.9841 - acc: 0.6518 - val_loss: 0.9601 - val_acc: 0.7105\n",
      "Epoch 69/500\n",
      "4/4 [==============================] - 0s 24ms/step - loss: 0.9822 - acc: 0.6518 - val_loss: 0.9574 - val_acc: 0.7105\n",
      "Epoch 70/500\n",
      "4/4 [==============================] - 0s 23ms/step - loss: 0.9796 - acc: 0.6518 - val_loss: 0.9550 - val_acc: 0.7105\n",
      "Epoch 71/500\n",
      "4/4 [==============================] - 0s 23ms/step - loss: 0.9774 - acc: 0.6518 - val_loss: 0.9525 - val_acc: 0.7105\n",
      "Epoch 72/500\n",
      "4/4 [==============================] - 0s 22ms/step - loss: 0.9753 - acc: 0.6518 - val_loss: 0.9502 - val_acc: 0.7105\n",
      "Epoch 73/500\n",
      "4/4 [==============================] - 0s 24ms/step - loss: 0.9729 - acc: 0.6518 - val_loss: 0.9479 - val_acc: 0.7105\n",
      "Epoch 74/500\n",
      "4/4 [==============================] - 0s 22ms/step - loss: 0.9707 - acc: 0.6518 - val_loss: 0.9457 - val_acc: 0.7105\n",
      "Epoch 75/500\n",
      "4/4 [==============================] - 0s 23ms/step - loss: 0.9684 - acc: 0.6518 - val_loss: 0.9432 - val_acc: 0.7105\n",
      "Epoch 76/500\n",
      "4/4 [==============================] - 0s 26ms/step - loss: 0.9661 - acc: 0.6518 - val_loss: 0.9403 - val_acc: 0.7105\n",
      "Epoch 77/500\n",
      "4/4 [==============================] - 0s 23ms/step - loss: 0.9638 - acc: 0.6518 - val_loss: 0.9373 - val_acc: 0.7105\n",
      "Epoch 78/500\n",
      "4/4 [==============================] - 0s 23ms/step - loss: 0.9614 - acc: 0.6518 - val_loss: 0.9347 - val_acc: 0.7105\n",
      "Epoch 79/500\n",
      "4/4 [==============================] - 0s 24ms/step - loss: 0.9590 - acc: 0.6518 - val_loss: 0.9320 - val_acc: 0.7105\n",
      "Epoch 80/500\n",
      "4/4 [==============================] - 0s 23ms/step - loss: 0.9566 - acc: 0.6518 - val_loss: 0.9291 - val_acc: 0.7105\n",
      "Epoch 81/500\n",
      "4/4 [==============================] - 0s 23ms/step - loss: 0.9543 - acc: 0.6518 - val_loss: 0.9261 - val_acc: 0.7105\n",
      "Epoch 82/500\n",
      "4/4 [==============================] - 0s 22ms/step - loss: 0.9520 - acc: 0.6518 - val_loss: 0.9231 - val_acc: 0.7105\n",
      "Epoch 83/500\n",
      "4/4 [==============================] - 0s 22ms/step - loss: 0.9494 - acc: 0.6518 - val_loss: 0.9200 - val_acc: 0.7105\n",
      "Epoch 84/500\n",
      "4/4 [==============================] - 0s 23ms/step - loss: 0.9470 - acc: 0.6518 - val_loss: 0.9173 - val_acc: 0.7105\n",
      "Epoch 85/500\n",
      "4/4 [==============================] - 0s 24ms/step - loss: 0.9445 - acc: 0.6518 - val_loss: 0.9143 - val_acc: 0.7105\n",
      "Epoch 86/500\n",
      "4/4 [==============================] - 0s 23ms/step - loss: 0.9420 - acc: 0.6518 - val_loss: 0.9113 - val_acc: 0.7105\n",
      "Epoch 87/500\n",
      "4/4 [==============================] - 0s 24ms/step - loss: 0.9395 - acc: 0.6518 - val_loss: 0.9085 - val_acc: 0.7105\n",
      "Epoch 88/500\n",
      "4/4 [==============================] - 0s 23ms/step - loss: 0.9370 - acc: 0.6518 - val_loss: 0.9051 - val_acc: 0.7105\n",
      "Epoch 89/500\n",
      "4/4 [==============================] - 0s 28ms/step - loss: 0.9344 - acc: 0.6518 - val_loss: 0.9019 - val_acc: 0.7105\n",
      "Epoch 90/500\n",
      "4/4 [==============================] - 0s 26ms/step - loss: 0.9318 - acc: 0.6518 - val_loss: 0.8983 - val_acc: 0.7105\n",
      "Epoch 91/500\n",
      "4/4 [==============================] - 0s 23ms/step - loss: 0.9291 - acc: 0.6518 - val_loss: 0.8948 - val_acc: 0.7105\n",
      "Epoch 92/500\n",
      "4/4 [==============================] - 0s 24ms/step - loss: 0.9265 - acc: 0.6518 - val_loss: 0.8910 - val_acc: 0.7105\n",
      "Epoch 93/500\n",
      "4/4 [==============================] - 0s 23ms/step - loss: 0.9239 - acc: 0.6518 - val_loss: 0.8868 - val_acc: 0.7105\n",
      "Epoch 94/500\n",
      "4/4 [==============================] - 0s 24ms/step - loss: 0.9210 - acc: 0.6518 - val_loss: 0.8832 - val_acc: 0.7368\n",
      "Epoch 95/500\n",
      "4/4 [==============================] - 0s 24ms/step - loss: 0.9183 - acc: 0.6518 - val_loss: 0.8798 - val_acc: 0.7368\n",
      "Epoch 96/500\n",
      "4/4 [==============================] - 0s 23ms/step - loss: 0.9155 - acc: 0.6518 - val_loss: 0.8767 - val_acc: 0.7632\n",
      "Epoch 97/500\n",
      "4/4 [==============================] - 0s 23ms/step - loss: 0.9127 - acc: 0.6518 - val_loss: 0.8732 - val_acc: 0.7632\n",
      "Epoch 98/500\n",
      "4/4 [==============================] - 0s 24ms/step - loss: 0.9100 - acc: 0.6518 - val_loss: 0.8696 - val_acc: 0.7632\n",
      "Epoch 99/500\n",
      "4/4 [==============================] - 0s 21ms/step - loss: 0.9070 - acc: 0.6607 - val_loss: 0.8666 - val_acc: 0.7632\n",
      "Epoch 100/500\n",
      "4/4 [==============================] - 0s 21ms/step - loss: 0.9041 - acc: 0.6607 - val_loss: 0.8636 - val_acc: 0.7632\n",
      "Epoch 101/500\n",
      "4/4 [==============================] - 0s 25ms/step - loss: 0.9015 - acc: 0.6607 - val_loss: 0.8605 - val_acc: 0.7632\n",
      "Epoch 102/500\n",
      "4/4 [==============================] - 0s 22ms/step - loss: 0.8984 - acc: 0.6607 - val_loss: 0.8563 - val_acc: 0.7632\n",
      "Epoch 103/500\n",
      "4/4 [==============================] - 0s 25ms/step - loss: 0.8956 - acc: 0.6607 - val_loss: 0.8523 - val_acc: 0.7632\n",
      "Epoch 104/500\n",
      "4/4 [==============================] - 0s 24ms/step - loss: 0.8926 - acc: 0.6607 - val_loss: 0.8486 - val_acc: 0.7632\n",
      "Epoch 105/500\n",
      "4/4 [==============================] - 0s 24ms/step - loss: 0.8896 - acc: 0.6607 - val_loss: 0.8454 - val_acc: 0.7632\n",
      "Epoch 106/500\n",
      "4/4 [==============================] - 0s 26ms/step - loss: 0.8866 - acc: 0.6607 - val_loss: 0.8415 - val_acc: 0.7632\n",
      "Epoch 107/500\n",
      "4/4 [==============================] - 0s 23ms/step - loss: 0.8838 - acc: 0.6607 - val_loss: 0.8376 - val_acc: 0.7632\n",
      "Epoch 108/500\n",
      "4/4 [==============================] - 0s 25ms/step - loss: 0.8807 - acc: 0.6607 - val_loss: 0.8343 - val_acc: 0.7632\n",
      "Epoch 109/500\n",
      "4/4 [==============================] - 0s 24ms/step - loss: 0.8778 - acc: 0.6786 - val_loss: 0.8303 - val_acc: 0.7632\n",
      "Epoch 110/500\n",
      "4/4 [==============================] - 0s 22ms/step - loss: 0.8747 - acc: 0.6875 - val_loss: 0.8269 - val_acc: 0.7632\n",
      "Epoch 111/500\n",
      "4/4 [==============================] - 0s 22ms/step - loss: 0.8717 - acc: 0.6875 - val_loss: 0.8239 - val_acc: 0.7632\n",
      "Epoch 112/500\n",
      "4/4 [==============================] - 0s 23ms/step - loss: 0.8687 - acc: 0.6875 - val_loss: 0.8205 - val_acc: 0.7632\n",
      "Epoch 113/500\n",
      "4/4 [==============================] - 0s 23ms/step - loss: 0.8657 - acc: 0.6875 - val_loss: 0.8172 - val_acc: 0.7632\n",
      "Epoch 114/500\n",
      "4/4 [==============================] - 0s 25ms/step - loss: 0.8628 - acc: 0.6607 - val_loss: 0.8135 - val_acc: 0.7632\n",
      "Epoch 115/500\n",
      "4/4 [==============================] - 0s 21ms/step - loss: 0.8597 - acc: 0.6607 - val_loss: 0.8101 - val_acc: 0.7632\n",
      "Epoch 116/500\n",
      "4/4 [==============================] - 0s 23ms/step - loss: 0.8567 - acc: 0.6607 - val_loss: 0.8071 - val_acc: 0.7632\n",
      "Epoch 117/500\n",
      "4/4 [==============================] - 0s 23ms/step - loss: 0.8537 - acc: 0.6607 - val_loss: 0.8038 - val_acc: 0.7632\n",
      "Epoch 118/500\n",
      "4/4 [==============================] - 0s 25ms/step - loss: 0.8507 - acc: 0.6607 - val_loss: 0.8005 - val_acc: 0.7632\n",
      "Epoch 119/500\n",
      "4/4 [==============================] - 0s 21ms/step - loss: 0.8477 - acc: 0.6607 - val_loss: 0.7970 - val_acc: 0.7632\n",
      "Epoch 120/500\n",
      "4/4 [==============================] - 0s 23ms/step - loss: 0.8447 - acc: 0.6607 - val_loss: 0.7935 - val_acc: 0.7632\n",
      "Epoch 121/500\n",
      "4/4 [==============================] - 0s 25ms/step - loss: 0.8417 - acc: 0.6607 - val_loss: 0.7896 - val_acc: 0.7632\n",
      "Epoch 122/500\n",
      "4/4 [==============================] - 0s 22ms/step - loss: 0.8387 - acc: 0.6607 - val_loss: 0.7856 - val_acc: 0.7632\n",
      "Epoch 123/500\n",
      "4/4 [==============================] - 0s 21ms/step - loss: 0.8357 - acc: 0.6607 - val_loss: 0.7818 - val_acc: 0.7632\n",
      "Epoch 124/500\n",
      "4/4 [==============================] - 0s 23ms/step - loss: 0.8328 - acc: 0.6607 - val_loss: 0.7782 - val_acc: 0.7632\n",
      "Epoch 125/500\n"
     ]
    },
    {
     "name": "stdout",
     "output_type": "stream",
     "text": [
      "4/4 [==============================] - 0s 23ms/step - loss: 0.8298 - acc: 0.6607 - val_loss: 0.7744 - val_acc: 0.7632\n",
      "Epoch 126/500\n",
      "4/4 [==============================] - 0s 22ms/step - loss: 0.8268 - acc: 0.6607 - val_loss: 0.7712 - val_acc: 0.7632\n",
      "Epoch 127/500\n",
      "4/4 [==============================] - 0s 22ms/step - loss: 0.8239 - acc: 0.6607 - val_loss: 0.7681 - val_acc: 0.7632\n",
      "Epoch 128/500\n",
      "4/4 [==============================] - 0s 23ms/step - loss: 0.8210 - acc: 0.6607 - val_loss: 0.7646 - val_acc: 0.7632\n",
      "Epoch 129/500\n",
      "4/4 [==============================] - 0s 23ms/step - loss: 0.8183 - acc: 0.6607 - val_loss: 0.7608 - val_acc: 0.7632\n",
      "Epoch 130/500\n",
      "4/4 [==============================] - 0s 25ms/step - loss: 0.8152 - acc: 0.6607 - val_loss: 0.7577 - val_acc: 0.7632\n",
      "Epoch 131/500\n",
      "4/4 [==============================] - 0s 23ms/step - loss: 0.8123 - acc: 0.6607 - val_loss: 0.7540 - val_acc: 0.7632\n",
      "Epoch 132/500\n",
      "4/4 [==============================] - 0s 23ms/step - loss: 0.8095 - acc: 0.6607 - val_loss: 0.7498 - val_acc: 0.7632\n",
      "Epoch 133/500\n",
      "4/4 [==============================] - 0s 22ms/step - loss: 0.8066 - acc: 0.6607 - val_loss: 0.7456 - val_acc: 0.7632\n",
      "Epoch 134/500\n",
      "4/4 [==============================] - 0s 27ms/step - loss: 0.8037 - acc: 0.6607 - val_loss: 0.7417 - val_acc: 0.7632\n",
      "Epoch 135/500\n",
      "4/4 [==============================] - 0s 21ms/step - loss: 0.8009 - acc: 0.6607 - val_loss: 0.7383 - val_acc: 0.7632\n",
      "Epoch 136/500\n",
      "4/4 [==============================] - 0s 22ms/step - loss: 0.7981 - acc: 0.6607 - val_loss: 0.7350 - val_acc: 0.7632\n",
      "Epoch 137/500\n",
      "4/4 [==============================] - 0s 23ms/step - loss: 0.7952 - acc: 0.6607 - val_loss: 0.7315 - val_acc: 0.7632\n",
      "Epoch 138/500\n",
      "4/4 [==============================] - 0s 24ms/step - loss: 0.7925 - acc: 0.6607 - val_loss: 0.7280 - val_acc: 0.7632\n",
      "Epoch 139/500\n",
      "4/4 [==============================] - 0s 20ms/step - loss: 0.7898 - acc: 0.6607 - val_loss: 0.7243 - val_acc: 0.7632\n",
      "Epoch 140/500\n",
      "4/4 [==============================] - 0s 22ms/step - loss: 0.7870 - acc: 0.6607 - val_loss: 0.7210 - val_acc: 0.7632\n",
      "Epoch 141/500\n",
      "4/4 [==============================] - 0s 22ms/step - loss: 0.7844 - acc: 0.6607 - val_loss: 0.7174 - val_acc: 0.7632\n",
      "Epoch 142/500\n",
      "4/4 [==============================] - 0s 21ms/step - loss: 0.7816 - acc: 0.6518 - val_loss: 0.7146 - val_acc: 0.7632\n",
      "Epoch 143/500\n",
      "4/4 [==============================] - 0s 24ms/step - loss: 0.7789 - acc: 0.6518 - val_loss: 0.7112 - val_acc: 0.7632\n",
      "Epoch 144/500\n",
      "4/4 [==============================] - 0s 25ms/step - loss: 0.7762 - acc: 0.6518 - val_loss: 0.7081 - val_acc: 0.7632\n",
      "Epoch 145/500\n",
      "4/4 [==============================] - 0s 22ms/step - loss: 0.7736 - acc: 0.6518 - val_loss: 0.7051 - val_acc: 0.7632\n",
      "Epoch 146/500\n",
      "4/4 [==============================] - 0s 24ms/step - loss: 0.7710 - acc: 0.6518 - val_loss: 0.7020 - val_acc: 0.7632\n",
      "Epoch 147/500\n",
      "4/4 [==============================] - 0s 25ms/step - loss: 0.7684 - acc: 0.6518 - val_loss: 0.6987 - val_acc: 0.7632\n",
      "Epoch 148/500\n",
      "4/4 [==============================] - 0s 23ms/step - loss: 0.7659 - acc: 0.6518 - val_loss: 0.6954 - val_acc: 0.7632\n",
      "Epoch 149/500\n",
      "4/4 [==============================] - 0s 22ms/step - loss: 0.7631 - acc: 0.6518 - val_loss: 0.6924 - val_acc: 0.7632\n",
      "Epoch 150/500\n",
      "4/4 [==============================] - 0s 24ms/step - loss: 0.7607 - acc: 0.6518 - val_loss: 0.6896 - val_acc: 0.7632\n",
      "Epoch 151/500\n",
      "4/4 [==============================] - 0s 23ms/step - loss: 0.7582 - acc: 0.6518 - val_loss: 0.6866 - val_acc: 0.7632\n",
      "Epoch 152/500\n",
      "4/4 [==============================] - 0s 22ms/step - loss: 0.7556 - acc: 0.6607 - val_loss: 0.6836 - val_acc: 0.7632\n",
      "Epoch 153/500\n",
      "4/4 [==============================] - 0s 24ms/step - loss: 0.7532 - acc: 0.6607 - val_loss: 0.6805 - val_acc: 0.7632\n",
      "Epoch 154/500\n",
      "4/4 [==============================] - 0s 25ms/step - loss: 0.7506 - acc: 0.6607 - val_loss: 0.6777 - val_acc: 0.7632\n",
      "Epoch 155/500\n",
      "4/4 [==============================] - 0s 22ms/step - loss: 0.7481 - acc: 0.6518 - val_loss: 0.6748 - val_acc: 0.7632\n",
      "Epoch 156/500\n",
      "4/4 [==============================] - 0s 22ms/step - loss: 0.7457 - acc: 0.6518 - val_loss: 0.6719 - val_acc: 0.7632\n",
      "Epoch 157/500\n",
      "4/4 [==============================] - 0s 24ms/step - loss: 0.7433 - acc: 0.6518 - val_loss: 0.6691 - val_acc: 0.7632\n",
      "Epoch 158/500\n",
      "4/4 [==============================] - 0s 20ms/step - loss: 0.7409 - acc: 0.6518 - val_loss: 0.6662 - val_acc: 0.7632\n",
      "Epoch 159/500\n",
      "4/4 [==============================] - 0s 25ms/step - loss: 0.7385 - acc: 0.6518 - val_loss: 0.6633 - val_acc: 0.7632\n",
      "Epoch 160/500\n",
      "4/4 [==============================] - 0s 23ms/step - loss: 0.7362 - acc: 0.6518 - val_loss: 0.6600 - val_acc: 0.7632\n",
      "Epoch 161/500\n",
      "4/4 [==============================] - 0s 21ms/step - loss: 0.7338 - acc: 0.6607 - val_loss: 0.6570 - val_acc: 0.7632\n",
      "Epoch 162/500\n",
      "4/4 [==============================] - 0s 24ms/step - loss: 0.7314 - acc: 0.6696 - val_loss: 0.6544 - val_acc: 0.7632\n",
      "Epoch 163/500\n",
      "4/4 [==============================] - 0s 24ms/step - loss: 0.7291 - acc: 0.6696 - val_loss: 0.6519 - val_acc: 0.7632\n",
      "Epoch 164/500\n",
      "4/4 [==============================] - 0s 24ms/step - loss: 0.7269 - acc: 0.6786 - val_loss: 0.6491 - val_acc: 0.7632\n",
      "Epoch 165/500\n",
      "4/4 [==============================] - 0s 21ms/step - loss: 0.7246 - acc: 0.6786 - val_loss: 0.6462 - val_acc: 0.7632\n",
      "Epoch 166/500\n",
      "4/4 [==============================] - 0s 24ms/step - loss: 0.7224 - acc: 0.6696 - val_loss: 0.6436 - val_acc: 0.7632\n",
      "Epoch 167/500\n",
      "4/4 [==============================] - 0s 25ms/step - loss: 0.7201 - acc: 0.6786 - val_loss: 0.6408 - val_acc: 0.7632\n",
      "Epoch 168/500\n",
      "4/4 [==============================] - 0s 21ms/step - loss: 0.7179 - acc: 0.6786 - val_loss: 0.6381 - val_acc: 0.7632\n",
      "Epoch 169/500\n",
      "4/4 [==============================] - 0s 26ms/step - loss: 0.7156 - acc: 0.6786 - val_loss: 0.6355 - val_acc: 0.7632\n",
      "Epoch 170/500\n",
      "4/4 [==============================] - 0s 22ms/step - loss: 0.7135 - acc: 0.6786 - val_loss: 0.6327 - val_acc: 0.7632\n",
      "Epoch 171/500\n",
      "4/4 [==============================] - 0s 23ms/step - loss: 0.7113 - acc: 0.6786 - val_loss: 0.6301 - val_acc: 0.7895\n",
      "Epoch 172/500\n",
      "4/4 [==============================] - 0s 21ms/step - loss: 0.7092 - acc: 0.6875 - val_loss: 0.6277 - val_acc: 0.7895\n",
      "Epoch 173/500\n",
      "4/4 [==============================] - 0s 24ms/step - loss: 0.7072 - acc: 0.6786 - val_loss: 0.6253 - val_acc: 0.7895\n",
      "Epoch 174/500\n",
      "4/4 [==============================] - 0s 24ms/step - loss: 0.7049 - acc: 0.6786 - val_loss: 0.6229 - val_acc: 0.7895\n",
      "Epoch 175/500\n",
      "4/4 [==============================] - 0s 24ms/step - loss: 0.7028 - acc: 0.6786 - val_loss: 0.6205 - val_acc: 0.7895\n",
      "Epoch 176/500\n",
      "4/4 [==============================] - 0s 24ms/step - loss: 0.7008 - acc: 0.6786 - val_loss: 0.6181 - val_acc: 0.7632\n",
      "Epoch 177/500\n",
      "4/4 [==============================] - 0s 23ms/step - loss: 0.6987 - acc: 0.6786 - val_loss: 0.6155 - val_acc: 0.7895\n",
      "Epoch 178/500\n",
      "4/4 [==============================] - 0s 22ms/step - loss: 0.6966 - acc: 0.6786 - val_loss: 0.6131 - val_acc: 0.7895\n",
      "Epoch 179/500\n",
      "4/4 [==============================] - 0s 24ms/step - loss: 0.6946 - acc: 0.6607 - val_loss: 0.6109 - val_acc: 0.7632\n",
      "Epoch 180/500\n",
      "4/4 [==============================] - 0s 23ms/step - loss: 0.6928 - acc: 0.6607 - val_loss: 0.6084 - val_acc: 0.7632\n",
      "Epoch 181/500\n",
      "4/4 [==============================] - 0s 22ms/step - loss: 0.6907 - acc: 0.6607 - val_loss: 0.6059 - val_acc: 0.7895\n",
      "Epoch 182/500\n",
      "4/4 [==============================] - 0s 25ms/step - loss: 0.6887 - acc: 0.6875 - val_loss: 0.6038 - val_acc: 0.7895\n",
      "Epoch 183/500\n",
      "4/4 [==============================] - 0s 26ms/step - loss: 0.6867 - acc: 0.6875 - val_loss: 0.6017 - val_acc: 0.7895\n",
      "Epoch 184/500\n",
      "4/4 [==============================] - 0s 20ms/step - loss: 0.6848 - acc: 0.6875 - val_loss: 0.5998 - val_acc: 0.7895\n",
      "Epoch 185/500\n",
      "4/4 [==============================] - 0s 25ms/step - loss: 0.6829 - acc: 0.6964 - val_loss: 0.5975 - val_acc: 0.7895\n",
      "Epoch 186/500\n",
      "4/4 [==============================] - 0s 24ms/step - loss: 0.6810 - acc: 0.6964 - val_loss: 0.5952 - val_acc: 0.7895\n",
      "Epoch 187/500\n"
     ]
    },
    {
     "name": "stdout",
     "output_type": "stream",
     "text": [
      "4/4 [==============================] - 0s 24ms/step - loss: 0.6791 - acc: 0.6964 - val_loss: 0.5928 - val_acc: 0.7895\n",
      "Epoch 188/500\n",
      "4/4 [==============================] - 0s 24ms/step - loss: 0.6773 - acc: 0.6964 - val_loss: 0.5902 - val_acc: 0.7895\n",
      "Epoch 189/500\n",
      "4/4 [==============================] - 0s 26ms/step - loss: 0.6754 - acc: 0.6964 - val_loss: 0.5878 - val_acc: 0.7895\n",
      "Epoch 190/500\n",
      "4/4 [==============================] - 0s 24ms/step - loss: 0.6736 - acc: 0.6964 - val_loss: 0.5853 - val_acc: 0.7895\n",
      "Epoch 191/500\n",
      "4/4 [==============================] - 0s 24ms/step - loss: 0.6716 - acc: 0.6964 - val_loss: 0.5831 - val_acc: 0.7895\n",
      "Epoch 192/500\n",
      "4/4 [==============================] - 0s 28ms/step - loss: 0.6699 - acc: 0.7054 - val_loss: 0.5809 - val_acc: 0.7895\n",
      "Epoch 193/500\n",
      "4/4 [==============================] - 0s 23ms/step - loss: 0.6682 - acc: 0.7054 - val_loss: 0.5788 - val_acc: 0.7895\n",
      "Epoch 194/500\n",
      "4/4 [==============================] - 0s 24ms/step - loss: 0.6662 - acc: 0.7054 - val_loss: 0.5768 - val_acc: 0.7895\n",
      "Epoch 195/500\n",
      "4/4 [==============================] - 0s 24ms/step - loss: 0.6645 - acc: 0.7054 - val_loss: 0.5746 - val_acc: 0.7895\n",
      "Epoch 196/500\n",
      "4/4 [==============================] - 0s 24ms/step - loss: 0.6628 - acc: 0.7054 - val_loss: 0.5725 - val_acc: 0.7895\n",
      "Epoch 197/500\n",
      "4/4 [==============================] - 0s 23ms/step - loss: 0.6611 - acc: 0.7054 - val_loss: 0.5705 - val_acc: 0.7895\n",
      "Epoch 198/500\n",
      "4/4 [==============================] - 0s 24ms/step - loss: 0.6594 - acc: 0.7054 - val_loss: 0.5686 - val_acc: 0.7895\n",
      "Epoch 199/500\n",
      "4/4 [==============================] - 0s 22ms/step - loss: 0.6576 - acc: 0.7054 - val_loss: 0.5667 - val_acc: 0.7895\n",
      "Epoch 200/500\n",
      "4/4 [==============================] - 0s 22ms/step - loss: 0.6559 - acc: 0.7054 - val_loss: 0.5648 - val_acc: 0.7895\n",
      "Epoch 201/500\n",
      "4/4 [==============================] - 0s 22ms/step - loss: 0.6542 - acc: 0.7054 - val_loss: 0.5630 - val_acc: 0.7895\n",
      "Epoch 202/500\n",
      "4/4 [==============================] - 0s 23ms/step - loss: 0.6526 - acc: 0.7054 - val_loss: 0.5614 - val_acc: 0.7895\n",
      "Epoch 203/500\n",
      "4/4 [==============================] - 0s 22ms/step - loss: 0.6510 - acc: 0.7143 - val_loss: 0.5595 - val_acc: 0.7895\n",
      "Epoch 204/500\n",
      "4/4 [==============================] - 0s 25ms/step - loss: 0.6494 - acc: 0.7143 - val_loss: 0.5576 - val_acc: 0.7895\n",
      "Epoch 205/500\n",
      "4/4 [==============================] - 0s 25ms/step - loss: 0.6478 - acc: 0.7232 - val_loss: 0.5557 - val_acc: 0.7895\n",
      "Epoch 206/500\n",
      "4/4 [==============================] - 0s 23ms/step - loss: 0.6461 - acc: 0.7232 - val_loss: 0.5539 - val_acc: 0.7895\n",
      "Epoch 207/500\n",
      "4/4 [==============================] - 0s 23ms/step - loss: 0.6445 - acc: 0.7321 - val_loss: 0.5522 - val_acc: 0.8158\n",
      "Epoch 208/500\n",
      "4/4 [==============================] - 0s 24ms/step - loss: 0.6430 - acc: 0.7321 - val_loss: 0.5505 - val_acc: 0.8158\n",
      "Epoch 209/500\n",
      "4/4 [==============================] - 0s 22ms/step - loss: 0.6414 - acc: 0.7411 - val_loss: 0.5488 - val_acc: 0.8421\n",
      "Epoch 210/500\n",
      "4/4 [==============================] - 0s 23ms/step - loss: 0.6400 - acc: 0.7411 - val_loss: 0.5471 - val_acc: 0.8421\n",
      "Epoch 211/500\n",
      "4/4 [==============================] - 0s 24ms/step - loss: 0.6383 - acc: 0.7500 - val_loss: 0.5454 - val_acc: 0.8684\n",
      "Epoch 212/500\n",
      "4/4 [==============================] - 0s 25ms/step - loss: 0.6368 - acc: 0.7500 - val_loss: 0.5437 - val_acc: 0.8421\n",
      "Epoch 213/500\n",
      "4/4 [==============================] - 0s 24ms/step - loss: 0.6353 - acc: 0.7500 - val_loss: 0.5422 - val_acc: 0.8684\n",
      "Epoch 214/500\n",
      "4/4 [==============================] - 0s 24ms/step - loss: 0.6338 - acc: 0.7500 - val_loss: 0.5406 - val_acc: 0.8684\n",
      "Epoch 215/500\n",
      "4/4 [==============================] - 0s 24ms/step - loss: 0.6324 - acc: 0.7589 - val_loss: 0.5390 - val_acc: 0.8684\n",
      "Epoch 216/500\n",
      "4/4 [==============================] - 0s 20ms/step - loss: 0.6308 - acc: 0.7500 - val_loss: 0.5375 - val_acc: 0.8684\n",
      "Epoch 217/500\n",
      "4/4 [==============================] - 0s 21ms/step - loss: 0.6294 - acc: 0.7500 - val_loss: 0.5361 - val_acc: 0.8684\n",
      "Epoch 218/500\n",
      "4/4 [==============================] - 0s 22ms/step - loss: 0.6280 - acc: 0.7500 - val_loss: 0.5347 - val_acc: 0.8684\n",
      "Epoch 219/500\n",
      "4/4 [==============================] - 0s 23ms/step - loss: 0.6266 - acc: 0.7500 - val_loss: 0.5331 - val_acc: 0.8684\n",
      "Epoch 220/500\n",
      "4/4 [==============================] - 0s 21ms/step - loss: 0.6251 - acc: 0.7500 - val_loss: 0.5316 - val_acc: 0.8684\n",
      "Epoch 221/500\n",
      "4/4 [==============================] - 0s 24ms/step - loss: 0.6237 - acc: 0.7500 - val_loss: 0.5301 - val_acc: 0.8684\n",
      "Epoch 222/500\n",
      "4/4 [==============================] - 0s 23ms/step - loss: 0.6223 - acc: 0.7500 - val_loss: 0.5287 - val_acc: 0.8421\n",
      "Epoch 223/500\n",
      "4/4 [==============================] - 0s 23ms/step - loss: 0.6210 - acc: 0.7500 - val_loss: 0.5272 - val_acc: 0.8421\n",
      "Epoch 224/500\n",
      "4/4 [==============================] - 0s 24ms/step - loss: 0.6196 - acc: 0.7500 - val_loss: 0.5257 - val_acc: 0.8421\n",
      "Epoch 225/500\n",
      "4/4 [==============================] - 0s 28ms/step - loss: 0.6182 - acc: 0.7500 - val_loss: 0.5241 - val_acc: 0.8421\n",
      "Epoch 226/500\n",
      "4/4 [==============================] - 0s 23ms/step - loss: 0.6170 - acc: 0.7500 - val_loss: 0.5224 - val_acc: 0.8421\n",
      "Epoch 227/500\n",
      "4/4 [==============================] - 0s 24ms/step - loss: 0.6155 - acc: 0.7500 - val_loss: 0.5207 - val_acc: 0.8684\n",
      "Epoch 228/500\n",
      "4/4 [==============================] - 0s 22ms/step - loss: 0.6142 - acc: 0.7589 - val_loss: 0.5192 - val_acc: 0.8684\n",
      "Epoch 229/500\n",
      "4/4 [==============================] - 0s 20ms/step - loss: 0.6129 - acc: 0.7768 - val_loss: 0.5175 - val_acc: 0.8684\n",
      "Epoch 230/500\n",
      "4/4 [==============================] - 0s 23ms/step - loss: 0.6115 - acc: 0.7768 - val_loss: 0.5161 - val_acc: 0.8684\n",
      "Epoch 231/500\n",
      "4/4 [==============================] - 0s 25ms/step - loss: 0.6102 - acc: 0.7768 - val_loss: 0.5147 - val_acc: 0.8684\n",
      "Epoch 232/500\n",
      "4/4 [==============================] - 0s 20ms/step - loss: 0.6088 - acc: 0.7768 - val_loss: 0.5132 - val_acc: 0.8684\n",
      "Epoch 233/500\n",
      "4/4 [==============================] - 0s 22ms/step - loss: 0.6076 - acc: 0.7946 - val_loss: 0.5116 - val_acc: 0.8684\n",
      "Epoch 234/500\n",
      "4/4 [==============================] - 0s 24ms/step - loss: 0.6063 - acc: 0.7946 - val_loss: 0.5102 - val_acc: 0.8684\n",
      "Epoch 235/500\n",
      "4/4 [==============================] - 0s 23ms/step - loss: 0.6050 - acc: 0.8036 - val_loss: 0.5089 - val_acc: 0.8684\n",
      "Epoch 236/500\n",
      "4/4 [==============================] - 0s 23ms/step - loss: 0.6038 - acc: 0.8125 - val_loss: 0.5076 - val_acc: 0.8684\n",
      "Epoch 237/500\n",
      "4/4 [==============================] - 0s 25ms/step - loss: 0.6025 - acc: 0.8125 - val_loss: 0.5062 - val_acc: 0.8947\n",
      "Epoch 238/500\n",
      "4/4 [==============================] - 0s 23ms/step - loss: 0.6013 - acc: 0.8125 - val_loss: 0.5050 - val_acc: 0.8947\n",
      "Epoch 239/500\n",
      "4/4 [==============================] - 0s 23ms/step - loss: 0.6000 - acc: 0.8214 - val_loss: 0.5037 - val_acc: 0.8947\n",
      "Epoch 240/500\n",
      "4/4 [==============================] - 0s 23ms/step - loss: 0.5987 - acc: 0.8304 - val_loss: 0.5024 - val_acc: 0.8947\n",
      "Epoch 241/500\n",
      "4/4 [==============================] - 0s 24ms/step - loss: 0.5975 - acc: 0.8661 - val_loss: 0.5012 - val_acc: 0.8947\n",
      "Epoch 242/500\n",
      "4/4 [==============================] - 0s 23ms/step - loss: 0.5962 - acc: 0.8661 - val_loss: 0.4999 - val_acc: 0.8947\n",
      "Epoch 243/500\n",
      "4/4 [==============================] - 0s 29ms/step - loss: 0.5951 - acc: 0.8661 - val_loss: 0.4987 - val_acc: 0.8947\n",
      "Epoch 244/500\n",
      "4/4 [==============================] - 0s 25ms/step - loss: 0.5938 - acc: 0.8750 - val_loss: 0.4975 - val_acc: 0.8947\n",
      "Epoch 245/500\n",
      "4/4 [==============================] - 0s 21ms/step - loss: 0.5927 - acc: 0.8750 - val_loss: 0.4964 - val_acc: 0.8947\n",
      "Epoch 246/500\n",
      "4/4 [==============================] - 0s 23ms/step - loss: 0.5914 - acc: 0.8750 - val_loss: 0.4950 - val_acc: 0.8947\n",
      "Epoch 247/500\n",
      "4/4 [==============================] - 0s 22ms/step - loss: 0.5903 - acc: 0.8839 - val_loss: 0.4936 - val_acc: 0.8947\n",
      "Epoch 248/500\n",
      "4/4 [==============================] - 0s 22ms/step - loss: 0.5891 - acc: 0.8929 - val_loss: 0.4923 - val_acc: 0.8947\n",
      "Epoch 249/500\n"
     ]
    },
    {
     "name": "stdout",
     "output_type": "stream",
     "text": [
      "4/4 [==============================] - 0s 23ms/step - loss: 0.5879 - acc: 0.8929 - val_loss: 0.4910 - val_acc: 0.8947\n",
      "Epoch 250/500\n",
      "4/4 [==============================] - 0s 23ms/step - loss: 0.5867 - acc: 0.9018 - val_loss: 0.4898 - val_acc: 0.8947\n",
      "Epoch 251/500\n",
      "4/4 [==============================] - 0s 24ms/step - loss: 0.5855 - acc: 0.9018 - val_loss: 0.4886 - val_acc: 0.8947\n",
      "Epoch 252/500\n",
      "4/4 [==============================] - 0s 23ms/step - loss: 0.5845 - acc: 0.9107 - val_loss: 0.4875 - val_acc: 0.8947\n",
      "Epoch 253/500\n",
      "4/4 [==============================] - 0s 24ms/step - loss: 0.5832 - acc: 0.9107 - val_loss: 0.4863 - val_acc: 0.8947\n",
      "Epoch 254/500\n",
      "4/4 [==============================] - 0s 22ms/step - loss: 0.5821 - acc: 0.9107 - val_loss: 0.4852 - val_acc: 0.8947\n",
      "Epoch 255/500\n",
      "4/4 [==============================] - 0s 22ms/step - loss: 0.5810 - acc: 0.9196 - val_loss: 0.4841 - val_acc: 0.8947\n",
      "Epoch 256/500\n",
      "4/4 [==============================] - 0s 22ms/step - loss: 0.5798 - acc: 0.9196 - val_loss: 0.4831 - val_acc: 0.8947\n",
      "Epoch 257/500\n",
      "4/4 [==============================] - 0s 23ms/step - loss: 0.5787 - acc: 0.9107 - val_loss: 0.4820 - val_acc: 0.8947\n",
      "Epoch 258/500\n",
      "4/4 [==============================] - 0s 21ms/step - loss: 0.5776 - acc: 0.9107 - val_loss: 0.4808 - val_acc: 0.8947\n",
      "Epoch 259/500\n",
      "4/4 [==============================] - 0s 23ms/step - loss: 0.5765 - acc: 0.9107 - val_loss: 0.4797 - val_acc: 0.8947\n",
      "Epoch 260/500\n",
      "4/4 [==============================] - 0s 22ms/step - loss: 0.5753 - acc: 0.9286 - val_loss: 0.4786 - val_acc: 0.8947\n",
      "Epoch 261/500\n",
      "4/4 [==============================] - 0s 22ms/step - loss: 0.5742 - acc: 0.9286 - val_loss: 0.4774 - val_acc: 0.8947\n",
      "Epoch 262/500\n",
      "4/4 [==============================] - 0s 25ms/step - loss: 0.5731 - acc: 0.9196 - val_loss: 0.4764 - val_acc: 0.8947\n",
      "Epoch 263/500\n",
      "4/4 [==============================] - 0s 26ms/step - loss: 0.5720 - acc: 0.9107 - val_loss: 0.4754 - val_acc: 0.8947\n",
      "Epoch 264/500\n",
      "4/4 [==============================] - 0s 23ms/step - loss: 0.5709 - acc: 0.9107 - val_loss: 0.4743 - val_acc: 0.8947\n",
      "Epoch 265/500\n",
      "4/4 [==============================] - 0s 27ms/step - loss: 0.5698 - acc: 0.9107 - val_loss: 0.4731 - val_acc: 0.8947\n",
      "Epoch 266/500\n",
      "4/4 [==============================] - 0s 26ms/step - loss: 0.5688 - acc: 0.9196 - val_loss: 0.4719 - val_acc: 0.8947\n",
      "Epoch 267/500\n",
      "4/4 [==============================] - 0s 22ms/step - loss: 0.5677 - acc: 0.9196 - val_loss: 0.4709 - val_acc: 0.8947\n",
      "Epoch 268/500\n",
      "4/4 [==============================] - 0s 22ms/step - loss: 0.5666 - acc: 0.9196 - val_loss: 0.4699 - val_acc: 0.8947\n",
      "Epoch 269/500\n",
      "4/4 [==============================] - 0s 23ms/step - loss: 0.5655 - acc: 0.9286 - val_loss: 0.4689 - val_acc: 0.8947\n",
      "Epoch 270/500\n",
      "4/4 [==============================] - 0s 23ms/step - loss: 0.5644 - acc: 0.9286 - val_loss: 0.4677 - val_acc: 0.8947\n",
      "Epoch 271/500\n",
      "4/4 [==============================] - 0s 22ms/step - loss: 0.5634 - acc: 0.9286 - val_loss: 0.4667 - val_acc: 0.8947\n",
      "Epoch 272/500\n",
      "4/4 [==============================] - 0s 23ms/step - loss: 0.5624 - acc: 0.9286 - val_loss: 0.4655 - val_acc: 0.8947\n",
      "Epoch 273/500\n",
      "4/4 [==============================] - 0s 23ms/step - loss: 0.5612 - acc: 0.9286 - val_loss: 0.4644 - val_acc: 0.8947\n",
      "Epoch 274/500\n",
      "4/4 [==============================] - 0s 21ms/step - loss: 0.5602 - acc: 0.9286 - val_loss: 0.4633 - val_acc: 0.8947\n",
      "Epoch 275/500\n",
      "4/4 [==============================] - 0s 23ms/step - loss: 0.5591 - acc: 0.9375 - val_loss: 0.4622 - val_acc: 0.8947\n",
      "Epoch 276/500\n",
      "4/4 [==============================] - 0s 24ms/step - loss: 0.5581 - acc: 0.9464 - val_loss: 0.4612 - val_acc: 0.9211\n",
      "Epoch 277/500\n",
      "4/4 [==============================] - 0s 22ms/step - loss: 0.5572 - acc: 0.9464 - val_loss: 0.4603 - val_acc: 0.8947\n",
      "Epoch 278/500\n",
      "4/4 [==============================] - 0s 22ms/step - loss: 0.5560 - acc: 0.9464 - val_loss: 0.4591 - val_acc: 0.9211\n",
      "Epoch 279/500\n",
      "4/4 [==============================] - 0s 24ms/step - loss: 0.5549 - acc: 0.9554 - val_loss: 0.4580 - val_acc: 0.9211\n",
      "Epoch 280/500\n",
      "4/4 [==============================] - 0s 24ms/step - loss: 0.5539 - acc: 0.9464 - val_loss: 0.4570 - val_acc: 0.9211\n",
      "Epoch 281/500\n",
      "4/4 [==============================] - 0s 22ms/step - loss: 0.5529 - acc: 0.9554 - val_loss: 0.4560 - val_acc: 0.9211\n",
      "Epoch 282/500\n",
      "4/4 [==============================] - 0s 25ms/step - loss: 0.5518 - acc: 0.9554 - val_loss: 0.4551 - val_acc: 0.9211\n",
      "Epoch 283/500\n",
      "4/4 [==============================] - 0s 22ms/step - loss: 0.5508 - acc: 0.9643 - val_loss: 0.4540 - val_acc: 0.9211\n",
      "Epoch 284/500\n",
      "4/4 [==============================] - 0s 27ms/step - loss: 0.5498 - acc: 0.9643 - val_loss: 0.4531 - val_acc: 0.9211\n",
      "Epoch 285/500\n",
      "4/4 [==============================] - 0s 23ms/step - loss: 0.5489 - acc: 0.9554 - val_loss: 0.4522 - val_acc: 0.9211\n",
      "Epoch 286/500\n",
      "4/4 [==============================] - 0s 23ms/step - loss: 0.5477 - acc: 0.9464 - val_loss: 0.4513 - val_acc: 0.8947\n",
      "Epoch 287/500\n",
      "4/4 [==============================] - 0s 21ms/step - loss: 0.5467 - acc: 0.9464 - val_loss: 0.4504 - val_acc: 0.9211\n",
      "Epoch 288/500\n",
      "4/4 [==============================] - 0s 25ms/step - loss: 0.5457 - acc: 0.9464 - val_loss: 0.4495 - val_acc: 0.8947\n",
      "Epoch 289/500\n",
      "4/4 [==============================] - 0s 24ms/step - loss: 0.5448 - acc: 0.9464 - val_loss: 0.4485 - val_acc: 0.8947\n",
      "Epoch 290/500\n",
      "4/4 [==============================] - 0s 23ms/step - loss: 0.5437 - acc: 0.9464 - val_loss: 0.4476 - val_acc: 0.8947\n",
      "Epoch 291/500\n",
      "4/4 [==============================] - 0s 21ms/step - loss: 0.5427 - acc: 0.9464 - val_loss: 0.4467 - val_acc: 0.8947\n",
      "Epoch 292/500\n",
      "4/4 [==============================] - 0s 23ms/step - loss: 0.5417 - acc: 0.9464 - val_loss: 0.4457 - val_acc: 0.8947\n",
      "Epoch 293/500\n",
      "4/4 [==============================] - 0s 23ms/step - loss: 0.5407 - acc: 0.9464 - val_loss: 0.4448 - val_acc: 0.8947\n",
      "Epoch 294/500\n",
      "4/4 [==============================] - 0s 24ms/step - loss: 0.5397 - acc: 0.9464 - val_loss: 0.4438 - val_acc: 0.9211\n",
      "Epoch 295/500\n",
      "4/4 [==============================] - 0s 25ms/step - loss: 0.5387 - acc: 0.9554 - val_loss: 0.4428 - val_acc: 0.9211\n",
      "Epoch 296/500\n",
      "4/4 [==============================] - 0s 23ms/step - loss: 0.5379 - acc: 0.9554 - val_loss: 0.4418 - val_acc: 0.9211\n",
      "Epoch 297/500\n",
      "4/4 [==============================] - 0s 21ms/step - loss: 0.5367 - acc: 0.9643 - val_loss: 0.4409 - val_acc: 0.9211\n",
      "Epoch 298/500\n",
      "4/4 [==============================] - 0s 24ms/step - loss: 0.5357 - acc: 0.9643 - val_loss: 0.4399 - val_acc: 0.9211\n",
      "Epoch 299/500\n",
      "4/4 [==============================] - 0s 23ms/step - loss: 0.5347 - acc: 0.9643 - val_loss: 0.4389 - val_acc: 0.9211\n",
      "Epoch 300/500\n",
      "4/4 [==============================] - 0s 21ms/step - loss: 0.5337 - acc: 0.9643 - val_loss: 0.4380 - val_acc: 0.9211\n",
      "Epoch 301/500\n",
      "4/4 [==============================] - 0s 20ms/step - loss: 0.5327 - acc: 0.9732 - val_loss: 0.4371 - val_acc: 0.9211\n",
      "Epoch 302/500\n",
      "4/4 [==============================] - 0s 21ms/step - loss: 0.5317 - acc: 0.9732 - val_loss: 0.4361 - val_acc: 0.9211\n",
      "Epoch 303/500\n",
      "4/4 [==============================] - 0s 22ms/step - loss: 0.5307 - acc: 0.9732 - val_loss: 0.4352 - val_acc: 0.9211\n",
      "Epoch 304/500\n",
      "4/4 [==============================] - 0s 24ms/step - loss: 0.5297 - acc: 0.9732 - val_loss: 0.4344 - val_acc: 0.9211\n",
      "Epoch 305/500\n",
      "4/4 [==============================] - 0s 25ms/step - loss: 0.5288 - acc: 0.9732 - val_loss: 0.4335 - val_acc: 0.9211\n",
      "Epoch 306/500\n",
      "4/4 [==============================] - 0s 24ms/step - loss: 0.5277 - acc: 0.9732 - val_loss: 0.4326 - val_acc: 0.9211\n",
      "Epoch 307/500\n",
      "4/4 [==============================] - 0s 22ms/step - loss: 0.5267 - acc: 0.9732 - val_loss: 0.4318 - val_acc: 0.9211\n",
      "Epoch 308/500\n",
      "4/4 [==============================] - 0s 24ms/step - loss: 0.5258 - acc: 0.9732 - val_loss: 0.4309 - val_acc: 0.9211\n",
      "Epoch 309/500\n",
      "4/4 [==============================] - 0s 25ms/step - loss: 0.5249 - acc: 0.9732 - val_loss: 0.4301 - val_acc: 0.9211\n",
      "Epoch 310/500\n",
      "4/4 [==============================] - 0s 24ms/step - loss: 0.5238 - acc: 0.9732 - val_loss: 0.4292 - val_acc: 0.9211\n",
      "Epoch 311/500\n"
     ]
    },
    {
     "name": "stdout",
     "output_type": "stream",
     "text": [
      "4/4 [==============================] - 0s 26ms/step - loss: 0.5228 - acc: 0.9732 - val_loss: 0.4283 - val_acc: 0.9211\n",
      "Epoch 312/500\n",
      "4/4 [==============================] - 0s 22ms/step - loss: 0.5218 - acc: 0.9732 - val_loss: 0.4275 - val_acc: 0.9211\n",
      "Epoch 313/500\n",
      "4/4 [==============================] - 0s 20ms/step - loss: 0.5208 - acc: 0.9732 - val_loss: 0.4265 - val_acc: 0.9211\n",
      "Epoch 314/500\n",
      "4/4 [==============================] - 0s 23ms/step - loss: 0.5199 - acc: 0.9732 - val_loss: 0.4256 - val_acc: 0.9211\n",
      "Epoch 315/500\n",
      "4/4 [==============================] - 0s 23ms/step - loss: 0.5189 - acc: 0.9732 - val_loss: 0.4247 - val_acc: 0.9211\n",
      "Epoch 316/500\n",
      "4/4 [==============================] - 0s 24ms/step - loss: 0.5181 - acc: 0.9732 - val_loss: 0.4239 - val_acc: 0.9211\n",
      "Epoch 317/500\n",
      "4/4 [==============================] - 0s 21ms/step - loss: 0.5171 - acc: 0.9732 - val_loss: 0.4228 - val_acc: 0.9211\n",
      "Epoch 318/500\n",
      "4/4 [==============================] - 0s 23ms/step - loss: 0.5160 - acc: 0.9732 - val_loss: 0.4219 - val_acc: 0.9211\n",
      "Epoch 319/500\n",
      "4/4 [==============================] - 0s 22ms/step - loss: 0.5150 - acc: 0.9732 - val_loss: 0.4210 - val_acc: 0.9211\n",
      "Epoch 320/500\n",
      "4/4 [==============================] - 0s 23ms/step - loss: 0.5140 - acc: 0.9732 - val_loss: 0.4200 - val_acc: 0.9211\n",
      "Epoch 321/500\n",
      "4/4 [==============================] - 0s 23ms/step - loss: 0.5131 - acc: 0.9732 - val_loss: 0.4191 - val_acc: 0.9211\n",
      "Epoch 322/500\n",
      "4/4 [==============================] - 0s 22ms/step - loss: 0.5121 - acc: 0.9821 - val_loss: 0.4182 - val_acc: 0.9211\n",
      "Epoch 323/500\n",
      "4/4 [==============================] - 0s 23ms/step - loss: 0.5113 - acc: 0.9821 - val_loss: 0.4173 - val_acc: 0.9211\n",
      "Epoch 324/500\n",
      "4/4 [==============================] - 0s 24ms/step - loss: 0.5104 - acc: 0.9821 - val_loss: 0.4163 - val_acc: 0.9211\n",
      "Epoch 325/500\n",
      "4/4 [==============================] - 0s 23ms/step - loss: 0.5093 - acc: 0.9821 - val_loss: 0.4155 - val_acc: 0.9211\n",
      "Epoch 326/500\n",
      "4/4 [==============================] - 0s 22ms/step - loss: 0.5083 - acc: 0.9821 - val_loss: 0.4147 - val_acc: 0.9211\n",
      "Epoch 327/500\n",
      "4/4 [==============================] - 0s 24ms/step - loss: 0.5073 - acc: 0.9821 - val_loss: 0.4138 - val_acc: 0.9211\n",
      "Epoch 328/500\n",
      "4/4 [==============================] - 0s 23ms/step - loss: 0.5063 - acc: 0.9821 - val_loss: 0.4130 - val_acc: 0.9211\n",
      "Epoch 329/500\n",
      "4/4 [==============================] - 0s 21ms/step - loss: 0.5054 - acc: 0.9821 - val_loss: 0.4121 - val_acc: 0.9211\n",
      "Epoch 330/500\n",
      "4/4 [==============================] - 0s 23ms/step - loss: 0.5045 - acc: 0.9821 - val_loss: 0.4113 - val_acc: 0.9211\n",
      "Epoch 331/500\n",
      "4/4 [==============================] - 0s 22ms/step - loss: 0.5035 - acc: 0.9821 - val_loss: 0.4105 - val_acc: 0.9211\n",
      "Epoch 332/500\n",
      "4/4 [==============================] - 0s 21ms/step - loss: 0.5024 - acc: 0.9821 - val_loss: 0.4098 - val_acc: 0.9211\n",
      "Epoch 333/500\n",
      "4/4 [==============================] - 0s 23ms/step - loss: 0.5015 - acc: 0.9821 - val_loss: 0.4091 - val_acc: 0.9211\n",
      "Epoch 334/500\n",
      "4/4 [==============================] - 0s 24ms/step - loss: 0.5006 - acc: 0.9821 - val_loss: 0.4084 - val_acc: 0.9211\n",
      "Epoch 335/500\n",
      "4/4 [==============================] - 0s 24ms/step - loss: 0.4998 - acc: 0.9821 - val_loss: 0.4077 - val_acc: 0.9211\n",
      "Epoch 336/500\n",
      "4/4 [==============================] - 0s 21ms/step - loss: 0.4988 - acc: 0.9821 - val_loss: 0.4068 - val_acc: 0.9211\n",
      "Epoch 337/500\n",
      "4/4 [==============================] - 0s 24ms/step - loss: 0.4978 - acc: 0.9821 - val_loss: 0.4058 - val_acc: 0.9211\n",
      "Epoch 338/500\n",
      "4/4 [==============================] - 0s 24ms/step - loss: 0.4968 - acc: 0.9821 - val_loss: 0.4048 - val_acc: 0.9211\n",
      "Epoch 339/500\n",
      "4/4 [==============================] - 0s 21ms/step - loss: 0.4959 - acc: 0.9821 - val_loss: 0.4040 - val_acc: 0.9211\n",
      "Epoch 340/500\n",
      "4/4 [==============================] - 0s 25ms/step - loss: 0.4949 - acc: 0.9821 - val_loss: 0.4030 - val_acc: 0.9211\n",
      "Epoch 341/500\n",
      "4/4 [==============================] - 0s 27ms/step - loss: 0.4940 - acc: 0.9821 - val_loss: 0.4021 - val_acc: 0.9211\n",
      "Epoch 342/500\n",
      "4/4 [==============================] - 0s 23ms/step - loss: 0.4930 - acc: 0.9821 - val_loss: 0.4013 - val_acc: 0.9211\n",
      "Epoch 343/500\n",
      "4/4 [==============================] - 0s 24ms/step - loss: 0.4920 - acc: 0.9821 - val_loss: 0.4005 - val_acc: 0.9211\n",
      "Epoch 344/500\n",
      "4/4 [==============================] - 0s 26ms/step - loss: 0.4911 - acc: 0.9821 - val_loss: 0.3996 - val_acc: 0.9211\n",
      "Epoch 345/500\n",
      "4/4 [==============================] - 0s 23ms/step - loss: 0.4901 - acc: 0.9821 - val_loss: 0.3988 - val_acc: 0.9211\n",
      "Epoch 346/500\n",
      "4/4 [==============================] - 0s 23ms/step - loss: 0.4892 - acc: 0.9821 - val_loss: 0.3980 - val_acc: 0.9211\n",
      "Epoch 347/500\n",
      "4/4 [==============================] - 0s 24ms/step - loss: 0.4883 - acc: 0.9821 - val_loss: 0.3973 - val_acc: 0.9211\n",
      "Epoch 348/500\n",
      "4/4 [==============================] - 0s 23ms/step - loss: 0.4873 - acc: 0.9821 - val_loss: 0.3966 - val_acc: 0.9211\n",
      "Epoch 349/500\n",
      "4/4 [==============================] - 0s 23ms/step - loss: 0.4864 - acc: 0.9821 - val_loss: 0.3959 - val_acc: 0.9211\n",
      "Epoch 350/500\n",
      "4/4 [==============================] - 0s 23ms/step - loss: 0.4855 - acc: 0.9821 - val_loss: 0.3949 - val_acc: 0.9211\n",
      "Epoch 351/500\n",
      "4/4 [==============================] - 0s 25ms/step - loss: 0.4846 - acc: 0.9821 - val_loss: 0.3940 - val_acc: 0.9211\n",
      "Epoch 352/500\n",
      "4/4 [==============================] - 0s 22ms/step - loss: 0.4836 - acc: 0.9821 - val_loss: 0.3930 - val_acc: 0.9211\n",
      "Epoch 353/500\n",
      "4/4 [==============================] - 0s 24ms/step - loss: 0.4826 - acc: 0.9821 - val_loss: 0.3922 - val_acc: 0.9211\n",
      "Epoch 354/500\n",
      "4/4 [==============================] - 0s 23ms/step - loss: 0.4816 - acc: 0.9821 - val_loss: 0.3913 - val_acc: 0.9211\n",
      "Epoch 355/500\n",
      "4/4 [==============================] - 0s 22ms/step - loss: 0.4807 - acc: 0.9821 - val_loss: 0.3903 - val_acc: 0.9211\n",
      "Epoch 356/500\n",
      "4/4 [==============================] - 0s 20ms/step - loss: 0.4797 - acc: 0.9821 - val_loss: 0.3895 - val_acc: 0.9211\n",
      "Epoch 357/500\n",
      "4/4 [==============================] - 0s 25ms/step - loss: 0.4789 - acc: 0.9821 - val_loss: 0.3886 - val_acc: 0.9211\n",
      "Epoch 358/500\n",
      "4/4 [==============================] - 0s 23ms/step - loss: 0.4778 - acc: 0.9911 - val_loss: 0.3879 - val_acc: 0.9211\n",
      "Epoch 359/500\n",
      "4/4 [==============================] - 0s 22ms/step - loss: 0.4768 - acc: 0.9821 - val_loss: 0.3871 - val_acc: 0.9211\n",
      "Epoch 360/500\n",
      "4/4 [==============================] - 0s 23ms/step - loss: 0.4760 - acc: 0.9821 - val_loss: 0.3863 - val_acc: 0.9211\n",
      "Epoch 361/500\n",
      "4/4 [==============================] - 0s 24ms/step - loss: 0.4750 - acc: 0.9821 - val_loss: 0.3855 - val_acc: 0.9211\n",
      "Epoch 362/500\n",
      "4/4 [==============================] - 0s 20ms/step - loss: 0.4740 - acc: 0.9911 - val_loss: 0.3846 - val_acc: 0.9211\n",
      "Epoch 363/500\n",
      "4/4 [==============================] - 0s 24ms/step - loss: 0.4731 - acc: 0.9911 - val_loss: 0.3838 - val_acc: 0.9211\n",
      "Epoch 364/500\n",
      "4/4 [==============================] - 0s 25ms/step - loss: 0.4721 - acc: 0.9911 - val_loss: 0.3828 - val_acc: 0.9211\n",
      "Epoch 365/500\n",
      "4/4 [==============================] - 0s 24ms/step - loss: 0.4712 - acc: 0.9911 - val_loss: 0.3819 - val_acc: 0.9211\n",
      "Epoch 366/500\n",
      "4/4 [==============================] - 0s 24ms/step - loss: 0.4704 - acc: 0.9911 - val_loss: 0.3809 - val_acc: 0.9211\n",
      "Epoch 367/500\n",
      "4/4 [==============================] - 0s 24ms/step - loss: 0.4694 - acc: 0.9911 - val_loss: 0.3800 - val_acc: 0.9211\n",
      "Epoch 368/500\n",
      "4/4 [==============================] - 0s 22ms/step - loss: 0.4684 - acc: 0.9911 - val_loss: 0.3793 - val_acc: 0.9211\n",
      "Epoch 369/500\n",
      "4/4 [==============================] - 0s 25ms/step - loss: 0.4675 - acc: 0.9911 - val_loss: 0.3786 - val_acc: 0.9211\n",
      "Epoch 370/500\n",
      "4/4 [==============================] - 0s 27ms/step - loss: 0.4666 - acc: 0.9911 - val_loss: 0.3779 - val_acc: 0.9211\n",
      "Epoch 371/500\n",
      "4/4 [==============================] - 0s 24ms/step - loss: 0.4655 - acc: 0.9911 - val_loss: 0.3770 - val_acc: 0.9211\n",
      "Epoch 372/500\n",
      "4/4 [==============================] - 0s 23ms/step - loss: 0.4646 - acc: 0.9911 - val_loss: 0.3763 - val_acc: 0.9211\n",
      "Epoch 373/500\n"
     ]
    },
    {
     "name": "stdout",
     "output_type": "stream",
     "text": [
      "4/4 [==============================] - 0s 22ms/step - loss: 0.4638 - acc: 0.9911 - val_loss: 0.3756 - val_acc: 0.9211\n",
      "Epoch 374/500\n",
      "4/4 [==============================] - 0s 23ms/step - loss: 0.4626 - acc: 0.9911 - val_loss: 0.3746 - val_acc: 0.9211\n",
      "Epoch 375/500\n",
      "4/4 [==============================] - 0s 26ms/step - loss: 0.4619 - acc: 0.9911 - val_loss: 0.3736 - val_acc: 0.9211\n",
      "Epoch 376/500\n",
      "4/4 [==============================] - 0s 29ms/step - loss: 0.4608 - acc: 0.9911 - val_loss: 0.3728 - val_acc: 0.9211\n",
      "Epoch 377/500\n",
      "4/4 [==============================] - 0s 25ms/step - loss: 0.4602 - acc: 0.9911 - val_loss: 0.3722 - val_acc: 0.9211\n",
      "Epoch 378/500\n",
      "4/4 [==============================] - 0s 26ms/step - loss: 0.4590 - acc: 0.9911 - val_loss: 0.3716 - val_acc: 0.9211\n",
      "Epoch 379/500\n",
      "4/4 [==============================] - 0s 25ms/step - loss: 0.4579 - acc: 0.9911 - val_loss: 0.3708 - val_acc: 0.9211\n",
      "Epoch 380/500\n",
      "4/4 [==============================] - 0s 22ms/step - loss: 0.4573 - acc: 0.9911 - val_loss: 0.3698 - val_acc: 0.9211\n",
      "Epoch 381/500\n",
      "4/4 [==============================] - 0s 20ms/step - loss: 0.4560 - acc: 0.9911 - val_loss: 0.3692 - val_acc: 0.9211\n",
      "Epoch 382/500\n",
      "4/4 [==============================] - 0s 22ms/step - loss: 0.4556 - acc: 0.9911 - val_loss: 0.3687 - val_acc: 0.9211\n",
      "Epoch 383/500\n",
      "4/4 [==============================] - 0s 23ms/step - loss: 0.4543 - acc: 0.9821 - val_loss: 0.3679 - val_acc: 0.9211\n",
      "Epoch 384/500\n",
      "4/4 [==============================] - 0s 22ms/step - loss: 0.4533 - acc: 0.9911 - val_loss: 0.3670 - val_acc: 0.9211\n",
      "Epoch 385/500\n",
      "4/4 [==============================] - 0s 24ms/step - loss: 0.4523 - acc: 0.9911 - val_loss: 0.3660 - val_acc: 0.9211\n",
      "Epoch 386/500\n",
      "4/4 [==============================] - 0s 22ms/step - loss: 0.4514 - acc: 0.9911 - val_loss: 0.3651 - val_acc: 0.9211\n",
      "Epoch 387/500\n",
      "4/4 [==============================] - 0s 23ms/step - loss: 0.4506 - acc: 0.9911 - val_loss: 0.3640 - val_acc: 0.9211\n",
      "Epoch 388/500\n",
      "4/4 [==============================] - 0s 25ms/step - loss: 0.4497 - acc: 0.9911 - val_loss: 0.3630 - val_acc: 0.9211\n",
      "Epoch 389/500\n",
      "4/4 [==============================] - 0s 25ms/step - loss: 0.4487 - acc: 0.9911 - val_loss: 0.3621 - val_acc: 0.9211\n",
      "Epoch 390/500\n",
      "4/4 [==============================] - 0s 24ms/step - loss: 0.4479 - acc: 0.9911 - val_loss: 0.3613 - val_acc: 0.9211\n",
      "Epoch 391/500\n",
      "4/4 [==============================] - 0s 20ms/step - loss: 0.4470 - acc: 0.9911 - val_loss: 0.3606 - val_acc: 0.9211\n",
      "Epoch 392/500\n",
      "4/4 [==============================] - 0s 22ms/step - loss: 0.4460 - acc: 0.9911 - val_loss: 0.3598 - val_acc: 0.9211\n",
      "Epoch 393/500\n",
      "4/4 [==============================] - 0s 23ms/step - loss: 0.4451 - acc: 0.9911 - val_loss: 0.3591 - val_acc: 0.9211\n",
      "Epoch 394/500\n",
      "4/4 [==============================] - 0s 22ms/step - loss: 0.4442 - acc: 0.9911 - val_loss: 0.3583 - val_acc: 0.9211\n",
      "Epoch 395/500\n",
      "4/4 [==============================] - 0s 22ms/step - loss: 0.4436 - acc: 0.9911 - val_loss: 0.3578 - val_acc: 0.9211\n",
      "Epoch 396/500\n",
      "4/4 [==============================] - 0s 21ms/step - loss: 0.4423 - acc: 0.9911 - val_loss: 0.3571 - val_acc: 0.9211\n",
      "Epoch 397/500\n",
      "4/4 [==============================] - 0s 20ms/step - loss: 0.4413 - acc: 0.9911 - val_loss: 0.3564 - val_acc: 0.9211\n",
      "Epoch 398/500\n",
      "4/4 [==============================] - 0s 23ms/step - loss: 0.4406 - acc: 0.9911 - val_loss: 0.3561 - val_acc: 0.9211\n",
      "Epoch 399/500\n",
      "4/4 [==============================] - 0s 24ms/step - loss: 0.4397 - acc: 0.9911 - val_loss: 0.3557 - val_acc: 0.9211\n",
      "Epoch 400/500\n",
      "4/4 [==============================] - 0s 23ms/step - loss: 0.4389 - acc: 0.9911 - val_loss: 0.3547 - val_acc: 0.9211\n",
      "Epoch 401/500\n",
      "4/4 [==============================] - 0s 22ms/step - loss: 0.4377 - acc: 0.9911 - val_loss: 0.3539 - val_acc: 0.9211\n",
      "Epoch 402/500\n",
      "4/4 [==============================] - 0s 26ms/step - loss: 0.4367 - acc: 0.9911 - val_loss: 0.3529 - val_acc: 0.9211\n",
      "Epoch 403/500\n",
      "4/4 [==============================] - 0s 22ms/step - loss: 0.4357 - acc: 0.9911 - val_loss: 0.3519 - val_acc: 0.9211\n",
      "Epoch 404/500\n",
      "4/4 [==============================] - 0s 19ms/step - loss: 0.4347 - acc: 0.9911 - val_loss: 0.3508 - val_acc: 0.9211\n",
      "Epoch 405/500\n",
      "4/4 [==============================] - 0s 23ms/step - loss: 0.4339 - acc: 0.9911 - val_loss: 0.3497 - val_acc: 0.9474\n",
      "Epoch 406/500\n",
      "4/4 [==============================] - 0s 24ms/step - loss: 0.4332 - acc: 0.9911 - val_loss: 0.3487 - val_acc: 0.9474\n",
      "Epoch 407/500\n",
      "4/4 [==============================] - 0s 23ms/step - loss: 0.4325 - acc: 0.9911 - val_loss: 0.3478 - val_acc: 0.9474\n",
      "Epoch 408/500\n",
      "4/4 [==============================] - 0s 24ms/step - loss: 0.4315 - acc: 0.9821 - val_loss: 0.3470 - val_acc: 0.9474\n",
      "Epoch 409/500\n",
      "4/4 [==============================] - 0s 23ms/step - loss: 0.4306 - acc: 0.9821 - val_loss: 0.3463 - val_acc: 0.9474\n",
      "Epoch 410/500\n",
      "4/4 [==============================] - 0s 22ms/step - loss: 0.4296 - acc: 0.9911 - val_loss: 0.3457 - val_acc: 0.9474\n",
      "Epoch 411/500\n",
      "4/4 [==============================] - 0s 23ms/step - loss: 0.4287 - acc: 0.9911 - val_loss: 0.3452 - val_acc: 0.9474\n",
      "Epoch 412/500\n",
      "4/4 [==============================] - 0s 23ms/step - loss: 0.4279 - acc: 0.9911 - val_loss: 0.3447 - val_acc: 0.9211\n",
      "Epoch 413/500\n",
      "4/4 [==============================] - 0s 23ms/step - loss: 0.4268 - acc: 0.9911 - val_loss: 0.3439 - val_acc: 0.9211\n",
      "Epoch 414/500\n",
      "4/4 [==============================] - 0s 23ms/step - loss: 0.4261 - acc: 0.9911 - val_loss: 0.3433 - val_acc: 0.9211\n",
      "Epoch 415/500\n",
      "4/4 [==============================] - 0s 24ms/step - loss: 0.4250 - acc: 0.9911 - val_loss: 0.3424 - val_acc: 0.9211\n",
      "Epoch 416/500\n",
      "4/4 [==============================] - 0s 23ms/step - loss: 0.4241 - acc: 0.9911 - val_loss: 0.3415 - val_acc: 0.9474\n",
      "Epoch 417/500\n",
      "4/4 [==============================] - 0s 22ms/step - loss: 0.4233 - acc: 0.9911 - val_loss: 0.3406 - val_acc: 0.9474\n",
      "Epoch 418/500\n",
      "4/4 [==============================] - 0s 25ms/step - loss: 0.4224 - acc: 0.9911 - val_loss: 0.3401 - val_acc: 0.9211\n",
      "Epoch 419/500\n",
      "4/4 [==============================] - 0s 25ms/step - loss: 0.4214 - acc: 0.9911 - val_loss: 0.3393 - val_acc: 0.9211\n",
      "Epoch 420/500\n",
      "4/4 [==============================] - 0s 20ms/step - loss: 0.4206 - acc: 0.9911 - val_loss: 0.3385 - val_acc: 0.9474\n",
      "Epoch 421/500\n",
      "4/4 [==============================] - 0s 24ms/step - loss: 0.4196 - acc: 0.9911 - val_loss: 0.3380 - val_acc: 0.9211\n",
      "Epoch 422/500\n",
      "4/4 [==============================] - 0s 23ms/step - loss: 0.4187 - acc: 0.9911 - val_loss: 0.3373 - val_acc: 0.9211\n",
      "Epoch 423/500\n",
      "4/4 [==============================] - 0s 22ms/step - loss: 0.4178 - acc: 0.9911 - val_loss: 0.3365 - val_acc: 0.9211\n",
      "Epoch 424/500\n",
      "4/4 [==============================] - 0s 24ms/step - loss: 0.4170 - acc: 0.9911 - val_loss: 0.3357 - val_acc: 0.9211\n",
      "Epoch 425/500\n",
      "4/4 [==============================] - 0s 25ms/step - loss: 0.4161 - acc: 0.9911 - val_loss: 0.3350 - val_acc: 0.9211\n",
      "Epoch 426/500\n",
      "4/4 [==============================] - 0s 23ms/step - loss: 0.4151 - acc: 0.9911 - val_loss: 0.3345 - val_acc: 0.9211\n",
      "Epoch 427/500\n",
      "4/4 [==============================] - 0s 22ms/step - loss: 0.4142 - acc: 0.9911 - val_loss: 0.3338 - val_acc: 0.9211\n",
      "Epoch 428/500\n",
      "4/4 [==============================] - 0s 24ms/step - loss: 0.4134 - acc: 0.9911 - val_loss: 0.3333 - val_acc: 0.9211\n",
      "Epoch 429/500\n",
      "4/4 [==============================] - 0s 23ms/step - loss: 0.4125 - acc: 0.9911 - val_loss: 0.3327 - val_acc: 0.9211\n",
      "Epoch 430/500\n",
      "4/4 [==============================] - 0s 21ms/step - loss: 0.4117 - acc: 0.9911 - val_loss: 0.3320 - val_acc: 0.9211\n",
      "Epoch 431/500\n",
      "4/4 [==============================] - 0s 24ms/step - loss: 0.4109 - acc: 0.9911 - val_loss: 0.3314 - val_acc: 0.9211\n",
      "Epoch 432/500\n",
      "4/4 [==============================] - 0s 23ms/step - loss: 0.4100 - acc: 0.9911 - val_loss: 0.3306 - val_acc: 0.9211\n",
      "Epoch 433/500\n",
      "4/4 [==============================] - 0s 27ms/step - loss: 0.4089 - acc: 0.9911 - val_loss: 0.3296 - val_acc: 0.9211\n",
      "Epoch 434/500\n",
      "4/4 [==============================] - 0s 22ms/step - loss: 0.4081 - acc: 0.9911 - val_loss: 0.3286 - val_acc: 0.9211\n",
      "Epoch 435/500\n"
     ]
    },
    {
     "name": "stdout",
     "output_type": "stream",
     "text": [
      "4/4 [==============================] - 0s 27ms/step - loss: 0.4072 - acc: 0.9911 - val_loss: 0.3279 - val_acc: 0.9211\n",
      "Epoch 436/500\n",
      "4/4 [==============================] - 0s 20ms/step - loss: 0.4065 - acc: 0.9911 - val_loss: 0.3273 - val_acc: 0.9211\n",
      "Epoch 437/500\n",
      "4/4 [==============================] - 0s 25ms/step - loss: 0.4056 - acc: 0.9911 - val_loss: 0.3264 - val_acc: 0.9211\n",
      "Epoch 438/500\n",
      "4/4 [==============================] - 0s 22ms/step - loss: 0.4046 - acc: 0.9911 - val_loss: 0.3256 - val_acc: 0.9474\n",
      "Epoch 439/500\n",
      "4/4 [==============================] - 0s 21ms/step - loss: 0.4037 - acc: 0.9911 - val_loss: 0.3247 - val_acc: 0.9474\n",
      "Epoch 440/500\n",
      "4/4 [==============================] - 0s 24ms/step - loss: 0.4029 - acc: 0.9911 - val_loss: 0.3240 - val_acc: 0.9474\n",
      "Epoch 441/500\n",
      "4/4 [==============================] - 0s 24ms/step - loss: 0.4020 - acc: 0.9911 - val_loss: 0.3231 - val_acc: 0.9474\n",
      "Epoch 442/500\n",
      "4/4 [==============================] - 0s 20ms/step - loss: 0.4013 - acc: 0.9911 - val_loss: 0.3224 - val_acc: 0.9474\n",
      "Epoch 443/500\n",
      "4/4 [==============================] - 0s 22ms/step - loss: 0.4004 - acc: 0.9911 - val_loss: 0.3219 - val_acc: 0.9474\n",
      "Epoch 444/500\n",
      "4/4 [==============================] - 0s 24ms/step - loss: 0.3998 - acc: 0.9911 - val_loss: 0.3215 - val_acc: 0.9211\n",
      "Epoch 445/500\n",
      "4/4 [==============================] - 0s 22ms/step - loss: 0.3987 - acc: 0.9911 - val_loss: 0.3207 - val_acc: 0.9474\n",
      "Epoch 446/500\n",
      "4/4 [==============================] - 0s 21ms/step - loss: 0.3977 - acc: 0.9911 - val_loss: 0.3202 - val_acc: 0.9211\n",
      "Epoch 447/500\n",
      "4/4 [==============================] - 0s 22ms/step - loss: 0.3970 - acc: 0.9911 - val_loss: 0.3198 - val_acc: 0.9211\n",
      "Epoch 448/500\n",
      "4/4 [==============================] - 0s 24ms/step - loss: 0.3960 - acc: 0.9911 - val_loss: 0.3190 - val_acc: 0.9211\n",
      "Epoch 449/500\n",
      "4/4 [==============================] - 0s 19ms/step - loss: 0.3952 - acc: 0.9911 - val_loss: 0.3182 - val_acc: 0.9211\n",
      "Epoch 450/500\n",
      "4/4 [==============================] - 0s 25ms/step - loss: 0.3944 - acc: 0.9911 - val_loss: 0.3173 - val_acc: 0.9474\n",
      "Epoch 451/500\n",
      "4/4 [==============================] - 0s 24ms/step - loss: 0.3935 - acc: 0.9911 - val_loss: 0.3166 - val_acc: 0.9474\n",
      "Epoch 452/500\n",
      "4/4 [==============================] - 0s 23ms/step - loss: 0.3926 - acc: 0.9911 - val_loss: 0.3159 - val_acc: 0.9474\n",
      "Epoch 453/500\n",
      "4/4 [==============================] - 0s 22ms/step - loss: 0.3918 - acc: 0.9911 - val_loss: 0.3153 - val_acc: 0.9211\n",
      "Epoch 454/500\n",
      "4/4 [==============================] - 0s 23ms/step - loss: 0.3909 - acc: 0.9911 - val_loss: 0.3147 - val_acc: 0.9211\n",
      "Epoch 455/500\n",
      "4/4 [==============================] - 0s 22ms/step - loss: 0.3900 - acc: 0.9911 - val_loss: 0.3140 - val_acc: 0.9211\n",
      "Epoch 456/500\n",
      "4/4 [==============================] - 0s 24ms/step - loss: 0.3893 - acc: 0.9911 - val_loss: 0.3133 - val_acc: 0.9211\n",
      "Epoch 457/500\n",
      "4/4 [==============================] - 0s 23ms/step - loss: 0.3884 - acc: 0.9911 - val_loss: 0.3126 - val_acc: 0.9211\n",
      "Epoch 458/500\n",
      "4/4 [==============================] - 0s 23ms/step - loss: 0.3875 - acc: 0.9911 - val_loss: 0.3119 - val_acc: 0.9211\n",
      "Epoch 459/500\n",
      "4/4 [==============================] - 0s 22ms/step - loss: 0.3869 - acc: 0.9911 - val_loss: 0.3115 - val_acc: 0.9211\n",
      "Epoch 460/500\n",
      "4/4 [==============================] - 0s 27ms/step - loss: 0.3858 - acc: 0.9911 - val_loss: 0.3107 - val_acc: 0.9211\n",
      "Epoch 461/500\n",
      "4/4 [==============================] - 0s 26ms/step - loss: 0.3850 - acc: 0.9911 - val_loss: 0.3100 - val_acc: 0.9211\n",
      "Epoch 462/500\n",
      "4/4 [==============================] - 0s 24ms/step - loss: 0.3842 - acc: 0.9911 - val_loss: 0.3094 - val_acc: 0.9211\n",
      "Epoch 463/500\n",
      "4/4 [==============================] - 0s 22ms/step - loss: 0.3833 - acc: 0.9911 - val_loss: 0.3086 - val_acc: 0.9211\n",
      "Epoch 464/500\n",
      "4/4 [==============================] - 0s 22ms/step - loss: 0.3825 - acc: 0.9911 - val_loss: 0.3079 - val_acc: 0.9211\n",
      "Epoch 465/500\n",
      "4/4 [==============================] - 0s 22ms/step - loss: 0.3819 - acc: 0.9911 - val_loss: 0.3069 - val_acc: 0.9474\n",
      "Epoch 466/500\n",
      "4/4 [==============================] - 0s 23ms/step - loss: 0.3810 - acc: 0.9911 - val_loss: 0.3061 - val_acc: 0.9474\n",
      "Epoch 467/500\n",
      "4/4 [==============================] - 0s 23ms/step - loss: 0.3800 - acc: 0.9911 - val_loss: 0.3058 - val_acc: 0.9474\n",
      "Epoch 468/500\n",
      "4/4 [==============================] - 0s 23ms/step - loss: 0.3792 - acc: 0.9911 - val_loss: 0.3054 - val_acc: 0.9211\n",
      "Epoch 469/500\n",
      "4/4 [==============================] - 0s 27ms/step - loss: 0.3785 - acc: 0.9911 - val_loss: 0.3049 - val_acc: 0.9211\n",
      "Epoch 470/500\n",
      "4/4 [==============================] - 0s 24ms/step - loss: 0.3776 - acc: 0.9911 - val_loss: 0.3042 - val_acc: 0.9211\n",
      "Epoch 471/500\n",
      "4/4 [==============================] - 0s 23ms/step - loss: 0.3768 - acc: 0.9911 - val_loss: 0.3036 - val_acc: 0.9211\n",
      "Epoch 472/500\n",
      "4/4 [==============================] - 0s 23ms/step - loss: 0.3759 - acc: 0.9911 - val_loss: 0.3027 - val_acc: 0.9211\n",
      "Epoch 473/500\n",
      "4/4 [==============================] - 0s 25ms/step - loss: 0.3751 - acc: 0.9911 - val_loss: 0.3020 - val_acc: 0.9474\n",
      "Epoch 474/500\n",
      "4/4 [==============================] - 0s 26ms/step - loss: 0.3745 - acc: 0.9911 - val_loss: 0.3010 - val_acc: 0.9474\n",
      "Epoch 475/500\n",
      "4/4 [==============================] - 0s 22ms/step - loss: 0.3735 - acc: 0.9911 - val_loss: 0.3004 - val_acc: 0.9474\n",
      "Epoch 476/500\n",
      "4/4 [==============================] - 0s 26ms/step - loss: 0.3726 - acc: 0.9911 - val_loss: 0.2998 - val_acc: 0.9474\n",
      "Epoch 477/500\n",
      "4/4 [==============================] - 0s 22ms/step - loss: 0.3718 - acc: 0.9911 - val_loss: 0.2993 - val_acc: 0.9474\n",
      "Epoch 478/500\n",
      "4/4 [==============================] - 0s 22ms/step - loss: 0.3710 - acc: 0.9911 - val_loss: 0.2989 - val_acc: 0.9211\n",
      "Epoch 479/500\n",
      "4/4 [==============================] - 0s 23ms/step - loss: 0.3701 - acc: 0.9911 - val_loss: 0.2984 - val_acc: 0.9211\n",
      "Epoch 480/500\n",
      "4/4 [==============================] - 0s 25ms/step - loss: 0.3694 - acc: 0.9911 - val_loss: 0.2980 - val_acc: 0.9211\n",
      "Epoch 481/500\n",
      "4/4 [==============================] - 0s 21ms/step - loss: 0.3686 - acc: 0.9911 - val_loss: 0.2976 - val_acc: 0.9211\n",
      "Epoch 482/500\n",
      "4/4 [==============================] - 0s 21ms/step - loss: 0.3678 - acc: 0.9911 - val_loss: 0.2970 - val_acc: 0.9211\n",
      "Epoch 483/500\n",
      "4/4 [==============================] - 0s 25ms/step - loss: 0.3670 - acc: 0.9911 - val_loss: 0.2963 - val_acc: 0.9211\n",
      "Epoch 484/500\n",
      "4/4 [==============================] - 0s 24ms/step - loss: 0.3662 - acc: 0.9911 - val_loss: 0.2955 - val_acc: 0.9211\n",
      "Epoch 485/500\n",
      "4/4 [==============================] - 0s 22ms/step - loss: 0.3653 - acc: 0.9911 - val_loss: 0.2950 - val_acc: 0.9211\n",
      "Epoch 486/500\n",
      "4/4 [==============================] - 0s 23ms/step - loss: 0.3646 - acc: 0.9911 - val_loss: 0.2945 - val_acc: 0.9211\n",
      "Epoch 487/500\n",
      "4/4 [==============================] - 0s 24ms/step - loss: 0.3638 - acc: 0.9911 - val_loss: 0.2937 - val_acc: 0.9211\n",
      "Epoch 488/500\n",
      "4/4 [==============================] - 0s 23ms/step - loss: 0.3629 - acc: 0.9911 - val_loss: 0.2930 - val_acc: 0.9211\n",
      "Epoch 489/500\n",
      "4/4 [==============================] - 0s 22ms/step - loss: 0.3621 - acc: 0.9911 - val_loss: 0.2922 - val_acc: 0.9211\n",
      "Epoch 490/500\n",
      "4/4 [==============================] - 0s 23ms/step - loss: 0.3615 - acc: 0.9911 - val_loss: 0.2909 - val_acc: 0.9474\n",
      "Epoch 491/500\n",
      "4/4 [==============================] - 0s 22ms/step - loss: 0.3606 - acc: 0.9911 - val_loss: 0.2902 - val_acc: 0.9474\n",
      "Epoch 492/500\n",
      "4/4 [==============================] - 0s 22ms/step - loss: 0.3598 - acc: 0.9911 - val_loss: 0.2891 - val_acc: 0.9474\n",
      "Epoch 493/500\n",
      "4/4 [==============================] - 0s 24ms/step - loss: 0.3591 - acc: 0.9911 - val_loss: 0.2883 - val_acc: 0.9474\n",
      "Epoch 494/500\n",
      "4/4 [==============================] - 0s 23ms/step - loss: 0.3582 - acc: 0.9911 - val_loss: 0.2878 - val_acc: 0.9474\n",
      "Epoch 495/500\n",
      "4/4 [==============================] - 0s 23ms/step - loss: 0.3574 - acc: 0.9911 - val_loss: 0.2875 - val_acc: 0.9474\n",
      "Epoch 496/500\n",
      "4/4 [==============================] - 0s 22ms/step - loss: 0.3567 - acc: 0.9911 - val_loss: 0.2873 - val_acc: 0.9474\n",
      "Epoch 497/500\n"
     ]
    },
    {
     "name": "stdout",
     "output_type": "stream",
     "text": [
      "4/4 [==============================] - 0s 21ms/step - loss: 0.3558 - acc: 0.9911 - val_loss: 0.2868 - val_acc: 0.9474\n",
      "Epoch 498/500\n",
      "4/4 [==============================] - 0s 21ms/step - loss: 0.3549 - acc: 0.9911 - val_loss: 0.2862 - val_acc: 0.9474\n",
      "Epoch 499/500\n",
      "4/4 [==============================] - 0s 22ms/step - loss: 0.3543 - acc: 0.9911 - val_loss: 0.2853 - val_acc: 0.9474\n",
      "Epoch 500/500\n",
      "4/4 [==============================] - 0s 21ms/step - loss: 0.3536 - acc: 0.9911 - val_loss: 0.2846 - val_acc: 0.9474\n"
     ]
    },
    {
     "data": {
      "text/plain": [
       "<keras.callbacks.History at 0x2284eb76700>"
      ]
     },
     "execution_count": 178,
     "metadata": {},
     "output_type": "execute_result"
    }
   ],
   "source": [
    "model.fit(X_train, y_train_oh, epochs=500, validation_data=[X_test, y_test_oh])"
   ]
  },
  {
   "cell_type": "code",
   "execution_count": null,
   "id": "722ae4b5",
   "metadata": {},
   "outputs": [],
   "source": []
  },
  {
   "cell_type": "code",
   "execution_count": 179,
   "id": "964db5de",
   "metadata": {},
   "outputs": [
    {
     "data": {
      "text/plain": [
       "<matplotlib.legend.Legend at 0x2284edf0310>"
      ]
     },
     "execution_count": 179,
     "metadata": {},
     "output_type": "execute_result"
    },
    {
     "data": {
      "image/png": "[encoded data removed]",
      "text/plain": [
       "<Figure size 720x432 with 2 Axes>"
      ]
     },
     "metadata": {
      "needs_background": "light"
     },
     "output_type": "display_data"
    }
   ],
   "source": [
    "plt.figure(figsize=[10,6])\n",
    "\n",
    "plt.subplot(1,2,1)\n",
    "plt.plot(model.history.history['loss'])\n",
    "plt.plot(model.history.history['val_loss'])\n",
    "plt.legend(['loss', 'val_loss'])\n",
    "\n",
    "plt.subplot(1,2,2)\n",
    "plt.plot(model.history.history['acc'])\n",
    "plt.plot(model.history.history['val_acc'])\n",
    "plt.legend(['acc', 'val_acc'])"
   ]
  },
  {
   "cell_type": "code",
   "execution_count": 180,
   "id": "feeb08a4",
   "metadata": {},
   "outputs": [
    {
     "name": "stdout",
     "output_type": "stream",
     "text": [
      "2/2 [==============================] - 0s 5ms/step\n"
     ]
    },
    {
     "data": {
      "text/plain": [
       "array([[0.05897644, 0.6484016 , 0.2926219 ],\n",
       "       [0.01454655, 0.33614385, 0.6493096 ],\n",
       "       [0.01952513, 0.3898916 , 0.5905833 ],\n",
       "       [0.02413998, 0.42899948, 0.5468606 ],\n",
       "       [0.9328308 , 0.06237365, 0.00479543],\n",
       "       [0.9303834 , 0.06453675, 0.00507996],\n",
       "       [0.9452796 , 0.05091619, 0.00380422],\n",
       "       [0.01272945, 0.3119755 , 0.67529505],\n",
       "       [0.04043254, 0.57350296, 0.3860645 ],\n",
       "       [0.02849884, 0.49200365, 0.4794975 ],\n",
       "       [0.06516793, 0.6463577 , 0.28847438],\n",
       "       [0.01021575, 0.26903972, 0.72074455],\n",
       "       [0.9323765 , 0.06253683, 0.00508666],\n",
       "       [0.01839267, 0.3932597 , 0.5883476 ],\n",
       "       [0.9537782 , 0.04309437, 0.00312744],\n",
       "       [0.94023937, 0.05548416, 0.00427653],\n",
       "       [0.01434217, 0.33148214, 0.6541757 ],\n",
       "       [0.14740896, 0.6809442 , 0.17164685],\n",
       "       [0.9384481 , 0.05718765, 0.00436424],\n",
       "       [0.92076164, 0.07339947, 0.00583883],\n",
       "       [0.0111209 , 0.2856237 , 0.70325536],\n",
       "       [0.01081484, 0.2795417 , 0.7096435 ],\n",
       "       [0.07951044, 0.6653449 , 0.2551447 ],\n",
       "       [0.06374155, 0.6525168 , 0.28374165],\n",
       "       [0.02001387, 0.40552542, 0.57446074],\n",
       "       [0.94225615, 0.05371437, 0.00402944],\n",
       "       [0.9213961 , 0.07282526, 0.00577872],\n",
       "       [0.9520224 , 0.04478055, 0.00319712],\n",
       "       [0.94277424, 0.05320285, 0.00402286],\n",
       "       [0.11817385, 0.68158746, 0.20023869],\n",
       "       [0.1925824 , 0.6493702 , 0.15804748],\n",
       "       [0.9308158 , 0.0642067 , 0.00497748],\n",
       "       [0.9561635 , 0.04088636, 0.00295009],\n",
       "       [0.937528  , 0.05803216, 0.00443988],\n",
       "       [0.9440964 , 0.05196186, 0.0039418 ],\n",
       "       [0.92427325, 0.07002047, 0.00570624],\n",
       "       [0.01411444, 0.32604647, 0.6598391 ],\n",
       "       [0.9401632 , 0.05550875, 0.00432806]], dtype=float32)"
      ]
     },
     "execution_count": 180,
     "metadata": {},
     "output_type": "execute_result"
    }
   ],
   "source": [
    "y_pred = model.predict(X_test)\n",
    "y_pred"
   ]
  },
  {
   "cell_type": "code",
   "execution_count": 181,
   "id": "c19bae70",
   "metadata": {},
   "outputs": [
    {
     "data": {
      "text/plain": [
       "array([1, 2, 2, 2, 0, 0, 0, 2, 1, 1, 1, 2, 0, 2, 0, 0, 2, 1, 0, 0, 2, 2,\n",
       "       1, 1, 2, 0, 0, 0, 0, 1, 1, 0, 0, 0, 0, 0, 2, 0], dtype=int64)"
      ]
     },
     "execution_count": 181,
     "metadata": {},
     "output_type": "execute_result"
    }
   ],
   "source": [
    "y_pred.argmax(axis=1)"
   ]
  },
  {
   "cell_type": "code",
   "execution_count": 182,
   "id": "593cd832",
   "metadata": {},
   "outputs": [
    {
     "data": {
      "text/plain": [
       "array([1, 2, 2, 1, 0, 0, 0, 2, 1, 1, 1, 2, 0, 2, 0, 0, 2, 1, 0, 0, 2, 2,\n",
       "       1, 1, 1, 0, 0, 0, 0, 1, 1, 0, 0, 0, 0, 0, 2, 0])"
      ]
     },
     "execution_count": 182,
     "metadata": {},
     "output_type": "execute_result"
    }
   ],
   "source": [
    "y_test"
   ]
  },
  {
   "cell_type": "code",
   "execution_count": 183,
   "id": "bf490786",
   "metadata": {},
   "outputs": [
    {
     "data": {
      "text/plain": [
       "(array([ 3, 24], dtype=int64),)"
      ]
     },
     "execution_count": 183,
     "metadata": {},
     "output_type": "execute_result"
    }
   ],
   "source": [
    "np.where(y_test != y_pred.argmax(axis=1))"
   ]
  },
  {
   "cell_type": "code",
   "execution_count": 196,
   "id": "313bf4a8",
   "metadata": {},
   "outputs": [
    {
     "data": {
      "text/plain": [
       "<matplotlib.collections.PathCollection at 0x22850389520>"
      ]
     },
     "execution_count": 196,
     "metadata": {},
     "output_type": "execute_result"
    },
    {
     "data": {
      "image/png": "[encoded data removed]",
      "text/plain": [
       "<Figure size 432x288 with 1 Axes>"
      ]
     },
     "metadata": {
      "needs_background": "light"
     },
     "output_type": "display_data"
    }
   ],
   "source": [
    "plt.scatter(X_test[[3,24], 1], X_test[[3,24], 2], c='r', marker='*', s=200)\n",
    "plt.scatter(X_test[:, 1], X_test[:, 2], c=y_test)"
   ]
  }
 ],
 "metadata": {
  "kernelspec": {
   "display_name": "Python 3",
   "language": "python",
   "name": "python3"
  },
  "language_info": {
   "codemirror_mode": {
    "name": "ipython",
    "version": 3
   },
   "file_extension": ".py",
   "mimetype": "text/x-python",
   "name": "python",
   "nbconvert_exporter": "python",
   "pygments_lexer": "ipython3",
   "version": "3.8.8"
  }
 },
 "nbformat": 4,
 "nbformat_minor": 5
}
